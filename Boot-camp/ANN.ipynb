{
 "cells": [
  {
   "cell_type": "code",
   "execution_count": 6,
   "metadata": {},
   "outputs": [],
   "source": [
    "import numpy as np\n",
    "import pandas as pd\n",
    "import tensorflow as tf\n",
    "from sklearn.preprocessing import LabelEncoder\n",
    "from sklearn.compose import ColumnTransformer\n",
    "from sklearn.preprocessing import OneHotEncoder\n",
    "from sklearn.preprocessing import StandardScaler\n",
    "from sklearn.model_selection import train_test_split"
   ]
  },
  {
   "cell_type": "code",
   "execution_count": 7,
   "metadata": {},
   "outputs": [],
   "source": [
    "dataset = pd.read_csv('Data/Churn_Modelling.csv')\n",
    "X = dataset.iloc[:, 3:-1].values\n",
    "y = dataset.iloc[:, -1].values"
   ]
  },
  {
   "cell_type": "markdown",
   "metadata": {},
   "source": [
    "# データの前処理"
   ]
  },
  {
   "cell_type": "code",
   "execution_count": null,
   "metadata": {},
   "outputs": [],
   "source": [
    "## カテゴリ変数のエンコーディング\n",
    "#\"Gender\"列をエンコーディング\n",
    "le = LabelEncoder()\n",
    "X[:, 2] = le.fit_transform(X[:, 2])\n",
    "#\"Geography\"列をエンコーディング\n",
    "ct = ColumnTransformer(transformers=[('encoder', OneHotEncoder(), [1])], remainder='passthrough')\n",
    "X = np.array(ct.fit_transform(X))\n",
    "# フィーチャースケーリング\n",
    "sc = StandardScaler()\n",
    "X = sc.fit_transform(X)\n",
    "# 訓練データとテストデータに分割\n",
    "X_train, X_test, y_train, y_test = train_test_split(X, y, test_size = 0.2, random_state = 0)"
   ]
  },
  {
   "cell_type": "markdown",
   "metadata": {},
   "source": [
    "# ANNの構築"
   ]
  },
  {
   "cell_type": "code",
   "execution_count": 10,
   "metadata": {},
   "outputs": [],
   "source": [
    "ann = tf.keras.models.Sequential() # Sequentialモデルを作成"
   ]
  },
  {
   "cell_type": "code",
   "execution_count": 11,
   "metadata": {},
   "outputs": [],
   "source": [
    "ann.add(tf.keras.layers.Dense(units=6, activation='relu')) # 入力層と１つ目の隠れ層を追加"
   ]
  },
  {
   "cell_type": "code",
   "execution_count": 12,
   "metadata": {},
   "outputs": [],
   "source": [
    "ann.add(tf.keras.layers.Dense(units=6, activation='relu')) # ２つ目の隠れ層を追加"
   ]
  },
  {
   "cell_type": "code",
   "execution_count": 13,
   "metadata": {},
   "outputs": [],
   "source": [
    "ann.add(tf.keras.layers.Dense(units=1, activation='sigmoid')) # 出力層を追加"
   ]
  },
  {
   "cell_type": "markdown",
   "metadata": {},
   "source": [
    "## 学習方法を設定"
   ]
  },
  {
   "cell_type": "code",
   "execution_count": 15,
   "metadata": {},
   "outputs": [],
   "source": [
    "ann.compile(optimizer='adam', loss='binary_crossentropy', metrics=['accuracy']) # モデルのコンパイル\n",
    "# (optimizer='最適化アルゴリズム'、loss='損失関数'、metrics=['評価指標'])\n",
    "\n",
    "# optimizer: 'adam'は最適化アルゴリズムの一つで、勾配降下法を用いてモデルの重みを更新します。\n",
    "# loss: 'binary_crossentropy'は2クラス分類のための損失関数で、モデルの予測と実際のラベルとの誤差を計算します。\n",
    "# metrics: ['accuracy']はモデルの性能を評価するための指標で、正解率を計算します。"
   ]
  },
  {
   "cell_type": "markdown",
   "metadata": {},
   "source": [
    "# 学習を実行"
   ]
  },
  {
   "cell_type": "code",
   "execution_count": 16,
   "metadata": {},
   "outputs": [
    {
     "name": "stdout",
     "output_type": "stream",
     "text": [
      "Epoch 1/100\n",
      "250/250 [==============================] - 1s 929us/step - loss: 0.7187 - accuracy: 0.5739\n",
      "Epoch 2/100\n",
      "250/250 [==============================] - 0s 961us/step - loss: 0.5220 - accuracy: 0.7952\n",
      "Epoch 3/100\n",
      "250/250 [==============================] - 0s 929us/step - loss: 0.4473 - accuracy: 0.8067\n",
      "Epoch 4/100\n",
      "250/250 [==============================] - 0s 1ms/step - loss: 0.4168 - accuracy: 0.8173\n",
      "Epoch 5/100\n",
      "250/250 [==============================] - 0s 1ms/step - loss: 0.3991 - accuracy: 0.8259\n",
      "Epoch 6/100\n",
      "250/250 [==============================] - 0s 995us/step - loss: 0.3868 - accuracy: 0.8334\n",
      "Epoch 7/100\n",
      "250/250 [==============================] - 0s 908us/step - loss: 0.3774 - accuracy: 0.8394\n",
      "Epoch 8/100\n",
      "250/250 [==============================] - 0s 989us/step - loss: 0.3708 - accuracy: 0.8431\n",
      "Epoch 9/100\n",
      "250/250 [==============================] - 0s 1ms/step - loss: 0.3659 - accuracy: 0.8445\n",
      "Epoch 10/100\n",
      "250/250 [==============================] - 0s 965us/step - loss: 0.3633 - accuracy: 0.8466\n",
      "Epoch 11/100\n",
      "250/250 [==============================] - 0s 965us/step - loss: 0.3607 - accuracy: 0.8484\n",
      "Epoch 12/100\n",
      "250/250 [==============================] - 0s 999us/step - loss: 0.3594 - accuracy: 0.8468\n",
      "Epoch 13/100\n",
      "250/250 [==============================] - 0s 933us/step - loss: 0.3579 - accuracy: 0.8489\n",
      "Epoch 14/100\n",
      "250/250 [==============================] - 0s 879us/step - loss: 0.3577 - accuracy: 0.8495\n",
      "Epoch 15/100\n",
      "250/250 [==============================] - 0s 965us/step - loss: 0.3565 - accuracy: 0.8481\n",
      "Epoch 16/100\n",
      "250/250 [==============================] - 0s 1ms/step - loss: 0.3556 - accuracy: 0.8487\n",
      "Epoch 17/100\n",
      "250/250 [==============================] - 0s 1ms/step - loss: 0.3551 - accuracy: 0.8495\n",
      "Epoch 18/100\n",
      "250/250 [==============================] - 0s 957us/step - loss: 0.3545 - accuracy: 0.8505\n",
      "Epoch 19/100\n",
      "250/250 [==============================] - 0s 941us/step - loss: 0.3541 - accuracy: 0.8491\n",
      "Epoch 20/100\n",
      "250/250 [==============================] - 0s 890us/step - loss: 0.3534 - accuracy: 0.8499\n",
      "Epoch 21/100\n",
      "250/250 [==============================] - 0s 874us/step - loss: 0.3525 - accuracy: 0.8515\n",
      "Epoch 22/100\n",
      "250/250 [==============================] - 0s 949us/step - loss: 0.3516 - accuracy: 0.8531\n",
      "Epoch 23/100\n",
      "250/250 [==============================] - 0s 947us/step - loss: 0.3516 - accuracy: 0.8519\n",
      "Epoch 24/100\n",
      "250/250 [==============================] - 0s 926us/step - loss: 0.3505 - accuracy: 0.8525\n",
      "Epoch 25/100\n",
      "250/250 [==============================] - 0s 890us/step - loss: 0.3500 - accuracy: 0.8549\n",
      "Epoch 26/100\n",
      "250/250 [==============================] - 0s 876us/step - loss: 0.3494 - accuracy: 0.8543\n",
      "Epoch 27/100\n",
      "250/250 [==============================] - 0s 874us/step - loss: 0.3490 - accuracy: 0.8549\n",
      "Epoch 28/100\n",
      "250/250 [==============================] - 0s 919us/step - loss: 0.3483 - accuracy: 0.8546\n",
      "Epoch 29/100\n",
      "250/250 [==============================] - 0s 894us/step - loss: 0.3482 - accuracy: 0.8553\n",
      "Epoch 30/100\n",
      "250/250 [==============================] - 0s 917us/step - loss: 0.3476 - accuracy: 0.8565\n",
      "Epoch 31/100\n",
      "250/250 [==============================] - 0s 890us/step - loss: 0.3466 - accuracy: 0.8558\n",
      "Epoch 32/100\n",
      "250/250 [==============================] - 0s 877us/step - loss: 0.3461 - accuracy: 0.8589\n",
      "Epoch 33/100\n",
      "250/250 [==============================] - 0s 921us/step - loss: 0.3457 - accuracy: 0.8591\n",
      "Epoch 34/100\n",
      "250/250 [==============================] - 0s 884us/step - loss: 0.3455 - accuracy: 0.8600\n",
      "Epoch 35/100\n",
      "250/250 [==============================] - 0s 886us/step - loss: 0.3445 - accuracy: 0.8618\n",
      "Epoch 36/100\n",
      "250/250 [==============================] - 0s 924us/step - loss: 0.3445 - accuracy: 0.8602\n",
      "Epoch 37/100\n",
      "250/250 [==============================] - 0s 951us/step - loss: 0.3441 - accuracy: 0.8620\n",
      "Epoch 38/100\n",
      "250/250 [==============================] - 0s 880us/step - loss: 0.3436 - accuracy: 0.8599\n",
      "Epoch 39/100\n",
      "250/250 [==============================] - 0s 872us/step - loss: 0.3431 - accuracy: 0.8620\n",
      "Epoch 40/100\n",
      "250/250 [==============================] - 0s 868us/step - loss: 0.3423 - accuracy: 0.8609\n",
      "Epoch 41/100\n",
      "250/250 [==============================] - 0s 876us/step - loss: 0.3421 - accuracy: 0.8625\n",
      "Epoch 42/100\n",
      "250/250 [==============================] - 0s 876us/step - loss: 0.3417 - accuracy: 0.8618\n",
      "Epoch 43/100\n",
      "250/250 [==============================] - 0s 880us/step - loss: 0.3411 - accuracy: 0.8641\n",
      "Epoch 44/100\n",
      "250/250 [==============================] - 0s 898us/step - loss: 0.3406 - accuracy: 0.8624\n",
      "Epoch 45/100\n",
      "250/250 [==============================] - 0s 927us/step - loss: 0.3403 - accuracy: 0.8618\n",
      "Epoch 46/100\n",
      "250/250 [==============================] - 0s 898us/step - loss: 0.3396 - accuracy: 0.8648\n",
      "Epoch 47/100\n",
      "250/250 [==============================] - 0s 910us/step - loss: 0.3393 - accuracy: 0.8643\n",
      "Epoch 48/100\n",
      "250/250 [==============================] - 0s 967us/step - loss: 0.3386 - accuracy: 0.8615\n",
      "Epoch 49/100\n",
      "250/250 [==============================] - 0s 895us/step - loss: 0.3383 - accuracy: 0.8620\n",
      "Epoch 50/100\n",
      "250/250 [==============================] - 0s 892us/step - loss: 0.3381 - accuracy: 0.8619\n",
      "Epoch 51/100\n",
      "250/250 [==============================] - 0s 882us/step - loss: 0.3371 - accuracy: 0.8633\n",
      "Epoch 52/100\n",
      "250/250 [==============================] - 0s 859us/step - loss: 0.3373 - accuracy: 0.8620\n",
      "Epoch 53/100\n",
      "250/250 [==============================] - 0s 910us/step - loss: 0.3369 - accuracy: 0.8624\n",
      "Epoch 54/100\n",
      "250/250 [==============================] - 0s 1ms/step - loss: 0.3364 - accuracy: 0.8633\n",
      "Epoch 55/100\n",
      "250/250 [==============================] - 0s 960us/step - loss: 0.3364 - accuracy: 0.8626\n",
      "Epoch 56/100\n",
      "250/250 [==============================] - 0s 913us/step - loss: 0.3361 - accuracy: 0.8619\n",
      "Epoch 57/100\n",
      "250/250 [==============================] - 0s 969us/step - loss: 0.3355 - accuracy: 0.8629\n",
      "Epoch 58/100\n",
      "250/250 [==============================] - 0s 884us/step - loss: 0.3355 - accuracy: 0.8620\n",
      "Epoch 59/100\n",
      "250/250 [==============================] - 0s 908us/step - loss: 0.3347 - accuracy: 0.8631\n",
      "Epoch 60/100\n",
      "250/250 [==============================] - 0s 1ms/step - loss: 0.3346 - accuracy: 0.8631\n",
      "Epoch 61/100\n",
      "250/250 [==============================] - 0s 906us/step - loss: 0.3338 - accuracy: 0.8626\n",
      "Epoch 62/100\n",
      "250/250 [==============================] - 0s 897us/step - loss: 0.3334 - accuracy: 0.8634\n",
      "Epoch 63/100\n",
      "250/250 [==============================] - 0s 925us/step - loss: 0.3331 - accuracy: 0.8648\n",
      "Epoch 64/100\n",
      "250/250 [==============================] - 0s 957us/step - loss: 0.3326 - accuracy: 0.8655\n",
      "Epoch 65/100\n",
      "250/250 [==============================] - 0s 900us/step - loss: 0.3322 - accuracy: 0.8650\n",
      "Epoch 66/100\n",
      "250/250 [==============================] - 0s 900us/step - loss: 0.3320 - accuracy: 0.8650\n",
      "Epoch 67/100\n",
      "250/250 [==============================] - 0s 902us/step - loss: 0.3319 - accuracy: 0.8645\n",
      "Epoch 68/100\n",
      "250/250 [==============================] - 0s 930us/step - loss: 0.3313 - accuracy: 0.8645\n",
      "Epoch 69/100\n",
      "250/250 [==============================] - 0s 1ms/step - loss: 0.3315 - accuracy: 0.8644\n",
      "Epoch 70/100\n",
      "250/250 [==============================] - 0s 906us/step - loss: 0.3312 - accuracy: 0.8637\n",
      "Epoch 71/100\n",
      "250/250 [==============================] - 0s 983us/step - loss: 0.3309 - accuracy: 0.8665\n",
      "Epoch 72/100\n",
      "250/250 [==============================] - 0s 929us/step - loss: 0.3307 - accuracy: 0.8649\n",
      "Epoch 73/100\n",
      "250/250 [==============================] - 0s 1ms/step - loss: 0.3302 - accuracy: 0.8651\n",
      "Epoch 74/100\n",
      "250/250 [==============================] - 0s 985us/step - loss: 0.3305 - accuracy: 0.8645\n",
      "Epoch 75/100\n",
      "250/250 [==============================] - 0s 981us/step - loss: 0.3301 - accuracy: 0.8664\n",
      "Epoch 76/100\n",
      "250/250 [==============================] - 0s 898us/step - loss: 0.3298 - accuracy: 0.8651\n",
      "Epoch 77/100\n",
      "250/250 [==============================] - 0s 930us/step - loss: 0.3299 - accuracy: 0.8652\n",
      "Epoch 78/100\n",
      "250/250 [==============================] - 0s 935us/step - loss: 0.3296 - accuracy: 0.8649\n",
      "Epoch 79/100\n",
      "250/250 [==============================] - 0s 981us/step - loss: 0.3297 - accuracy: 0.8650\n",
      "Epoch 80/100\n",
      "250/250 [==============================] - 0s 943us/step - loss: 0.3295 - accuracy: 0.8630\n",
      "Epoch 81/100\n",
      "250/250 [==============================] - 0s 969us/step - loss: 0.3294 - accuracy: 0.8651\n",
      "Epoch 82/100\n",
      "250/250 [==============================] - 0s 910us/step - loss: 0.3286 - accuracy: 0.8656\n",
      "Epoch 83/100\n",
      "250/250 [==============================] - 0s 914us/step - loss: 0.3287 - accuracy: 0.8674\n",
      "Epoch 84/100\n",
      "250/250 [==============================] - 0s 910us/step - loss: 0.3287 - accuracy: 0.8664\n",
      "Epoch 85/100\n",
      "250/250 [==============================] - 0s 896us/step - loss: 0.3287 - accuracy: 0.8660\n",
      "Epoch 86/100\n",
      "250/250 [==============================] - 0s 999us/step - loss: 0.3284 - accuracy: 0.8664\n",
      "Epoch 87/100\n",
      "250/250 [==============================] - 0s 925us/step - loss: 0.3289 - accuracy: 0.8659\n",
      "Epoch 88/100\n",
      "250/250 [==============================] - 0s 919us/step - loss: 0.3282 - accuracy: 0.8666\n",
      "Epoch 89/100\n",
      "250/250 [==============================] - 0s 921us/step - loss: 0.3280 - accuracy: 0.8666\n",
      "Epoch 90/100\n",
      "250/250 [==============================] - 0s 927us/step - loss: 0.3279 - accuracy: 0.8656\n",
      "Epoch 91/100\n",
      "250/250 [==============================] - 0s 931us/step - loss: 0.3278 - accuracy: 0.8669\n",
      "Epoch 92/100\n",
      "250/250 [==============================] - 0s 933us/step - loss: 0.3276 - accuracy: 0.8674\n",
      "Epoch 93/100\n",
      "250/250 [==============================] - 0s 922us/step - loss: 0.3278 - accuracy: 0.8683\n",
      "Epoch 94/100\n",
      "250/250 [==============================] - 0s 912us/step - loss: 0.3275 - accuracy: 0.8671\n",
      "Epoch 95/100\n",
      "250/250 [==============================] - 0s 906us/step - loss: 0.3280 - accuracy: 0.8664\n",
      "Epoch 96/100\n",
      "250/250 [==============================] - 0s 1ms/step - loss: 0.3278 - accuracy: 0.8683\n",
      "Epoch 97/100\n",
      "250/250 [==============================] - 0s 945us/step - loss: 0.3271 - accuracy: 0.8689\n",
      "Epoch 98/100\n",
      "250/250 [==============================] - 0s 945us/step - loss: 0.3271 - accuracy: 0.8680\n",
      "Epoch 99/100\n",
      "250/250 [==============================] - 0s 973us/step - loss: 0.3277 - accuracy: 0.8671\n",
      "Epoch 100/100\n",
      "250/250 [==============================] - 0s 904us/step - loss: 0.3271 - accuracy: 0.8670\n"
     ]
    },
    {
     "data": {
      "text/plain": [
       "<keras.callbacks.History at 0x1ac8116bf40>"
      ]
     },
     "execution_count": 16,
     "metadata": {},
     "output_type": "execute_result"
    }
   ],
   "source": [
    "ann.fit(X_train, y_train, batch_size = 32, epochs = 100)"
   ]
  },
  {
   "cell_type": "markdown",
   "metadata": {},
   "source": [
    "# 学習から得た予測、モデルの評価"
   ]
  },
  {
   "cell_type": "markdown",
   "metadata": {},
   "source": [
    "## シンプルな説明\n",
    "- **前提**: これは銀行の顧客離れを予測するAIの学習結果\n",
    "- **目的**: お客さんが銀行を辞めるかどうかを予測する\n",
    "- **使用データ**: お客さんの年齢、性別、国、残高などの情報\n",
    "- **結果**: 約87%の確率で正しく予測できるようになった\n",
    "\n",
    "## わかったこと\n",
    "- 最初は当て推量レベル（57%）だったが、学習を繰り返すと予測精度が大幅に向上\n",
    "- 30回ほど学習すると85%まで予測精度が上がり、その後はゆっくり改善\n",
    "- 2つの隠れ層を持つニューラルネットワークでも高い予測精度が得られた\n",
    "\n",
    "この人工知能モデルを使えば、銀行は「この人は解約しそうだ」と事前に予測し、対策を打つことができるようになります。"
   ]
  },
  {
   "cell_type": "markdown",
   "metadata": {},
   "source": []
  }
 ],
 "metadata": {
  "kernelspec": {
   "display_name": "ds2024",
   "language": "python",
   "name": "python3"
  },
  "language_info": {
   "codemirror_mode": {
    "name": "ipython",
    "version": 3
   },
   "file_extension": ".py",
   "mimetype": "text/x-python",
   "name": "python",
   "nbconvert_exporter": "python",
   "pygments_lexer": "ipython3",
   "version": "3.9.15"
  }
 },
 "nbformat": 4,
 "nbformat_minor": 2
}
