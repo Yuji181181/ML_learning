{
 "cells": [
  {
   "cell_type": "code",
   "execution_count": 17,
   "metadata": {},
   "outputs": [],
   "source": [
    "import numpy as np\n",
    "import pandas as pd\n",
    "import tensorflow as tf\n",
    "from sklearn.preprocessing import LabelEncoder\n",
    "from sklearn.compose import ColumnTransformer\n",
    "from sklearn.preprocessing import OneHotEncoder\n",
    "from sklearn.preprocessing import StandardScaler\n",
    "from sklearn.model_selection import train_test_split"
   ]
  },
  {
   "cell_type": "code",
   "execution_count": 18,
   "metadata": {},
   "outputs": [],
   "source": [
    "dataset = pd.read_csv('Data/Churn_Modelling.csv')\n",
    "X = dataset.iloc[:, 3:-1].values\n",
    "y = dataset.iloc[:, -1].values"
   ]
  },
  {
   "cell_type": "markdown",
   "metadata": {},
   "source": [
    "# データの前処理"
   ]
  },
  {
   "cell_type": "code",
   "execution_count": 19,
   "metadata": {},
   "outputs": [],
   "source": [
    "## カテゴリ変数のエンコーディング\n",
    "#\"Gender\"列をエンコーディング\n",
    "le = LabelEncoder()\n",
    "X[:, 2] = le.fit_transform(X[:, 2])\n",
    "#\"Geography\"列をエンコーディング\n",
    "ct = ColumnTransformer(transformers=[('encoder', OneHotEncoder(), [1])], remainder='passthrough')\n",
    "X = np.array(ct.fit_transform(X))\n",
    "# フィーチャースケーリング\n",
    "sc = StandardScaler()\n",
    "X = sc.fit_transform(X)\n",
    "# 訓練データとテストデータに分割\n",
    "X_train, X_test, y_train, y_test = train_test_split(X, y, test_size = 0.2, random_state = 0)"
   ]
  },
  {
   "cell_type": "markdown",
   "metadata": {},
   "source": [
    "# ANNの構築"
   ]
  },
  {
   "cell_type": "code",
   "execution_count": 20,
   "metadata": {},
   "outputs": [],
   "source": [
    "ann = tf.keras.models.Sequential() # Sequentialモデルを作成"
   ]
  },
  {
   "cell_type": "code",
   "execution_count": 21,
   "metadata": {},
   "outputs": [],
   "source": [
    "ann.add(tf.keras.layers.Dense(units=6, activation='relu')) # 入力層と１つ目の隠れ層を追加"
   ]
  },
  {
   "cell_type": "code",
   "execution_count": 22,
   "metadata": {},
   "outputs": [],
   "source": [
    "ann.add(tf.keras.layers.Dense(units=6, activation='relu')) # ２つ目の隠れ層を追加"
   ]
  },
  {
   "cell_type": "code",
   "execution_count": 23,
   "metadata": {},
   "outputs": [],
   "source": [
    "ann.add(tf.keras.layers.Dense(units=1, activation='sigmoid')) # 出力層を追加"
   ]
  },
  {
   "cell_type": "markdown",
   "metadata": {},
   "source": [
    "## 学習方法を設定"
   ]
  },
  {
   "cell_type": "code",
   "execution_count": 24,
   "metadata": {},
   "outputs": [],
   "source": [
    "ann.compile(optimizer='adam', loss='binary_crossentropy', metrics=['accuracy']) # モデルのコンパイル\n",
    "# (optimizer='最適化アルゴリズム'、loss='損失関数'、metrics=['評価指標'])\n",
    "\n",
    "# optimizer: 'adam'は最適化アルゴリズムの一つで、勾配降下法を用いてモデルの重みを更新します。\n",
    "# loss: 'binary_crossentropy'は2クラス分類のための損失関数で、モデルの予測と実際のラベルとの誤差を計算します。\n",
    "# metrics: ['accuracy']はモデルの性能を評価するための指標で、正解率を計算します。"
   ]
  },
  {
   "cell_type": "markdown",
   "metadata": {},
   "source": [
    "# 学習を実行"
   ]
  },
  {
   "cell_type": "code",
   "execution_count": 25,
   "metadata": {},
   "outputs": [
    {
     "name": "stdout",
     "output_type": "stream",
     "text": [
      "Epoch 1/100\n",
      "250/250 [==============================] - 1s 789us/step - loss: 0.6755 - accuracy: 0.6220\n",
      "Epoch 2/100\n",
      "250/250 [==============================] - 0s 823us/step - loss: 0.5172 - accuracy: 0.7991\n",
      "Epoch 3/100\n",
      "250/250 [==============================] - 0s 880us/step - loss: 0.4576 - accuracy: 0.8094\n",
      "Epoch 4/100\n",
      "250/250 [==============================] - 0s 942us/step - loss: 0.4391 - accuracy: 0.8117\n",
      "Epoch 5/100\n",
      "250/250 [==============================] - 0s 954us/step - loss: 0.4307 - accuracy: 0.8136\n",
      "Epoch 6/100\n",
      "250/250 [==============================] - 0s 908us/step - loss: 0.4252 - accuracy: 0.8169\n",
      "Epoch 7/100\n",
      "250/250 [==============================] - 0s 855us/step - loss: 0.4208 - accuracy: 0.8190\n",
      "Epoch 8/100\n",
      "250/250 [==============================] - 0s 847us/step - loss: 0.4167 - accuracy: 0.8229\n",
      "Epoch 9/100\n",
      "250/250 [==============================] - 0s 867us/step - loss: 0.4131 - accuracy: 0.8229\n",
      "Epoch 10/100\n",
      "250/250 [==============================] - 0s 853us/step - loss: 0.4099 - accuracy: 0.8232\n",
      "Epoch 11/100\n",
      "250/250 [==============================] - 0s 878us/step - loss: 0.4070 - accuracy: 0.8256\n",
      "Epoch 12/100\n",
      "250/250 [==============================] - 0s 867us/step - loss: 0.4044 - accuracy: 0.8236\n",
      "Epoch 13/100\n",
      "250/250 [==============================] - 0s 831us/step - loss: 0.4016 - accuracy: 0.8241\n",
      "Epoch 14/100\n",
      "250/250 [==============================] - 0s 835us/step - loss: 0.3996 - accuracy: 0.8253\n",
      "Epoch 15/100\n",
      "250/250 [==============================] - 0s 845us/step - loss: 0.3971 - accuracy: 0.8257\n",
      "Epoch 16/100\n",
      "250/250 [==============================] - 0s 878us/step - loss: 0.3955 - accuracy: 0.8263\n",
      "Epoch 17/100\n",
      "250/250 [==============================] - 0s 829us/step - loss: 0.3931 - accuracy: 0.8279\n",
      "Epoch 18/100\n",
      "250/250 [==============================] - 0s 843us/step - loss: 0.3909 - accuracy: 0.8310\n",
      "Epoch 19/100\n",
      "250/250 [==============================] - 0s 823us/step - loss: 0.3879 - accuracy: 0.8334\n",
      "Epoch 20/100\n",
      "250/250 [==============================] - 0s 827us/step - loss: 0.3848 - accuracy: 0.8351\n",
      "Epoch 21/100\n",
      "250/250 [==============================] - 0s 827us/step - loss: 0.3820 - accuracy: 0.8367\n",
      "Epoch 22/100\n",
      "250/250 [==============================] - 0s 884us/step - loss: 0.3784 - accuracy: 0.8390\n",
      "Epoch 23/100\n",
      "250/250 [==============================] - 0s 982us/step - loss: 0.3750 - accuracy: 0.8421\n",
      "Epoch 24/100\n",
      "250/250 [==============================] - 0s 990us/step - loss: 0.3713 - accuracy: 0.8451\n",
      "Epoch 25/100\n",
      "250/250 [==============================] - 0s 896us/step - loss: 0.3665 - accuracy: 0.8489\n",
      "Epoch 26/100\n",
      "250/250 [==============================] - 0s 861us/step - loss: 0.3623 - accuracy: 0.8528\n",
      "Epoch 27/100\n",
      "250/250 [==============================] - 0s 853us/step - loss: 0.3583 - accuracy: 0.8519\n",
      "Epoch 28/100\n",
      "250/250 [==============================] - 0s 942us/step - loss: 0.3549 - accuracy: 0.8535\n",
      "Epoch 29/100\n",
      "250/250 [==============================] - 0s 970us/step - loss: 0.3521 - accuracy: 0.8554\n",
      "Epoch 30/100\n",
      "250/250 [==============================] - 0s 960us/step - loss: 0.3490 - accuracy: 0.8571\n",
      "Epoch 31/100\n",
      "250/250 [==============================] - 0s 855us/step - loss: 0.3475 - accuracy: 0.8566\n",
      "Epoch 32/100\n",
      "250/250 [==============================] - 0s 851us/step - loss: 0.3449 - accuracy: 0.8591\n",
      "Epoch 33/100\n",
      "250/250 [==============================] - 0s 843us/step - loss: 0.3438 - accuracy: 0.8609\n",
      "Epoch 34/100\n",
      "250/250 [==============================] - 0s 819us/step - loss: 0.3420 - accuracy: 0.8591\n",
      "Epoch 35/100\n",
      "250/250 [==============================] - 0s 817us/step - loss: 0.3411 - accuracy: 0.8611\n",
      "Epoch 36/100\n",
      "250/250 [==============================] - 0s 853us/step - loss: 0.3400 - accuracy: 0.8616\n",
      "Epoch 37/100\n",
      "250/250 [==============================] - 0s 827us/step - loss: 0.3388 - accuracy: 0.8615\n",
      "Epoch 38/100\n",
      "250/250 [==============================] - 0s 823us/step - loss: 0.3378 - accuracy: 0.8618\n",
      "Epoch 39/100\n",
      "250/250 [==============================] - 0s 823us/step - loss: 0.3371 - accuracy: 0.8622\n",
      "Epoch 40/100\n",
      "250/250 [==============================] - 0s 827us/step - loss: 0.3364 - accuracy: 0.8629\n",
      "Epoch 41/100\n",
      "250/250 [==============================] - 0s 825us/step - loss: 0.3361 - accuracy: 0.8611\n",
      "Epoch 42/100\n",
      "250/250 [==============================] - 0s 821us/step - loss: 0.3352 - accuracy: 0.8624\n",
      "Epoch 43/100\n",
      "250/250 [==============================] - 0s 827us/step - loss: 0.3347 - accuracy: 0.8619\n",
      "Epoch 44/100\n",
      "250/250 [==============================] - 0s 867us/step - loss: 0.3340 - accuracy: 0.8639\n",
      "Epoch 45/100\n",
      "250/250 [==============================] - 0s 835us/step - loss: 0.3342 - accuracy: 0.8626\n",
      "Epoch 46/100\n",
      "250/250 [==============================] - 0s 845us/step - loss: 0.3338 - accuracy: 0.8627\n",
      "Epoch 47/100\n",
      "250/250 [==============================] - 0s 827us/step - loss: 0.3336 - accuracy: 0.8636\n",
      "Epoch 48/100\n",
      "250/250 [==============================] - 0s 837us/step - loss: 0.3332 - accuracy: 0.8640\n",
      "Epoch 49/100\n",
      "250/250 [==============================] - 0s 825us/step - loss: 0.3331 - accuracy: 0.8630\n",
      "Epoch 50/100\n",
      "250/250 [==============================] - 0s 827us/step - loss: 0.3327 - accuracy: 0.8654\n",
      "Epoch 51/100\n",
      "250/250 [==============================] - 0s 827us/step - loss: 0.3326 - accuracy: 0.8636\n",
      "Epoch 52/100\n",
      "250/250 [==============================] - 0s 827us/step - loss: 0.3324 - accuracy: 0.8645\n",
      "Epoch 53/100\n",
      "250/250 [==============================] - 0s 827us/step - loss: 0.3316 - accuracy: 0.8650\n",
      "Epoch 54/100\n",
      "250/250 [==============================] - 0s 837us/step - loss: 0.3319 - accuracy: 0.8643\n",
      "Epoch 55/100\n",
      "250/250 [==============================] - 0s 865us/step - loss: 0.3319 - accuracy: 0.8634\n",
      "Epoch 56/100\n",
      "250/250 [==============================] - 0s 845us/step - loss: 0.3319 - accuracy: 0.8651\n",
      "Epoch 57/100\n",
      "250/250 [==============================] - 0s 851us/step - loss: 0.3319 - accuracy: 0.8640\n",
      "Epoch 58/100\n",
      "250/250 [==============================] - 0s 884us/step - loss: 0.3313 - accuracy: 0.8664\n",
      "Epoch 59/100\n",
      "250/250 [==============================] - 0s 835us/step - loss: 0.3312 - accuracy: 0.8641\n",
      "Epoch 60/100\n",
      "250/250 [==============================] - 0s 831us/step - loss: 0.3312 - accuracy: 0.8629\n",
      "Epoch 61/100\n",
      "250/250 [==============================] - 0s 825us/step - loss: 0.3314 - accuracy: 0.8649\n",
      "Epoch 62/100\n",
      "250/250 [==============================] - 0s 821us/step - loss: 0.3308 - accuracy: 0.8658\n",
      "Epoch 63/100\n",
      "250/250 [==============================] - 0s 827us/step - loss: 0.3309 - accuracy: 0.8634\n",
      "Epoch 64/100\n",
      "250/250 [==============================] - 0s 831us/step - loss: 0.3309 - accuracy: 0.8644\n",
      "Epoch 65/100\n",
      "250/250 [==============================] - 0s 843us/step - loss: 0.3307 - accuracy: 0.8648\n",
      "Epoch 66/100\n",
      "250/250 [==============================] - 0s 835us/step - loss: 0.3306 - accuracy: 0.8643\n",
      "Epoch 67/100\n",
      "250/250 [==============================] - 0s 809us/step - loss: 0.3304 - accuracy: 0.8641\n",
      "Epoch 68/100\n",
      "250/250 [==============================] - 0s 825us/step - loss: 0.3304 - accuracy: 0.8641\n",
      "Epoch 69/100\n",
      "250/250 [==============================] - 0s 817us/step - loss: 0.3300 - accuracy: 0.8655\n",
      "Epoch 70/100\n",
      "250/250 [==============================] - 0s 819us/step - loss: 0.3305 - accuracy: 0.8654\n",
      "Epoch 71/100\n",
      "250/250 [==============================] - 0s 853us/step - loss: 0.3297 - accuracy: 0.8655\n",
      "Epoch 72/100\n",
      "250/250 [==============================] - 0s 896us/step - loss: 0.3305 - accuracy: 0.8655\n",
      "Epoch 73/100\n",
      "250/250 [==============================] - 0s 837us/step - loss: 0.3299 - accuracy: 0.8656\n",
      "Epoch 74/100\n",
      "250/250 [==============================] - 0s 855us/step - loss: 0.3305 - accuracy: 0.8649\n",
      "Epoch 75/100\n",
      "250/250 [==============================] - 0s 837us/step - loss: 0.3296 - accuracy: 0.8666\n",
      "Epoch 76/100\n",
      "250/250 [==============================] - 0s 819us/step - loss: 0.3298 - accuracy: 0.8660\n",
      "Epoch 77/100\n",
      "250/250 [==============================] - 0s 829us/step - loss: 0.3297 - accuracy: 0.8656\n",
      "Epoch 78/100\n",
      "250/250 [==============================] - 0s 813us/step - loss: 0.3296 - accuracy: 0.8661\n",
      "Epoch 79/100\n",
      "250/250 [==============================] - 0s 831us/step - loss: 0.3296 - accuracy: 0.8662\n",
      "Epoch 80/100\n",
      "250/250 [==============================] - 0s 821us/step - loss: 0.3292 - accuracy: 0.8651\n",
      "Epoch 81/100\n",
      "250/250 [==============================] - 0s 813us/step - loss: 0.3291 - accuracy: 0.8659\n",
      "Epoch 82/100\n",
      "250/250 [==============================] - 0s 819us/step - loss: 0.3289 - accuracy: 0.8655\n",
      "Epoch 83/100\n",
      "250/250 [==============================] - 0s 803us/step - loss: 0.3293 - accuracy: 0.8659\n",
      "Epoch 84/100\n",
      "250/250 [==============================] - 0s 819us/step - loss: 0.3294 - accuracy: 0.8661\n",
      "Epoch 85/100\n",
      "250/250 [==============================] - 0s 876us/step - loss: 0.3289 - accuracy: 0.8652\n",
      "Epoch 86/100\n",
      "250/250 [==============================] - 0s 831us/step - loss: 0.3290 - accuracy: 0.8658\n",
      "Epoch 87/100\n",
      "250/250 [==============================] - 0s 823us/step - loss: 0.3288 - accuracy: 0.8658\n",
      "Epoch 88/100\n",
      "250/250 [==============================] - 0s 819us/step - loss: 0.3296 - accuracy: 0.8646\n",
      "Epoch 89/100\n",
      "250/250 [==============================] - 0s 819us/step - loss: 0.3291 - accuracy: 0.8674\n",
      "Epoch 90/100\n",
      "250/250 [==============================] - 0s 823us/step - loss: 0.3287 - accuracy: 0.8669\n",
      "Epoch 91/100\n",
      "250/250 [==============================] - 0s 819us/step - loss: 0.3286 - accuracy: 0.8662\n",
      "Epoch 92/100\n",
      "250/250 [==============================] - 0s 827us/step - loss: 0.3286 - accuracy: 0.8652\n",
      "Epoch 93/100\n",
      "250/250 [==============================] - 0s 825us/step - loss: 0.3290 - accuracy: 0.8658\n",
      "Epoch 94/100\n",
      "250/250 [==============================] - 0s 841us/step - loss: 0.3284 - accuracy: 0.8669\n",
      "Epoch 95/100\n",
      "250/250 [==============================] - 0s 833us/step - loss: 0.3288 - accuracy: 0.8654\n",
      "Epoch 96/100\n",
      "250/250 [==============================] - 0s 829us/step - loss: 0.3289 - accuracy: 0.8650\n",
      "Epoch 97/100\n",
      "250/250 [==============================] - 0s 823us/step - loss: 0.3279 - accuracy: 0.8669\n",
      "Epoch 98/100\n",
      "250/250 [==============================] - 0s 807us/step - loss: 0.3286 - accuracy: 0.8661\n",
      "Epoch 99/100\n",
      "250/250 [==============================] - 0s 867us/step - loss: 0.3285 - accuracy: 0.8665\n",
      "Epoch 100/100\n",
      "250/250 [==============================] - 0s 833us/step - loss: 0.3283 - accuracy: 0.8645\n"
     ]
    },
    {
     "data": {
      "text/plain": [
       "<keras.callbacks.History at 0x1ac81f2a430>"
      ]
     },
     "execution_count": 25,
     "metadata": {},
     "output_type": "execute_result"
    }
   ],
   "source": [
    "ann.fit(X_train, y_train, batch_size = 32, epochs = 100)"
   ]
  },
  {
   "cell_type": "markdown",
   "metadata": {},
   "source": [
    "# 学習から得た予測、モデルの評価"
   ]
  },
  {
   "cell_type": "markdown",
   "metadata": {},
   "source": [
    "## シンプルな説明\n",
    "- **前提**: これは銀行の顧客離れを予測するAIの学習結果\n",
    "- **目的**: お客さんが銀行を辞めるかどうかを予測する\n",
    "- **使用データ**: お客さんの年齢、性別、国、残高などの情報\n",
    "- **結果**: 約87%の確率で正しく予測できるようになった\n",
    "\n",
    "## わかったこと\n",
    "- 最初は当て推量レベル（57%）だったが、学習を繰り返すと予測精度が大幅に向上\n",
    "- 30回ほど学習すると85%まで予測精度が上がり、その後はゆっくり改善\n",
    "- 2つの隠れ層を持つニューラルネットワークでも高い予測精度が得られた\n",
    "\n",
    "この人工知能モデルを使えば、銀行は「この人は解約しそうだ」と事前に予測し、対策を打つことができるようになります。"
   ]
  }
 ],
 "metadata": {
  "kernelspec": {
   "display_name": "ds2024",
   "language": "python",
   "name": "python3"
  },
  "language_info": {
   "codemirror_mode": {
    "name": "ipython",
    "version": 3
   },
   "file_extension": ".py",
   "mimetype": "text/x-python",
   "name": "python",
   "nbconvert_exporter": "python",
   "pygments_lexer": "ipython3",
   "version": "3.9.15"
  }
 },
 "nbformat": 4,
 "nbformat_minor": 2
}
