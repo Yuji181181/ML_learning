{
 "cells": [
  {
   "cell_type": "code",
   "execution_count": 1,
   "metadata": {},
   "outputs": [],
   "source": [
    "import tensorflow as tf\n",
    "from tensorflow.keras.preprocessing.image import ImageDataGenerator\n",
    "import numpy as np\n",
    "from tensorflow.keras.preprocessing import image\n"
   ]
  },
  {
   "cell_type": "markdown",
   "metadata": {},
   "source": [
    "# データの前処理"
   ]
  },
  {
   "cell_type": "code",
   "execution_count": 5,
   "metadata": {},
   "outputs": [
    {
     "name": "stdout",
     "output_type": "stream",
     "text": [
      "Found 8000 images belonging to 2 classes.\n",
      "Found 2000 images belonging to 2 classes.\n"
     ]
    }
   ],
   "source": [
    "# 訓練データの前処理\n",
    "train_datagen = ImageDataGenerator(rescale = 1./255,shear_range = 0.2,zoom_range = 0.2,horizontal_flip = True)\n",
    "training_set = train_datagen.flow_from_directory('Data/CNN_data/training_set',target_size = (64, 64),batch_size = 32,class_mode = 'binary')\n",
    "# テストデータの前処理\n",
    "test_datagen = ImageDataGenerator(rescale = 1./255)\n",
    "test_set = test_datagen.flow_from_directory('Data/CNN_data/test_set',target_size = (64, 64),batch_size = 32,class_mode = 'binary')"
   ]
  },
  {
   "cell_type": "markdown",
   "metadata": {},
   "source": [
    "# CNN全体の構成"
   ]
  },
  {
   "cell_type": "markdown",
   "metadata": {},
   "source": [
    "![alt text](Data/4.png)"
   ]
  },
  {
   "cell_type": "markdown",
   "metadata": {},
   "source": [
    "# CNNの構築"
   ]
  },
  {
   "cell_type": "code",
   "execution_count": 6,
   "metadata": {},
   "outputs": [],
   "source": [
    "cnn = tf.keras.models.Sequential() # モデルの作成"
   ]
  },
  {
   "cell_type": "code",
   "execution_count": 12,
   "metadata": {},
   "outputs": [],
   "source": [
    "cnn.add(tf.keras.layers.Conv2D(filters=32, kernel_size=3, activation='relu', input_shape=[64, 64, 3]))\n",
    "# 畳み込み層\n",
    "\n",
    "# filters = 32: 畳み込みフィルターの数\n",
    "# kernel_size = 3: フィルタのサイズ(今回は3x3のフィルタ)\n",
    "# activation = 'relu': 活性化関数の指定\n",
    "# input_shape = [64, 64, 3]: 入力データの形状 (今回は[画像のサイズ64x64, RGB3色])"
   ]
  },
  {
   "cell_type": "code",
   "execution_count": 13,
   "metadata": {},
   "outputs": [],
   "source": [
    "cnn.add(tf.keras.layers.MaxPool2D(pool_size=2, strides=2))\n",
    "# プーリング層\n",
    "\n",
    "# pool_size = 2: プーリングフィルタのサイズ(今回は2x2のフィルタ)\n",
    "# strides = 2: フィルタの移動幅(今回は2×2の移動幅)"
   ]
  },
  {
   "cell_type": "code",
   "execution_count": 14,
   "metadata": {},
   "outputs": [],
   "source": [
    "cnn.add(tf.keras.layers.Conv2D(filters=32, kernel_size=3, activation='relu'))\n",
    "cnn.add(tf.keras.layers.MaxPool2D(pool_size=2, strides=2))\n",
    "# 同じ層を追加\n",
    "# 同じ層を追加することで、より複雑な特徴を学習できるようにする"
   ]
  },
  {
   "cell_type": "code",
   "execution_count": 15,
   "metadata": {},
   "outputs": [],
   "source": [
    "cnn.add(tf.keras.layers.Flatten())\n",
    "cnn.add(tf.keras.layers.Dense(units=128, activation='relu'))\n",
    "# Flatten層\n",
    "# ベクトルに変換して全結合層に接続する"
   ]
  },
  {
   "cell_type": "code",
   "execution_count": 16,
   "metadata": {},
   "outputs": [],
   "source": [
    "cnn.add(tf.keras.layers.Dense(units=1, activation='sigmoid'))\n",
    "# 出力層"
   ]
  },
  {
   "cell_type": "markdown",
   "metadata": {},
   "source": [
    "# 学習方法を設定"
   ]
  },
  {
   "cell_type": "code",
   "execution_count": 18,
   "metadata": {},
   "outputs": [],
   "source": [
    "cnn.compile(optimizer = 'adam', loss = 'binary_crossentropy', metrics = ['accuracy'])\n",
    "# optimizer = 'adam': 最適化アルゴリズムの指定\n",
    "# loss = 'binary_crossentropy': 損失関数の指定\n",
    "# metrics = ['accuracy']: 評価指標の指定"
   ]
  },
  {
   "cell_type": "markdown",
   "metadata": {},
   "source": [
    "# 学習を実行"
   ]
  },
  {
   "cell_type": "code",
   "execution_count": 19,
   "metadata": {},
   "outputs": [
    {
     "name": "stdout",
     "output_type": "stream",
     "text": [
      "Epoch 1/25\n",
      "250/250 [==============================] - 94s 375ms/step - loss: 0.6907 - accuracy: 0.5216 - val_loss: 0.6831 - val_accuracy: 0.5625\n",
      "Epoch 2/25\n",
      "250/250 [==============================] - 31s 123ms/step - loss: 0.6604 - accuracy: 0.5980 - val_loss: 0.6377 - val_accuracy: 0.6400\n",
      "Epoch 3/25\n",
      "250/250 [==============================] - 36s 145ms/step - loss: 0.6089 - accuracy: 0.6708 - val_loss: 0.6128 - val_accuracy: 0.6715\n",
      "Epoch 4/25\n",
      "250/250 [==============================] - 36s 145ms/step - loss: 0.5762 - accuracy: 0.7011 - val_loss: 0.5594 - val_accuracy: 0.7210\n",
      "Epoch 5/25\n",
      "250/250 [==============================] - 30s 119ms/step - loss: 0.5298 - accuracy: 0.7418 - val_loss: 0.5066 - val_accuracy: 0.7670\n",
      "Epoch 6/25\n",
      "250/250 [==============================] - 29s 115ms/step - loss: 0.5059 - accuracy: 0.7544 - val_loss: 0.5235 - val_accuracy: 0.7510\n",
      "Epoch 7/25\n",
      "250/250 [==============================] - 29s 116ms/step - loss: 0.4793 - accuracy: 0.7689 - val_loss: 0.4575 - val_accuracy: 0.7865\n",
      "Epoch 8/25\n",
      "250/250 [==============================] - 36s 146ms/step - loss: 0.4473 - accuracy: 0.7875 - val_loss: 0.4511 - val_accuracy: 0.7870\n",
      "Epoch 9/25\n",
      "250/250 [==============================] - 36s 143ms/step - loss: 0.4358 - accuracy: 0.7981 - val_loss: 0.4742 - val_accuracy: 0.7940\n",
      "Epoch 10/25\n",
      "250/250 [==============================] - 30s 119ms/step - loss: 0.4125 - accuracy: 0.8101 - val_loss: 0.4045 - val_accuracy: 0.8185\n",
      "Epoch 11/25\n",
      "250/250 [==============================] - 29s 115ms/step - loss: 0.4134 - accuracy: 0.8099 - val_loss: 0.4360 - val_accuracy: 0.7980\n",
      "Epoch 12/25\n",
      "250/250 [==============================] - 29s 116ms/step - loss: 0.3962 - accuracy: 0.8155 - val_loss: 0.4025 - val_accuracy: 0.8260\n",
      "Epoch 13/25\n",
      "250/250 [==============================] - 36s 145ms/step - loss: 0.3922 - accuracy: 0.8160 - val_loss: 0.3924 - val_accuracy: 0.8315\n",
      "Epoch 14/25\n",
      "250/250 [==============================] - 36s 144ms/step - loss: 0.3820 - accuracy: 0.8214 - val_loss: 0.4123 - val_accuracy: 0.8130\n",
      "Epoch 15/25\n",
      "250/250 [==============================] - 33s 130ms/step - loss: 0.3621 - accuracy: 0.8401 - val_loss: 0.3523 - val_accuracy: 0.8500\n",
      "Epoch 16/25\n",
      "250/250 [==============================] - 29s 115ms/step - loss: 0.3577 - accuracy: 0.8376 - val_loss: 0.3761 - val_accuracy: 0.8315\n",
      "Epoch 17/25\n",
      "250/250 [==============================] - 32s 130ms/step - loss: 0.3419 - accuracy: 0.8451 - val_loss: 0.3941 - val_accuracy: 0.8225\n",
      "Epoch 18/25\n",
      "250/250 [==============================] - 36s 145ms/step - loss: 0.3460 - accuracy: 0.8465 - val_loss: 0.3917 - val_accuracy: 0.8210\n",
      "Epoch 19/25\n",
      "250/250 [==============================] - 36s 145ms/step - loss: 0.3326 - accuracy: 0.8531 - val_loss: 0.3527 - val_accuracy: 0.8490\n",
      "Epoch 20/25\n",
      "250/250 [==============================] - 30s 119ms/step - loss: 0.3225 - accuracy: 0.8574 - val_loss: 0.3506 - val_accuracy: 0.8485\n",
      "Epoch 21/25\n",
      "250/250 [==============================] - 29s 116ms/step - loss: 0.3112 - accuracy: 0.8652 - val_loss: 0.3512 - val_accuracy: 0.8455\n",
      "Epoch 22/25\n",
      "250/250 [==============================] - 29s 118ms/step - loss: 0.2968 - accuracy: 0.8717 - val_loss: 0.4239 - val_accuracy: 0.8255\n",
      "Epoch 23/25\n",
      "250/250 [==============================] - 36s 146ms/step - loss: 0.2936 - accuracy: 0.8726 - val_loss: 0.3396 - val_accuracy: 0.8650\n",
      "Epoch 24/25\n",
      "250/250 [==============================] - 36s 145ms/step - loss: 0.2978 - accuracy: 0.8666 - val_loss: 0.4077 - val_accuracy: 0.8355\n",
      "Epoch 25/25\n",
      "250/250 [==============================] - 30s 119ms/step - loss: 0.2851 - accuracy: 0.8790 - val_loss: 0.3374 - val_accuracy: 0.8555\n"
     ]
    },
    {
     "data": {
      "text/plain": [
       "<keras.callbacks.History at 0x1dc4a1b5f40>"
      ]
     },
     "execution_count": 19,
     "metadata": {},
     "output_type": "execute_result"
    }
   ],
   "source": [
    "cnn.fit(x = training_set, validation_data = test_set, epochs = 25)\n",
    "# epochs = 25: 全体のデータを25回学習する"
   ]
  },
  {
   "cell_type": "markdown",
   "metadata": {},
   "source": [
    "# 学習済みのモデルでcat or dogを予測"
   ]
  },
  {
   "cell_type": "code",
   "execution_count": 29,
   "metadata": {},
   "outputs": [
    {
     "name": "stdout",
     "output_type": "stream",
     "text": [
      "1/1 [==============================] - 0s 13ms/step\n"
     ]
    }
   ],
   "source": [
    "test_image = image.load_img('Data/CNN_data/single_prediction/cat_or_dog_1.jpg', target_size = (64, 64))\n",
    "test_image = image.img_to_array(test_image)\n",
    "test_image = np.expand_dims(test_image, axis = 0)\n",
    "result = cnn.predict(test_image)\n",
    "training_set.class_indices\n",
    "if result[0][0] == 1:\n",
    "    prediction = 'dog'\n",
    "else:\n",
    "    prediction = 'cat'"
   ]
  },
  {
   "cell_type": "code",
   "execution_count": 30,
   "metadata": {},
   "outputs": [
    {
     "name": "stdout",
     "output_type": "stream",
     "text": [
      "dog\n"
     ]
    }
   ],
   "source": [
    "print(prediction)"
   ]
  }
 ],
 "metadata": {
  "kernelspec": {
   "display_name": "ds2024",
   "language": "python",
   "name": "python3"
  },
  "language_info": {
   "codemirror_mode": {
    "name": "ipython",
    "version": 3
   },
   "file_extension": ".py",
   "mimetype": "text/x-python",
   "name": "python",
   "nbconvert_exporter": "python",
   "pygments_lexer": "ipython3",
   "version": "3.9.15"
  }
 },
 "nbformat": 4,
 "nbformat_minor": 2
}
