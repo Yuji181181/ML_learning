{
 "cells": [
  {
   "cell_type": "markdown",
   "id": "7f331e8e",
   "metadata": {},
   "source": [
    "### 結合"
   ]
  },
  {
   "cell_type": "code",
   "execution_count": null,
   "id": "18f1de77",
   "metadata": {},
   "outputs": [],
   "source": [
    "df_left = \"左に入れるデータフレーム\"\n",
    "df_right = \"右に入れるデータフレーム\"\n",
    "df_merge = pd.merge(df_left, df_right, how=\"\", left_on=\"\", right_on=\"\")\n",
    "# how: left(左外結合), right(右外結合), outer(完全外結合), inner(内結合), cross(直積)"
   ]
  },
  {
   "cell_type": "markdown",
   "id": "cc140e18",
   "metadata": {},
   "source": [
    "### CSV書き出し"
   ]
  },
  {
   "cell_type": "code",
   "execution_count": null,
   "id": "20b8fb0f",
   "metadata": {},
   "outputs": [],
   "source": [
    "csv_out = \"書き出したい名前.csv\"\n",
    "df.to_csv(csv_out, index=False, encoding=\"utf-8-sig\") # indexが不要ならFalse"
   ]
  },
  {
   "cell_type": "markdown",
   "id": "746b5802",
   "metadata": {},
   "source": [
    "### Copy"
   ]
  },
  {
   "cell_type": "code",
   "execution_count": null,
   "id": "0f29083f",
   "metadata": {},
   "outputs": [],
   "source": [
    "df23_copy = df[df.index.year == 2023].copy()\n",
    "print(df23_copy.info())"
   ]
  }
 ],
 "metadata": {
  "language_info": {
   "name": "python"
  }
 },
 "nbformat": 4,
 "nbformat_minor": 5
}
