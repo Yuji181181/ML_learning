{
 "cells": [
  {
   "cell_type": "code",
   "execution_count": 1,
   "id": "0ae82079",
   "metadata": {},
   "outputs": [],
   "source": [
    "import pandas as pd\n",
    "import numpy as np"
   ]
  },
  {
   "cell_type": "code",
   "execution_count": 2,
   "id": "69d6a6ef",
   "metadata": {},
   "outputs": [
    {
     "data": {
      "text/html": [
       "<div>\n",
       "<style scoped>\n",
       "    .dataframe tbody tr th:only-of-type {\n",
       "        vertical-align: middle;\n",
       "    }\n",
       "\n",
       "    .dataframe tbody tr th {\n",
       "        vertical-align: top;\n",
       "    }\n",
       "\n",
       "    .dataframe thead th {\n",
       "        text-align: right;\n",
       "    }\n",
       "</style>\n",
       "<table border=\"1\" class=\"dataframe\">\n",
       "  <thead>\n",
       "    <tr style=\"text-align: right;\">\n",
       "      <th></th>\n",
       "      <th>Channel</th>\n",
       "      <th>Region</th>\n",
       "      <th>Fresh</th>\n",
       "      <th>Milk</th>\n",
       "      <th>Grocery</th>\n",
       "      <th>Frozen</th>\n",
       "      <th>Detergents_Paper</th>\n",
       "      <th>Delicatessen</th>\n",
       "    </tr>\n",
       "  </thead>\n",
       "  <tbody>\n",
       "    <tr>\n",
       "      <th>0</th>\n",
       "      <td>2</td>\n",
       "      <td>Other</td>\n",
       "      <td>12669</td>\n",
       "      <td>NaN</td>\n",
       "      <td>7561</td>\n",
       "      <td>214.0</td>\n",
       "      <td>2674</td>\n",
       "      <td>1338</td>\n",
       "    </tr>\n",
       "    <tr>\n",
       "      <th>1</th>\n",
       "      <td>2</td>\n",
       "      <td>other</td>\n",
       "      <td>7057</td>\n",
       "      <td>9810.0</td>\n",
       "      <td>9568</td>\n",
       "      <td>1762.0</td>\n",
       "      <td>3293</td>\n",
       "      <td>1776</td>\n",
       "    </tr>\n",
       "    <tr>\n",
       "      <th>2</th>\n",
       "      <td>2</td>\n",
       "      <td>Otheer</td>\n",
       "      <td>6353</td>\n",
       "      <td>8808.0</td>\n",
       "      <td>7684</td>\n",
       "      <td>2405.0</td>\n",
       "      <td>3516</td>\n",
       "      <td>7844</td>\n",
       "    </tr>\n",
       "    <tr>\n",
       "      <th>3</th>\n",
       "      <td>2</td>\n",
       "      <td>Otheer</td>\n",
       "      <td>6353</td>\n",
       "      <td>8808.0</td>\n",
       "      <td>7684</td>\n",
       "      <td>2405.0</td>\n",
       "      <td>3516</td>\n",
       "      <td>7844</td>\n",
       "    </tr>\n",
       "    <tr>\n",
       "      <th>4</th>\n",
       "      <td>1</td>\n",
       "      <td>Other</td>\n",
       "      <td>13265</td>\n",
       "      <td>NaN</td>\n",
       "      <td>4221</td>\n",
       "      <td>NaN</td>\n",
       "      <td>507</td>\n",
       "      <td>1788</td>\n",
       "    </tr>\n",
       "    <tr>\n",
       "      <th>...</th>\n",
       "      <td>...</td>\n",
       "      <td>...</td>\n",
       "      <td>...</td>\n",
       "      <td>...</td>\n",
       "      <td>...</td>\n",
       "      <td>...</td>\n",
       "      <td>...</td>\n",
       "      <td>...</td>\n",
       "    </tr>\n",
       "    <tr>\n",
       "      <th>435</th>\n",
       "      <td>1</td>\n",
       "      <td>Other</td>\n",
       "      <td>29703</td>\n",
       "      <td>12051.0</td>\n",
       "      <td>16027</td>\n",
       "      <td>13135.0</td>\n",
       "      <td>182</td>\n",
       "      <td>2204</td>\n",
       "    </tr>\n",
       "    <tr>\n",
       "      <th>436</th>\n",
       "      <td>1</td>\n",
       "      <td>Other</td>\n",
       "      <td>39228</td>\n",
       "      <td>1431.0</td>\n",
       "      <td>764</td>\n",
       "      <td>4510.0</td>\n",
       "      <td>93</td>\n",
       "      <td>2346</td>\n",
       "    </tr>\n",
       "    <tr>\n",
       "      <th>437</th>\n",
       "      <td>2</td>\n",
       "      <td>Other</td>\n",
       "      <td>14531</td>\n",
       "      <td>15488.0</td>\n",
       "      <td>30243</td>\n",
       "      <td>437.0</td>\n",
       "      <td>14841</td>\n",
       "      <td>1867</td>\n",
       "    </tr>\n",
       "    <tr>\n",
       "      <th>438</th>\n",
       "      <td>1</td>\n",
       "      <td>Other</td>\n",
       "      <td>10290</td>\n",
       "      <td>1981.0</td>\n",
       "      <td>2232</td>\n",
       "      <td>1038.0</td>\n",
       "      <td>168</td>\n",
       "      <td>2125</td>\n",
       "    </tr>\n",
       "    <tr>\n",
       "      <th>439</th>\n",
       "      <td>1</td>\n",
       "      <td>Other</td>\n",
       "      <td>2787</td>\n",
       "      <td>1698.0</td>\n",
       "      <td>2510</td>\n",
       "      <td>65.0</td>\n",
       "      <td>477</td>\n",
       "      <td>52</td>\n",
       "    </tr>\n",
       "  </tbody>\n",
       "</table>\n",
       "<p>440 rows × 8 columns</p>\n",
       "</div>"
      ],
      "text/plain": [
       "     Channel  Region  Fresh     Milk  Grocery   Frozen  Detergents_Paper  \\\n",
       "0          2   Other  12669      NaN     7561    214.0              2674   \n",
       "1          2   other   7057   9810.0     9568   1762.0              3293   \n",
       "2          2  Otheer   6353   8808.0     7684   2405.0              3516   \n",
       "3          2  Otheer   6353   8808.0     7684   2405.0              3516   \n",
       "4          1   Other  13265      NaN     4221      NaN               507   \n",
       "..       ...     ...    ...      ...      ...      ...               ...   \n",
       "435        1   Other  29703  12051.0    16027  13135.0               182   \n",
       "436        1   Other  39228   1431.0      764   4510.0                93   \n",
       "437        2   Other  14531  15488.0    30243    437.0             14841   \n",
       "438        1   Other  10290   1981.0     2232   1038.0               168   \n",
       "439        1   Other   2787   1698.0     2510     65.0               477   \n",
       "\n",
       "     Delicatessen  \n",
       "0            1338  \n",
       "1            1776  \n",
       "2            7844  \n",
       "3            7844  \n",
       "4            1788  \n",
       "..            ...  \n",
       "435          2204  \n",
       "436          2346  \n",
       "437          1867  \n",
       "438          2125  \n",
       "439            52  \n",
       "\n",
       "[440 rows x 8 columns]"
      ]
     },
     "execution_count": 2,
     "metadata": {},
     "output_type": "execute_result"
    }
   ],
   "source": [
    "data = \"data/wholesale_customers-with-errors.csv\"\n",
    "df = pd.read_csv(data, sep=\",\", skiprows=13)\n",
    "df"
   ]
  },
  {
   "cell_type": "code",
   "execution_count": 3,
   "id": "59be096c",
   "metadata": {},
   "outputs": [
    {
     "data": {
      "text/plain": [
       "Region\n",
       "Other     313\n",
       "Lisbon     75\n",
       "Oporto     45\n",
       "Otheer      2\n",
       "other       1\n",
       "lisbon      1\n",
       "Lisbn       1\n",
       "Porto       1\n",
       "porto       1\n",
       "Name: count, dtype: int64"
      ]
     },
     "execution_count": 3,
     "metadata": {},
     "output_type": "execute_result"
    }
   ],
   "source": [
    "df[\"Region\"].value_counts()\n",
    "## まずRegion列の表記ミスの値を確認\n",
    "## other、Lisbon、"
   ]
  },
  {
   "cell_type": "code",
   "execution_count": 5,
   "id": "138de95e",
   "metadata": {},
   "outputs": [],
   "source": [
    "df[\"Region\"] = df[\"Region\"].replace(\"other\",\"Other\") ## 置換1\n",
    "## (古、新)"
   ]
  },
  {
   "cell_type": "code",
   "execution_count": 7,
   "id": "4c6a20cd",
   "metadata": {},
   "outputs": [],
   "source": [
    "df[\"Region\"] = df[\"Region\"].replace([\"lisbon\",\"Lisbn\"],\"Lisbon\") ## 置換2\n",
    "## ([古1,古2]、新)"
   ]
  },
  {
   "cell_type": "code",
   "execution_count": 8,
   "id": "01de562f",
   "metadata": {},
   "outputs": [],
   "source": [
    "df[\"Region\"] = df[\"Region\"].replace({\"porto\":\"Oporto\",\"Porto\":\"Oporto\",\"Otheer\":\"Other\"}) ## 置換3\n",
    "## ({古1:新, 古2:新, ...})"
   ]
  },
  {
   "cell_type": "code",
   "execution_count": 10,
   "id": "a0a09fdb",
   "metadata": {},
   "outputs": [
    {
     "data": {
      "text/plain": [
       "Region\n",
       "Other     316\n",
       "Lisbon     77\n",
       "Oporto     47\n",
       "Name: count, dtype: int64"
      ]
     },
     "execution_count": 10,
     "metadata": {},
     "output_type": "execute_result"
    }
   ],
   "source": [
    "df[\"Region\"].value_counts()  ## 置換後の確認"
   ]
  }
 ],
 "metadata": {
  "kernelspec": {
   "display_name": "ds2024",
   "language": "python",
   "name": "python3"
  },
  "language_info": {
   "codemirror_mode": {
    "name": "ipython",
    "version": 3
   },
   "file_extension": ".py",
   "mimetype": "text/x-python",
   "name": "python",
   "nbconvert_exporter": "python",
   "pygments_lexer": "ipython3",
   "version": "3.9.15"
  }
 },
 "nbformat": 4,
 "nbformat_minor": 5
}
