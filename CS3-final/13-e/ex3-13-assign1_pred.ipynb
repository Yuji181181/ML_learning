{
 "cells": [
  {
   "cell_type": "code",
   "execution_count": 1,
   "id": "dac71415",
   "metadata": {},
   "outputs": [],
   "source": [
    "import numpy as np\n",
    "import pandas as pd\n",
    "from joblib import load"
   ]
  },
  {
   "cell_type": "code",
   "execution_count": 2,
   "id": "9cdd7c11",
   "metadata": {},
   "outputs": [],
   "source": [
    "feature_names = ['Age', 'Experience', 'Income', 'Family', 'CCAvg', 'Education','Mortgage', 'Securities Account', 'CD Account', 'Online', 'CreditCard']\n",
    "input_data = np.array([[150, 45, 3, 2, 10, 200, 2.4, 0, 0, 1, 1]])"
   ]
  },
  {
   "cell_type": "code",
   "execution_count": 3,
   "id": "f41fa6da",
   "metadata": {},
   "outputs": [],
   "source": [
    "X_pred = pd.DataFrame(input_data, columns=feature_names)\n",
    "\n",
    "rfc = load('rfc_bank_loan.joblib')"
   ]
  },
  {
   "cell_type": "code",
   "execution_count": 4,
   "id": "bebfad46",
   "metadata": {},
   "outputs": [
    {
     "name": "stdout",
     "output_type": "stream",
     "text": [
      "予測結果: 0\n"
     ]
    }
   ],
   "source": [
    "y_pred = rfc.predict(X_pred)\n",
    "print(\"予測結果:\", y_pred[0])"
   ]
  },
  {
   "cell_type": "code",
   "execution_count": 5,
   "id": "6bfddcb5",
   "metadata": {},
   "outputs": [
    {
     "name": "stdout",
     "output_type": "stream",
     "text": [
      "申し込まないと予測されます\n"
     ]
    }
   ],
   "source": [
    "if y_pred[0] == 1:\n",
    "    print(\"申し込むと予測されます\")\n",
    "else:\n",
    "    print(\"申し込まないと予測されます\")"
   ]
  }
 ],
 "metadata": {
  "kernelspec": {
   "display_name": "ds2025",
   "language": "python",
   "name": "python3"
  },
  "language_info": {
   "codemirror_mode": {
    "name": "ipython",
    "version": 3
   },
   "file_extension": ".py",
   "mimetype": "text/x-python",
   "name": "python",
   "nbconvert_exporter": "python",
   "pygments_lexer": "ipython3",
   "version": "3.9.15"
  }
 },
 "nbformat": 4,
 "nbformat_minor": 5
}
