{
 "cells": [
  {
   "cell_type": "code",
   "execution_count": 11,
   "id": "fe0fc45a",
   "metadata": {},
   "outputs": [],
   "source": [
    "import numpy as np\n",
    "import pandas as pd\n",
    "import matplotlib.pyplot as plt\n",
    "from tensorflow.keras.models import Sequential\n",
    "from tensorflow.keras.layers import Dense\n",
    "import  os\n",
    "import random\n",
    "import tensorflow as tf"
   ]
  },
  {
   "cell_type": "code",
   "execution_count": 12,
   "id": "7694b6b5",
   "metadata": {},
   "outputs": [],
   "source": [
    "seedval = 10\n",
    "tf.random.set_seed(seedval)\n",
    "np.random.seed(seedval)\n",
    "random.seed(seedval)\n",
    "os.environ[\"PYTHONHASHSEED\"] = str(seedval)"
   ]
  },
  {
   "cell_type": "markdown",
   "id": "ef51a9be",
   "metadata": {},
   "source": [
    "### 前処理"
   ]
  },
  {
   "cell_type": "code",
   "execution_count": 13,
   "id": "7dc28702",
   "metadata": {},
   "outputs": [
    {
     "name": "stdout",
     "output_type": "stream",
     "text": [
      "data: (13, 2)\n",
      "class: (13,)\n"
     ]
    }
   ],
   "source": [
    "df= pd.read_csv('data/test.csv', sep=',', skiprows=0, header=0)\n",
    "data_train = df[['x1', 'x2']]\n",
    "class_train = df['class']\n",
    "print('data:', data_train.shape)\n",
    "print('class:', class_train.shape)"
   ]
  },
  {
   "cell_type": "markdown",
   "id": "6a79d40b",
   "metadata": {},
   "source": [
    "### ANNの構築"
   ]
  },
  {
   "cell_type": "code",
   "execution_count": 14,
   "id": "c9f09325",
   "metadata": {},
   "outputs": [],
   "source": [
    "model = Sequential()\n",
    "model.add(Dense(7, input_shape=(2,), activation='relu'))\n",
    "model.add(Dense(7, activation='relu'))\n",
    "model.add(Dense(3, activation='sigmoid'))\n",
    "model.add(Dense(1, activation='sigmoid'))"
   ]
  },
  {
   "cell_type": "markdown",
   "id": "415e7051",
   "metadata": {},
   "source": [
    "### 学習方法の設定"
   ]
  },
  {
   "cell_type": "code",
   "execution_count": 15,
   "id": "b43d8034",
   "metadata": {},
   "outputs": [],
   "source": [
    "model.compile(optimizer='adam', loss='binary_crossentropy',metrics=['accuracy'])\n",
    "fit_log = model.fit(data_train, class_train, epochs=30, batch_size=1, verbose=0)"
   ]
  },
  {
   "cell_type": "code",
   "execution_count": 16,
   "id": "94913336",
   "metadata": {},
   "outputs": [
    {
     "name": "stdout",
     "output_type": "stream",
     "text": [
      "Epochs executed: 30\n",
      "Final loss: 0.7060483694076538\n",
      "Final accuracy: 0.38461539149284363\n"
     ]
    }
   ],
   "source": [
    "print('Epochs executed:', len(fit_log.history['loss']))\n",
    "print('Final loss:', fit_log.history['loss'][-1])\n",
    "print('Final accuracy:', fit_log.history['accuracy'][-1])"
   ]
  },
  {
   "cell_type": "code",
   "execution_count": 17,
   "id": "5133bfac",
   "metadata": {},
   "outputs": [
    {
     "name": "stdout",
     "output_type": "stream",
     "text": [
      "[[0.5182742 ]\n",
      " [0.48216593]\n",
      " [0.52977467]\n",
      " [0.5182742 ]\n",
      " [0.5312548 ]\n",
      " [0.5225249 ]\n",
      " [0.49776906]\n",
      " [0.5053051 ]\n",
      " [0.5134718 ]\n",
      " [0.5209448 ]\n",
      " [0.5235219 ]\n",
      " [0.50544614]\n",
      " [0.49828056]]\n"
     ]
    }
   ],
   "source": [
    "pred = model.predict(data_train, verbose=0)\n",
    "print(pred)"
   ]
  }
 ],
 "metadata": {
  "kernelspec": {
   "display_name": "ds2024",
   "language": "python",
   "name": "python3"
  },
  "language_info": {
   "codemirror_mode": {
    "name": "ipython",
    "version": 3
   },
   "file_extension": ".py",
   "mimetype": "text/x-python",
   "name": "python",
   "nbconvert_exporter": "python",
   "pygments_lexer": "ipython3",
   "version": "3.9.15"
  }
 },
 "nbformat": 4,
 "nbformat_minor": 5
}
