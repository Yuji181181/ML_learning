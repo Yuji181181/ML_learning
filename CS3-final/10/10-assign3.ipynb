{
 "cells": [
  {
   "cell_type": "code",
   "execution_count": 1,
   "id": "fe0fc45a",
   "metadata": {},
   "outputs": [],
   "source": [
    "import numpy as np\n",
    "import pandas as pd\n",
    "import matplotlib.pyplot as plt\n",
    "from tensorflow.keras.models import Sequential\n",
    "from tensorflow.keras.layers import Dense\n",
    "import  os\n",
    "import random\n",
    "import tensorflow as tf"
   ]
  },
  {
   "cell_type": "code",
   "execution_count": 2,
   "id": "7694b6b5",
   "metadata": {},
   "outputs": [],
   "source": [
    "seedval = 19\n",
    "tf.random.set_seed(seedval)\n",
    "np.random.seed(seedval)\n",
    "random.seed(seedval)\n",
    "os.environ[\"PYTHONHASHSEED\"] = str(seedval)"
   ]
  },
  {
   "cell_type": "markdown",
   "id": "ef51a9be",
   "metadata": {},
   "source": [
    "### 前処理"
   ]
  },
  {
   "cell_type": "code",
   "execution_count": 3,
   "id": "7dc28702",
   "metadata": {},
   "outputs": [
    {
     "name": "stdout",
     "output_type": "stream",
     "text": [
      "data: (13, 2)\n",
      "class: (13,)\n"
     ]
    }
   ],
   "source": [
    "df= pd.read_csv('data/points_any-sample.csv', sep=',', skiprows=0, header=0)\n",
    "data_train = df[['x1', 'x2']]\n",
    "class_train = df['class']\n",
    "print('data:', data_train.shape)\n",
    "print('class:', class_train.shape)"
   ]
  },
  {
   "cell_type": "markdown",
   "id": "6a79d40b",
   "metadata": {},
   "source": [
    "### ANNの構築"
   ]
  },
  {
   "cell_type": "code",
   "execution_count": 4,
   "id": "c9f09325",
   "metadata": {},
   "outputs": [],
   "source": [
    "model = Sequential()\n",
    "model.add(Dense(7, input_shape=(2,), activation='relu'))\n",
    "model.add(Dense(7, activation='relu'))\n",
    "model.add(Dense(7, activation='relu'))\n",
    "model.add(Dense(3, activation='sigmoid'))\n",
    "model.add(Dense(1, activation='sigmoid'))"
   ]
  },
  {
   "cell_type": "markdown",
   "id": "415e7051",
   "metadata": {},
   "source": [
    "### 学習方法の設定"
   ]
  },
  {
   "cell_type": "code",
   "execution_count": 5,
   "id": "b43d8034",
   "metadata": {},
   "outputs": [],
   "source": [
    "model.compile(optimizer='adam', loss='binary_crossentropy',metrics=['accuracy'])\n",
    "fit_log = model.fit(data_train, class_train, epochs=30, batch_size=1, verbose=0)"
   ]
  },
  {
   "cell_type": "code",
   "execution_count": 6,
   "id": "94913336",
   "metadata": {},
   "outputs": [
    {
     "name": "stdout",
     "output_type": "stream",
     "text": [
      "Epochs executed: 30\n",
      "Final loss: 0.6756715178489685\n",
      "Final accuracy: 0.692307710647583\n"
     ]
    }
   ],
   "source": [
    "print('Epochs executed:', len(fit_log.history['loss']))\n",
    "print('Final loss:', fit_log.history['loss'][-1])\n",
    "print('Final accuracy:', fit_log.history['accuracy'][-1])"
   ]
  },
  {
   "cell_type": "code",
   "execution_count": 7,
   "id": "5133bfac",
   "metadata": {},
   "outputs": [
    {
     "name": "stdout",
     "output_type": "stream",
     "text": [
      "[[0.47586823]\n",
      " [0.45349985]\n",
      " [0.47760198]\n",
      " [0.47586823]\n",
      " [0.48920658]\n",
      " [0.48755834]\n",
      " [0.46306625]\n",
      " [0.4719591 ]\n",
      " [0.48272002]\n",
      " [0.48217142]\n",
      " [0.47705588]\n",
      " [0.47601148]\n",
      " [0.4704236 ]]\n"
     ]
    }
   ],
   "source": [
    "pred = model.predict(data_train, verbose=0)\n",
    "print(pred)"
   ]
  }
 ],
 "metadata": {
  "kernelspec": {
   "display_name": "ds2024",
   "language": "python",
   "name": "python3"
  },
  "language_info": {
   "codemirror_mode": {
    "name": "ipython",
    "version": 3
   },
   "file_extension": ".py",
   "mimetype": "text/x-python",
   "name": "python",
   "nbconvert_exporter": "python",
   "pygments_lexer": "ipython3",
   "version": "3.9.15"
  }
 },
 "nbformat": 4,
 "nbformat_minor": 5
}
