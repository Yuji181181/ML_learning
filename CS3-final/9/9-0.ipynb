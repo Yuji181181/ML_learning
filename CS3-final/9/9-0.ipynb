{
 "cells": [
  {
   "cell_type": "code",
   "execution_count": 1,
   "id": "2a400a47",
   "metadata": {},
   "outputs": [],
   "source": [
    "import numpy as np\n",
    "import pandas as pd\n",
    "import matplotlib.pyplot as plt\n",
    "import seaborn as sns\n",
    "import statsmodels.api as sm\n",
    "from sklearn.preprocessing import scale\n",
    "from sklearn.metrics import mean_squared_error"
   ]
  },
  {
   "cell_type": "code",
   "execution_count": 2,
   "id": "a469fe3c",
   "metadata": {},
   "outputs": [
    {
     "data": {
      "text/html": [
       "<div>\n",
       "<style scoped>\n",
       "    .dataframe tbody tr th:only-of-type {\n",
       "        vertical-align: middle;\n",
       "    }\n",
       "\n",
       "    .dataframe tbody tr th {\n",
       "        vertical-align: top;\n",
       "    }\n",
       "\n",
       "    .dataframe thead th {\n",
       "        text-align: right;\n",
       "    }\n",
       "</style>\n",
       "<table border=\"1\" class=\"dataframe\">\n",
       "  <thead>\n",
       "    <tr style=\"text-align: right;\">\n",
       "      <th></th>\n",
       "      <th>CRIM</th>\n",
       "      <th>INDUS</th>\n",
       "      <th>RM</th>\n",
       "      <th>MEDV</th>\n",
       "    </tr>\n",
       "  </thead>\n",
       "  <tbody>\n",
       "    <tr>\n",
       "      <th>0</th>\n",
       "      <td>0.00632</td>\n",
       "      <td>2.31</td>\n",
       "      <td>6.575</td>\n",
       "      <td>24.0</td>\n",
       "    </tr>\n",
       "    <tr>\n",
       "      <th>1</th>\n",
       "      <td>0.02731</td>\n",
       "      <td>7.07</td>\n",
       "      <td>6.421</td>\n",
       "      <td>21.6</td>\n",
       "    </tr>\n",
       "    <tr>\n",
       "      <th>2</th>\n",
       "      <td>0.02729</td>\n",
       "      <td>7.07</td>\n",
       "      <td>7.185</td>\n",
       "      <td>34.7</td>\n",
       "    </tr>\n",
       "    <tr>\n",
       "      <th>3</th>\n",
       "      <td>0.03237</td>\n",
       "      <td>2.18</td>\n",
       "      <td>6.998</td>\n",
       "      <td>33.4</td>\n",
       "    </tr>\n",
       "    <tr>\n",
       "      <th>4</th>\n",
       "      <td>0.06905</td>\n",
       "      <td>2.18</td>\n",
       "      <td>7.147</td>\n",
       "      <td>36.2</td>\n",
       "    </tr>\n",
       "  </tbody>\n",
       "</table>\n",
       "</div>"
      ],
      "text/plain": [
       "      CRIM  INDUS     RM  MEDV\n",
       "0  0.00632   2.31  6.575  24.0\n",
       "1  0.02731   7.07  6.421  21.6\n",
       "2  0.02729   7.07  7.185  34.7\n",
       "3  0.03237   2.18  6.998  33.4\n",
       "4  0.06905   2.18  7.147  36.2"
      ]
     },
     "metadata": {},
     "output_type": "display_data"
    }
   ],
   "source": [
    "data = \"../7/boston_small.csv\"\n",
    "df = pd.read_csv(data,skiprows=8)\n",
    "display((df.head()))"
   ]
  },
  {
   "cell_type": "code",
   "execution_count": 3,
   "id": "cb049122",
   "metadata": {},
   "outputs": [],
   "source": [
    "X = df[['CRIM', 'INDUS', 'RM']]\n",
    "y = df['MEDV']"
   ]
  },
  {
   "cell_type": "code",
   "execution_count": 4,
   "id": "3e8fc5b7",
   "metadata": {},
   "outputs": [],
   "source": [
    "X_c = sm.add_constant(X)\n",
    "model = sm.OLS(y, X_c)\n",
    "results = model.fit()"
   ]
  },
  {
   "cell_type": "code",
   "execution_count": 5,
   "id": "ab337bb4",
   "metadata": {},
   "outputs": [
    {
     "name": "stdout",
     "output_type": "stream",
     "text": [
      "\n",
      "自由度調整済み決定係数: 0.807\n"
     ]
    }
   ],
   "source": [
    "print(f\"\\n自由度調整済み決定係数: {results.rsquared_adj:.3f}\")"
   ]
  },
  {
   "cell_type": "code",
   "execution_count": 6,
   "id": "2bf694a7",
   "metadata": {},
   "outputs": [
    {
     "name": "stdout",
     "output_type": "stream",
     "text": [
      "CRIMの偏回帰係数: 0.296\n",
      "CRIMの値を1増やした場合の目的変数の増分: 0.296\n"
     ]
    }
   ],
   "source": [
    "crim_coef = results.params['CRIM']\n",
    "print(f\"CRIMの偏回帰係数: {crim_coef:.3f}\")\n",
    "print(f\"CRIMの値を1増やした場合の目的変数の増分: {crim_coef:.3f}\")"
   ]
  },
  {
   "cell_type": "code",
   "execution_count": 7,
   "id": "4151c484",
   "metadata": {},
   "outputs": [
    {
     "name": "stdout",
     "output_type": "stream",
     "text": [
      "CRIM=0.1, INDUS=4.0, RM=7.0のときのMEDVの予測値: 32.2\n"
     ]
    }
   ],
   "source": [
    "test_data = pd.DataFrame({\n",
    "    'CRIM': [0.1],\n",
    "    'INDUS': [4.0],\n",
    "    'RM': [7.0]\n",
    "})\n",
    "\n",
    "test_data_c = sm.add_constant(test_data, has_constant='add')\n",
    "prediction = results.predict(test_data_c)\n",
    "print(f\"CRIM=0.1, INDUS=4.0, RM=7.0のときのMEDVの予測値: {prediction[0]:.1f}\")"
   ]
  },
  {
   "cell_type": "code",
   "execution_count": 8,
   "id": "b49c9c95",
   "metadata": {},
   "outputs": [],
   "source": [
    "X_scaled_array = scale(X)\n",
    "y_scaled_array = scale(y)\n",
    "\n",
    "X_scaled = pd.DataFrame(X_scaled_array, columns=X.columns)\n",
    "y_scaled = pd.Series(y_scaled_array, name=y.name)"
   ]
  },
  {
   "cell_type": "code",
   "execution_count": 9,
   "id": "53123a38",
   "metadata": {},
   "outputs": [
    {
     "name": "stdout",
     "output_type": "stream",
     "text": [
      "                                 OLS Regression Results                                \n",
      "=======================================================================================\n",
      "Dep. Variable:                   MEDV   R-squared (uncentered):                   0.809\n",
      "Model:                            OLS   Adj. R-squared (uncentered):              0.807\n",
      "Method:                 Least Squares   F-statistic:                              418.6\n",
      "Date:                Mon, 23 Jun 2025   Prob (F-statistic):                   2.62e-106\n",
      "Time:                        10:51:01   Log-Likelihood:                         -177.57\n",
      "No. Observations:                 300   AIC:                                      361.1\n",
      "Df Residuals:                     297   BIC:                                      372.3\n",
      "Df Model:                           3                                                  \n",
      "Covariance Type:            nonrobust                                                  \n",
      "==============================================================================\n",
      "                 coef    std err          t      P>|t|      [0.025      0.975]\n",
      "------------------------------------------------------------------------------\n",
      "CRIM           0.0223      0.030      0.735      0.463      -0.037       0.082\n",
      "INDUS         -0.0596      0.032     -1.851      0.065      -0.123       0.004\n",
      "RM             0.8795      0.028     31.817      0.000       0.825       0.934\n",
      "==============================================================================\n",
      "Omnibus:                        6.795   Durbin-Watson:                   1.077\n",
      "Prob(Omnibus):                  0.033   Jarque-Bera (JB):                7.110\n",
      "Skew:                           0.272   Prob(JB):                       0.0286\n",
      "Kurtosis:                       3.522   Cond. No.                         2.08\n",
      "==============================================================================\n",
      "\n",
      "Notes:\n",
      "[1] R² is computed without centering (uncentered) since the model does not contain a constant.\n",
      "[2] Standard Errors assume that the covariance matrix of the errors is correctly specified.\n"
     ]
    }
   ],
   "source": [
    "model_scaled = sm.OLS(y_scaled, X_scaled)\n",
    "results_scaled = model_scaled.fit()\n",
    "\n",
    "print(results_scaled.summary())"
   ]
  },
  {
   "cell_type": "code",
   "execution_count": 11,
   "id": "b5fd96bd",
   "metadata": {},
   "outputs": [
    {
     "name": "stdout",
     "output_type": "stream",
     "text": [
      "RM       0.879515\n",
      "INDUS    0.059635\n",
      "CRIM     0.022335\n",
      "dtype: float64\n",
      "\n",
      "目的変数への影響が最も大きい説明変数: RM\n"
     ]
    }
   ],
   "source": [
    "coef_abs = results_scaled.params.abs().sort_values(ascending=False)\n",
    "print(coef_abs)\n",
    "print(f\"\\n目的変数への影響が最も大きい説明変数: {coef_abs.index[0]}\")"
   ]
  },
  {
   "cell_type": "code",
   "execution_count": null,
   "id": "0a4ee19d",
   "metadata": {},
   "outputs": [],
   "source": []
  }
 ],
 "metadata": {
  "kernelspec": {
   "display_name": "ds2025",
   "language": "python",
   "name": "python3"
  },
  "language_info": {
   "codemirror_mode": {
    "name": "ipython",
    "version": 3
   },
   "file_extension": ".py",
   "mimetype": "text/x-python",
   "name": "python",
   "nbconvert_exporter": "python",
   "pygments_lexer": "ipython3",
   "version": "3.9.15"
  }
 },
 "nbformat": 4,
 "nbformat_minor": 5
}
