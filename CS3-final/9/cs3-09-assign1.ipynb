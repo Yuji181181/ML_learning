{
 "cells": [
  {
   "cell_type": "code",
   "execution_count": 1,
   "id": "b2d6582b",
   "metadata": {},
   "outputs": [],
   "source": [
    "import numpy as np\n",
    "import matplotlib.pyplot as plt\n",
    "from PIL import Image"
   ]
  },
  {
   "cell_type": "code",
   "execution_count": 2,
   "id": "3d46f919",
   "metadata": {},
   "outputs": [],
   "source": [
    "img_in = 'img_color_2.jpg'\n",
    "img = Image.open(img_in)"
   ]
  },
  {
   "cell_type": "code",
   "execution_count": 3,
   "id": "e291f141",
   "metadata": {},
   "outputs": [
    {
     "name": "stdout",
     "output_type": "stream",
     "text": [
      "JPEG (15, 5) 15 5 RGB\n"
     ]
    }
   ],
   "source": [
    "print(img.format, img.size, img.width, img.height, img.mode) ## 画像の情報を表示"
   ]
  },
  {
   "cell_type": "code",
   "execution_count": 4,
   "id": "09752d5c",
   "metadata": {},
   "outputs": [
    {
     "data": {
      "text/plain": [
       "<matplotlib.image.AxesImage at 0x20d484e6f70>"
      ]
     },
     "execution_count": 4,
     "metadata": {},
     "output_type": "execute_result"
    },
    {
     "data": {
      "image/png": "[encoded data removed]",
      "text/plain": [
       "<Figure size 640x480 with 1 Axes>"
      ]
     },
     "metadata": {},
     "output_type": "display_data"
    }
   ],
   "source": [
    "plt.imshow(img)"
   ]
  },
  {
   "cell_type": "code",
   "execution_count": 5,
   "id": "df215ba3",
   "metadata": {},
   "outputs": [
    {
     "name": "stdout",
     "output_type": "stream",
     "text": [
      "(5, 15, 3)\n"
     ]
    }
   ],
   "source": [
    "data=np.array(img)\n",
    "print(data.shape)"
   ]
  },
  {
   "cell_type": "code",
   "execution_count": 6,
   "id": "695857e6",
   "metadata": {},
   "outputs": [
    {
     "name": "stdout",
     "output_type": "stream",
     "text": [
      "[[  0 255 255   0  27  31   0  12  20  25 198 237 112 174 223]\n",
      " [  0 255 255   0  27  31   0  12  20  25 198 237 112 174 223]\n",
      " [  0 255 255   0  27  31   0  12  20  25 198 237 112 174 223]\n",
      " [  0 255 255   0  27  31   0  12  20  25 198 237 112 174 223]\n",
      " [  0 255 255   0  27  31   0  12  20  25 198 237 112 174 223]]\n"
     ]
    }
   ],
   "source": [
    "print(data[:, :, 0])"
   ]
  },
  {
   "cell_type": "code",
   "execution_count": 7,
   "id": "a2d5ad3b",
   "metadata": {},
   "outputs": [
    {
     "name": "stdout",
     "output_type": "stream",
     "text": [
      "[[ 22 226 232  53 242 224  20  11   1   0  35  23   0  34  16]\n",
      " [ 22 226 232  53 242 224  20  11   1   0  35  23   0  34  16]\n",
      " [ 22 226 232  53 242 224  20  11   1   0  35  23   0  34  16]\n",
      " [ 22 226 232  53 242 224  20  11   1   0  35  23   0  34  16]\n",
      " [ 22 226 232  53 242 224  20  11   1   0  35  23   0  34  16]]\n"
     ]
    }
   ],
   "source": [
    "print(data[:, :, 1])"
   ]
  },
  {
   "cell_type": "code",
   "execution_count": 8,
   "id": "11e9e699",
   "metadata": {},
   "outputs": [
    {
     "name": "stdout",
     "output_type": "stream",
     "text": [
      "[[  0 118  91   0   0  81  48 164 189 147 224 183  19  35   0]\n",
      " [  0 118  91   0   0  81  48 164 189 147 224 183  19  35   0]\n",
      " [  0 118  91   0   0  81  48 164 189 147 224 183  19  35   0]\n",
      " [  0 118  91   0   0  81  48 164 189 147 224 183  19  35   0]\n",
      " [  0 118  91   0   0  81  48 164 189 147 224 183  19  35   0]]\n"
     ]
    }
   ],
   "source": [
    "print(data[:, :, 2])"
   ]
  },
  {
   "cell_type": "code",
   "execution_count": 9,
   "id": "bc17da1e",
   "metadata": {},
   "outputs": [],
   "source": [
    "nd_c = np.zeros((500, 1500, 3), dtype='uint8')\n",
    "section_width = 250\n",
    "nd_c[:, section_width:section_width*2, 0] = 255\n",
    "nd_c[:, section_width*3:section_width*4, 1] = 255\n",
    "nd_c[:, section_width*5:section_width*6, 2] = 255"
   ]
  },
  {
   "cell_type": "code",
   "execution_count": 10,
   "id": "afbce7db",
   "metadata": {},
   "outputs": [
    {
     "data": {
      "text/plain": [
       "<matplotlib.image.AxesImage at 0x20d4613e970>"
      ]
     },
     "execution_count": 10,
     "metadata": {},
     "output_type": "execute_result"
    },
    {
     "data": {
      "image/png": "[encoded data removed]",
      "text/plain": [
       "<Figure size 640x480 with 1 Axes>"
      ]
     },
     "metadata": {},
     "output_type": "display_data"
    }
   ],
   "source": [
    "img_c = Image.fromarray(nd_c)\n",
    "plt.imshow(img_c)"
   ]
  },
  {
   "cell_type": "code",
   "execution_count": 11,
   "id": "5f8056f2",
   "metadata": {},
   "outputs": [],
   "source": [
    "img_c.save('img_color.jpg', quality=95)"
   ]
  }
 ],
 "metadata": {
  "kernelspec": {
   "display_name": "ds2025",
   "language": "python",
   "name": "python3"
  },
  "language_info": {
   "codemirror_mode": {
    "name": "ipython",
    "version": 3
   },
   "file_extension": ".py",
   "mimetype": "text/x-python",
   "name": "python",
   "nbconvert_exporter": "python",
   "pygments_lexer": "ipython3",
   "version": "3.9.15"
  }
 },
 "nbformat": 4,
 "nbformat_minor": 5
}
