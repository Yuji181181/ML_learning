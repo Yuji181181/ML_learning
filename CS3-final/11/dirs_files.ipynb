{
 "cells": [
  {
   "cell_type": "code",
   "execution_count": 1,
   "id": "c0bf39fd",
   "metadata": {},
   "outputs": [],
   "source": [
    "import shutil, os, glob"
   ]
  },
  {
   "cell_type": "code",
   "execution_count": 2,
   "id": "1a25ecef",
   "metadata": {},
   "outputs": [
    {
     "name": "stdout",
     "output_type": "stream",
     "text": [
      "dir1\\file0.txt\n",
      "dir1\\file1.txt\n",
      "dir1\\file2.txt\n",
      "dir1\\file3.txt\n"
     ]
    }
   ],
   "source": [
    "d = 'dir1'\n",
    "\n",
    "if os.path.isdir(d):\n",
    "    shutil.rmtree(d)\n",
    "\n",
    "os.makedirs(d)\n",
    "for i in range(4):\n",
    "    file = 'file{}.txt'.format(i)\n",
    "    file_path = os.path.join(d, file)\n",
    "    print(file_path)\n",
    "    with open(file_path, 'w') as f:\n",
    "        f.write('Top line of {}\\n'.format(file))\n",
    "        f.write('Second line of {}\\n'.format(file))"
   ]
  },
  {
   "cell_type": "code",
   "execution_count": 3,
   "id": "1a2e64c4",
   "metadata": {},
   "outputs": [
    {
     "name": "stdout",
     "output_type": "stream",
     "text": [
      "dir1\\file0.txt\n",
      "Top line of file0.txt\n",
      "Second line of file0.txt\n",
      "dir1\\file1.txt\n",
      "Top line of file1.txt\n",
      "Second line of file1.txt\n",
      "dir1\\file2.txt\n",
      "Top line of file2.txt\n",
      "Second line of file2.txt\n",
      "dir1\\file3.txt\n",
      "Top line of file3.txt\n",
      "Second line of file3.txt\n"
     ]
    }
   ],
   "source": [
    "file_pat = '{}/*.txt'.format(d)\n",
    "for file_path in glob.glob(file_pat):\n",
    "    print(file_path)\n",
    "    with open(file_path, 'r') as f:\n",
    "        for line in f:\n",
    "            print(line, end='')"
   ]
  }
 ],
 "metadata": {
  "kernelspec": {
   "display_name": "ds2025",
   "language": "python",
   "name": "python3"
  },
  "language_info": {
   "codemirror_mode": {
    "name": "ipython",
    "version": 3
   },
   "file_extension": ".py",
   "mimetype": "text/x-python",
   "name": "python",
   "nbconvert_exporter": "python",
   "pygments_lexer": "ipython3",
   "version": "3.9.15"
  }
 },
 "nbformat": 4,
 "nbformat_minor": 5
}
