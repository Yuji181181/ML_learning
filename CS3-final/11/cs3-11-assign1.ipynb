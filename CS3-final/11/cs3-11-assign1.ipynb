{
 "cells": [
  {
   "cell_type": "code",
   "execution_count": 1,
   "id": "534f9e4e",
   "metadata": {},
   "outputs": [],
   "source": [
    "import shutil, os, glob"
   ]
  },
  {
   "cell_type": "code",
   "execution_count": 2,
   "id": "fb459b84",
   "metadata": {},
   "outputs": [],
   "source": [
    "d = 'num'\n",
    "if os.path.isdir(d):\n",
    "    shutil.rmtree(d)"
   ]
  },
  {
   "cell_type": "code",
   "execution_count": 3,
   "id": "dd1835b5",
   "metadata": {},
   "outputs": [],
   "source": [
    "os.makedirs(d)\n",
    "for i in range(1, 6):\n",
    "    file = f'{i}.txt'\n",
    "    file_path = os.path.join(d, file)\n",
    "    with open(file_path, 'w') as f:\n",
    "        f.write(f'{i}\\n')"
   ]
  },
  {
   "cell_type": "code",
   "execution_count": 4,
   "id": "3b078e8c",
   "metadata": {},
   "outputs": [],
   "source": [
    "file_pat = os.path.join(d, '*.txt')\n",
    "total = 0\n",
    "for file_path in glob.glob(file_pat):\n",
    "    with open(file_path, 'r') as f:\n",
    "        num = int(f.readline().strip())\n",
    "        total += num"
   ]
  },
  {
   "cell_type": "code",
   "execution_count": 5,
   "id": "656922c4",
   "metadata": {},
   "outputs": [
    {
     "name": "stdout",
     "output_type": "stream",
     "text": [
      "15\n"
     ]
    }
   ],
   "source": [
    "print(total)"
   ]
  }
 ],
 "metadata": {
  "kernelspec": {
   "display_name": "ds2025",
   "language": "python",
   "name": "python3"
  },
  "language_info": {
   "codemirror_mode": {
    "name": "ipython",
    "version": 3
   },
   "file_extension": ".py",
   "mimetype": "text/x-python",
   "name": "python",
   "nbconvert_exporter": "python",
   "pygments_lexer": "ipython3",
   "version": "3.9.15"
  }
 },
 "nbformat": 4,
 "nbformat_minor": 5
}
