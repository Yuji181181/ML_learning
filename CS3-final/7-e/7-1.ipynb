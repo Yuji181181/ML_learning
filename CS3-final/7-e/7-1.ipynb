{
 "cells": [
  {
   "cell_type": "code",
   "execution_count": 2,
   "metadata": {},
   "outputs": [],
   "source": [
    "import pandas as pd\n",
    "import numpy as np\n",
    "import matplotlib.pyplot as plt"
   ]
  },
  {
   "cell_type": "code",
   "execution_count": 5,
   "metadata": {},
   "outputs": [],
   "source": [
    "data = \"data/7203.T.csv\"\n",
    "df = pd.read_csv(data)"
   ]
  },
  {
   "cell_type": "code",
   "execution_count": 6,
   "metadata": {},
   "outputs": [
    {
     "name": "stdout",
     "output_type": "stream",
     "text": [
      "(246, 7)\n",
      "<class 'pandas.core.frame.DataFrame'>\n",
      "RangeIndex: 246 entries, 0 to 245\n",
      "Data columns (total 7 columns):\n",
      " #   Column     Non-Null Count  Dtype  \n",
      "---  ------     --------------  -----  \n",
      " 0   Date       246 non-null    object \n",
      " 1   Open       246 non-null    float64\n",
      " 2   High       246 non-null    float64\n",
      " 3   Low        246 non-null    float64\n",
      " 4   Close      246 non-null    float64\n",
      " 5   Adj Close  246 non-null    float64\n",
      " 6   Volume     246 non-null    int64  \n",
      "dtypes: float64(5), int64(1), object(1)\n",
      "memory usage: 13.6+ KB\n",
      "None\n"
     ]
    },
    {
     "data": {
      "text/html": [
       "<div>\n",
       "<style scoped>\n",
       "    .dataframe tbody tr th:only-of-type {\n",
       "        vertical-align: middle;\n",
       "    }\n",
       "\n",
       "    .dataframe tbody tr th {\n",
       "        vertical-align: top;\n",
       "    }\n",
       "\n",
       "    .dataframe thead th {\n",
       "        text-align: right;\n",
       "    }\n",
       "</style>\n",
       "<table border=\"1\" class=\"dataframe\">\n",
       "  <thead>\n",
       "    <tr style=\"text-align: right;\">\n",
       "      <th></th>\n",
       "      <th>Date</th>\n",
       "      <th>Open</th>\n",
       "      <th>High</th>\n",
       "      <th>Low</th>\n",
       "      <th>Close</th>\n",
       "      <th>Adj Close</th>\n",
       "      <th>Volume</th>\n",
       "    </tr>\n",
       "  </thead>\n",
       "  <tbody>\n",
       "    <tr>\n",
       "      <th>0</th>\n",
       "      <td>2022-05-23</td>\n",
       "      <td>2052.5</td>\n",
       "      <td>2065.0</td>\n",
       "      <td>2038.0</td>\n",
       "      <td>2061.5</td>\n",
       "      <td>1996.657227</td>\n",
       "      <td>20585700</td>\n",
       "    </tr>\n",
       "    <tr>\n",
       "      <th>1</th>\n",
       "      <td>2022-05-24</td>\n",
       "      <td>2064.5</td>\n",
       "      <td>2078.0</td>\n",
       "      <td>2050.0</td>\n",
       "      <td>2050.0</td>\n",
       "      <td>1985.518921</td>\n",
       "      <td>18717900</td>\n",
       "    </tr>\n",
       "    <tr>\n",
       "      <th>2</th>\n",
       "      <td>2022-05-25</td>\n",
       "      <td>2040.0</td>\n",
       "      <td>2067.0</td>\n",
       "      <td>2037.0</td>\n",
       "      <td>2043.5</td>\n",
       "      <td>1979.223389</td>\n",
       "      <td>18929300</td>\n",
       "    </tr>\n",
       "    <tr>\n",
       "      <th>3</th>\n",
       "      <td>2022-05-26</td>\n",
       "      <td>2065.0</td>\n",
       "      <td>2106.0</td>\n",
       "      <td>2060.5</td>\n",
       "      <td>2082.0</td>\n",
       "      <td>2016.512451</td>\n",
       "      <td>23739700</td>\n",
       "    </tr>\n",
       "    <tr>\n",
       "      <th>4</th>\n",
       "      <td>2022-05-27</td>\n",
       "      <td>2117.0</td>\n",
       "      <td>2117.0</td>\n",
       "      <td>2079.0</td>\n",
       "      <td>2084.0</td>\n",
       "      <td>2018.449585</td>\n",
       "      <td>19511600</td>\n",
       "    </tr>\n",
       "  </tbody>\n",
       "</table>\n",
       "</div>"
      ],
      "text/plain": [
       "         Date    Open    High     Low   Close    Adj Close    Volume\n",
       "0  2022-05-23  2052.5  2065.0  2038.0  2061.5  1996.657227  20585700\n",
       "1  2022-05-24  2064.5  2078.0  2050.0  2050.0  1985.518921  18717900\n",
       "2  2022-05-25  2040.0  2067.0  2037.0  2043.5  1979.223389  18929300\n",
       "3  2022-05-26  2065.0  2106.0  2060.5  2082.0  2016.512451  23739700\n",
       "4  2022-05-27  2117.0  2117.0  2079.0  2084.0  2018.449585  19511600"
      ]
     },
     "metadata": {},
     "output_type": "display_data"
    }
   ],
   "source": [
    "print(df.shape)\n",
    "print(df.info())\n",
    "display(df.head())"
   ]
  },
  {
   "cell_type": "code",
   "execution_count": null,
   "metadata": {},
   "outputs": [],
   "source": []
  }
 ],
 "metadata": {
  "kernelspec": {
   "display_name": "ds2025",
   "language": "python",
   "name": "python3"
  },
  "language_info": {
   "codemirror_mode": {
    "name": "ipython",
    "version": 3
   },
   "file_extension": ".py",
   "mimetype": "text/x-python",
   "name": "python",
   "nbconvert_exporter": "python",
   "pygments_lexer": "ipython3",
   "version": "3.9.15"
  }
 },
 "nbformat": 4,
 "nbformat_minor": 2
}
