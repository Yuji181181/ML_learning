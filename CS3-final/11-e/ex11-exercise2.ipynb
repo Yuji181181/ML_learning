{
 "cells": [
  {
   "cell_type": "code",
   "execution_count": 2,
   "id": "b4084cda",
   "metadata": {},
   "outputs": [],
   "source": [
    "import numpy as np\n",
    "from PIL import Image, ImageFilter"
   ]
  },
  {
   "cell_type": "code",
   "execution_count": 3,
   "id": "7e7bb339",
   "metadata": {},
   "outputs": [
    {
     "name": "stdout",
     "output_type": "stream",
     "text": [
      "JPEG\n",
      "(1280, 854)\n"
     ]
    }
   ],
   "source": [
    "image = Image.open(\"dog.jpg\")\n",
    "print(image.format)\n",
    "print(image.size)"
   ]
  },
  {
   "cell_type": "code",
   "execution_count": 4,
   "id": "c421aa92",
   "metadata": {},
   "outputs": [
    {
     "name": "stdout",
     "output_type": "stream",
     "text": [
      "(216, 198, 186)\n",
      "[216 198 186]\n"
     ]
    }
   ],
   "source": [
    "\n",
    "rgb_value_getpixel = image.getpixel((500, 300))\n",
    "image_array = np.array(image)\n",
    "rgb_value_ndarray = image_array[300, 500] \n",
    "\n",
    "print(rgb_value_getpixel)\n",
    "print(rgb_value_ndarray)"
   ]
  },
  {
   "cell_type": "code",
   "execution_count": 5,
   "id": "b9fc9cba",
   "metadata": {},
   "outputs": [],
   "source": [
    "blurred_image = image.filter(ImageFilter.GaussianBlur(radius=10))\n",
    "cropped_image = blurred_image.crop((400, 200, 800, 700))\n",
    "rotated_image = cropped_image.rotate(-45, expand=True)\n",
    "grayscale_image = rotated_image.convert(\"L\")"
   ]
  },
  {
   "cell_type": "code",
   "execution_count": 6,
   "id": "e359232b",
   "metadata": {},
   "outputs": [
    {
     "name": "stdout",
     "output_type": "stream",
     "text": [
      "193\n",
      "193\n"
     ]
    }
   ],
   "source": [
    "rgb_value_getpixel_final = grayscale_image.getpixel((500, 300))\n",
    "image_array_final = np.array(grayscale_image)\n",
    "rgb_value_ndarray_final = image_array_final[300, 500]\n",
    "\n",
    "print(rgb_value_getpixel_final)\n",
    "print(rgb_value_getpixel_final)"
   ]
  },
  {
   "cell_type": "code",
   "execution_count": 7,
   "id": "edafcb25",
   "metadata": {},
   "outputs": [],
   "source": [
    "grayscale_image.save(\"dog_c45.jpg\", quality=95)"
   ]
  }
 ],
 "metadata": {
  "kernelspec": {
   "display_name": "ds2025",
   "language": "python",
   "name": "python3"
  },
  "language_info": {
   "codemirror_mode": {
    "name": "ipython",
    "version": 3
   },
   "file_extension": ".py",
   "mimetype": "text/x-python",
   "name": "python",
   "nbconvert_exporter": "python",
   "pygments_lexer": "ipython3",
   "version": "3.9.15"
  }
 },
 "nbformat": 4,
 "nbformat_minor": 5
}
