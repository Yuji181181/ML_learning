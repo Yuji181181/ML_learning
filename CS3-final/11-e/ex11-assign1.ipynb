{
 "cells": [
  {
   "cell_type": "code",
   "execution_count": 7,
   "id": "4abc6a9a",
   "metadata": {},
   "outputs": [],
   "source": [
    "import numpy as np\n",
    "from PIL import Image, ImageFilter"
   ]
  },
  {
   "cell_type": "code",
   "execution_count": 8,
   "id": "0590121c",
   "metadata": {},
   "outputs": [
    {
     "name": "stdout",
     "output_type": "stream",
     "text": [
      "JPEG\n",
      "(1920, 1610)\n"
     ]
    }
   ],
   "source": [
    "cat_image = Image.open(\"cat.jpg\")\n",
    "print(cat_image.format)\n",
    "print(cat_image.size)"
   ]
  },
  {
   "cell_type": "code",
   "execution_count": 9,
   "id": "7516cd43",
   "metadata": {},
   "outputs": [
    {
     "name": "stdout",
     "output_type": "stream",
     "text": [
      "[206 189 145]\n"
     ]
    }
   ],
   "source": [
    "cat_array = np.array(cat_image)\n",
    "rgb_value = cat_array[700, 500]\n",
    "print(rgb_value)"
   ]
  },
  {
   "cell_type": "code",
   "execution_count": 10,
   "id": "e4030f5c",
   "metadata": {},
   "outputs": [],
   "source": [
    "resized_image = cat_image.resize((1000, 1000))\n",
    "cropped_image = resized_image.crop((350, 300, 750, 700))\n",
    "rotated_image = cropped_image.rotate(180, expand=True)\n",
    "translated_image = rotated_image.transform(rotated_image.size, Image.AFFINE, (1, 0, 50, 0, 1, -30))\n",
    "blurred_image = translated_image.filter(ImageFilter.GaussianBlur(radius=8))\n",
    "\n",
    "grayscale_image = blurred_image.convert(\"L\")\n",
    "\n",
    "grayscale_image.show()"
   ]
  },
  {
   "cell_type": "code",
   "execution_count": 11,
   "id": "c0fba917",
   "metadata": {},
   "outputs": [],
   "source": [
    "grayscale_image.save(\"cat_assign1.jpg\", quality=95)"
   ]
  }
 ],
 "metadata": {
  "kernelspec": {
   "display_name": "ds2025",
   "language": "python",
   "name": "python3"
  },
  "language_info": {
   "codemirror_mode": {
    "name": "ipython",
    "version": 3
   },
   "file_extension": ".py",
   "mimetype": "text/x-python",
   "name": "python",
   "nbconvert_exporter": "python",
   "pygments_lexer": "ipython3",
   "version": "3.9.15"
  }
 },
 "nbformat": 4,
 "nbformat_minor": 5
}
