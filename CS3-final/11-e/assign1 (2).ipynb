{
 "cells": [
  {
   "cell_type": "code",
   "execution_count": 8,
   "id": "6efe1ad4",
   "metadata": {},
   "outputs": [],
   "source": [
    "# 1. cat.jpgを読み込み、画像の形式、画像の幅・高さを表示せよ。\n",
    "# また、imshowメソッドで画像を表示せよ。\n",
    "# 2. ndarrayに変換し、横方向の座標が500,縦方向の座標が700のピクセルの RGB値を答えよ。\n",
    "# 3. 以下の順で操作を行い、右図のような画像を作成せよ。\n",
    "# 1. 画像のサイズを1000×1000に変更\n",
    "# 2. 横軸の座標が350~750, 縦軸の座標が300~700の範囲の画像を切り出す\n",
    "# 3. 画像を180度回転し、 右方向に50ピクセル、上方向に30ピクセル平行移動\n",
    "# 4. ガウシアンぼかし (Gaussian Blur) フィルタを適用 (radius=8とする)\n",
    "# 5. グレースケールに変換\n",
    "# 4. 画像をcat_assign1.jpgという名前で保存せよ。 なお、保存する画像の品質を95に設定すること。"
   ]
  },
  {
   "cell_type": "code",
   "execution_count": 9,
   "id": "4abc6a9a",
   "metadata": {},
   "outputs": [],
   "source": [
    "import numpy as np\n",
    "from PIL import Image, ImageFilter"
   ]
  },
  {
   "cell_type": "code",
   "execution_count": 10,
   "id": "0590121c",
   "metadata": {},
   "outputs": [
    {
     "name": "stdout",
     "output_type": "stream",
     "text": [
      "形式: JPEG\n",
      "サイズ: (1920, 1610) (width x height)\n"
     ]
    }
   ],
   "source": [
    "# 1. cat.jpgを読み込み、画像の形式、画像の幅・高さを表示せよ。\n",
    "# また、imshowメソッドで画像を表示せよ。\n",
    "cat_image = Image.open(\"./data/cat.jpg\")\n",
    "print(f\"形式: {cat_image.format}\")\n",
    "print(f\"サイズ: {cat_image.size} (width x height)\")\n",
    "# cat_image.show()"
   ]
  },
  {
   "cell_type": "code",
   "execution_count": 11,
   "id": "7516cd43",
   "metadata": {},
   "outputs": [
    {
     "name": "stdout",
     "output_type": "stream",
     "text": [
      "RGB値 (700, 500): [206 189 145]\n"
     ]
    }
   ],
   "source": [
    "# 2 ndarrayに変換し、横方向の座標が500,縦方向の座標が700のピクセルの RGB値を答えよ。\n",
    "cat_array = np.array(cat_image)\n",
    "rgb_value = cat_array[700, 500]\n",
    "print(f\"RGB値 (700, 500): {rgb_value}\")"
   ]
  },
  {
   "cell_type": "code",
   "execution_count": 12,
   "id": "e4030f5c",
   "metadata": {},
   "outputs": [],
   "source": [
    "# 3. 以下の順で操作を行い、右図のような画像を作成せよ。\n",
    "\n",
    "# 1. 画像のサイズを1000×1000に変更\n",
    "resized_image = cat_image.resize((1000, 1000))\n",
    "# 2. 横軸の座標が350~750, 縦軸の座標が300~700の範囲の画像を切り出す\n",
    "cropped_image = resized_image.crop((350, 300, 750, 700))\n",
    "# 3. 画像を180度回転し、右方向に50ピクセル、上方向に30ピクセル平行移動\n",
    "rotated_image = cropped_image.rotate(180, expand=True)\n",
    "translated_image = rotated_image.transform(\n",
    "    rotated_image.size, Image.AFFINE, (1, 0, 50, 0, 1, -30)\n",
    ")\n",
    "# 4. ガウシアンぼかし (Gaussian Blur) フィルタを適用 (radius=8とする)\n",
    "blurred_image = translated_image.filter(ImageFilter.GaussianBlur(radius=8))\n",
    "# 5. グレースケールに変換\n",
    "grayscale_image = blurred_image.convert(\"L\")\n",
    "# 確認\n",
    "# grayscale_image.show()"
   ]
  },
  {
   "cell_type": "code",
   "execution_count": 13,
   "id": "c0fba917",
   "metadata": {},
   "outputs": [],
   "source": [
    "# 5. 画像をdog_c45.jpgという名前で保存せよ。\n",
    "grayscale_image.save(\"./data/cat_assign1.jpg\", quality=95)"
   ]
  },
  {
   "cell_type": "code",
   "execution_count": null,
   "id": "b7517966",
   "metadata": {},
   "outputs": [],
   "source": []
  }
 ],
 "metadata": {
  "kernelspec": {
   "display_name": "ds2025",
   "language": "python",
   "name": "python3"
  },
  "language_info": {
   "codemirror_mode": {
    "name": "ipython",
    "version": 3
   },
   "file_extension": ".py",
   "mimetype": "text/x-python",
   "name": "python",
   "nbconvert_exporter": "python",
   "pygments_lexer": "ipython3",
   "version": "3.9.15"
  }
 },
 "nbformat": 4,
 "nbformat_minor": 5
}
