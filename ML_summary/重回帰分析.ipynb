{
 "cells": [
  {
   "cell_type": "code",
   "execution_count": 79,
   "id": "335c4105",
   "metadata": {},
   "outputs": [],
   "source": [
    "import numpy as np\n",
    "import pandas as pd\n",
    "import matplotlib.pyplot as plt\n",
    "import seaborn as sns\n",
    "import statsmodels.api as sm\n",
    "from sklearn.preprocessing import scale\n",
    "from sklearn.metrics import mean_squared_error"
   ]
  },
  {
   "cell_type": "code",
   "execution_count": 80,
   "id": "b361c43a",
   "metadata": {},
   "outputs": [],
   "source": [
    "data = \"data/student-por-gp.csv\"\n",
    "df = pd.read_csv(data)"
   ]
  },
  {
   "cell_type": "code",
   "execution_count": 81,
   "id": "8ff90715",
   "metadata": {},
   "outputs": [
    {
     "name": "stdout",
     "output_type": "stream",
     "text": [
      "(423, 10)\n",
      "<class 'pandas.core.frame.DataFrame'>\n",
      "RangeIndex: 423 entries, 0 to 422\n",
      "Data columns (total 10 columns):\n",
      " #   Column     Non-Null Count  Dtype \n",
      "---  ------     --------------  ----- \n",
      " 0   age        423 non-null    int64 \n",
      " 1   reason     423 non-null    object\n",
      " 2   studytime  423 non-null    object\n",
      " 3   failures   423 non-null    int64 \n",
      " 4   schoolsup  423 non-null    int64 \n",
      " 5   higher     423 non-null    int64 \n",
      " 6   goout      423 non-null    int64 \n",
      " 7   health     423 non-null    int64 \n",
      " 8   absences   423 non-null    int64 \n",
      " 9   G3         423 non-null    int64 \n",
      "dtypes: int64(8), object(2)\n",
      "memory usage: 33.2+ KB\n",
      "None\n"
     ]
    },
    {
     "data": {
      "text/html": [
       "<div>\n",
       "<style scoped>\n",
       "    .dataframe tbody tr th:only-of-type {\n",
       "        vertical-align: middle;\n",
       "    }\n",
       "\n",
       "    .dataframe tbody tr th {\n",
       "        vertical-align: top;\n",
       "    }\n",
       "\n",
       "    .dataframe thead th {\n",
       "        text-align: right;\n",
       "    }\n",
       "</style>\n",
       "<table border=\"1\" class=\"dataframe\">\n",
       "  <thead>\n",
       "    <tr style=\"text-align: right;\">\n",
       "      <th></th>\n",
       "      <th>age</th>\n",
       "      <th>reason</th>\n",
       "      <th>studytime</th>\n",
       "      <th>failures</th>\n",
       "      <th>schoolsup</th>\n",
       "      <th>higher</th>\n",
       "      <th>goout</th>\n",
       "      <th>health</th>\n",
       "      <th>absences</th>\n",
       "      <th>G3</th>\n",
       "    </tr>\n",
       "  </thead>\n",
       "  <tbody>\n",
       "    <tr>\n",
       "      <th>0</th>\n",
       "      <td>18</td>\n",
       "      <td>course</td>\n",
       "      <td>2 to 5 hours</td>\n",
       "      <td>0</td>\n",
       "      <td>1</td>\n",
       "      <td>1</td>\n",
       "      <td>4</td>\n",
       "      <td>3</td>\n",
       "      <td>4</td>\n",
       "      <td>11</td>\n",
       "    </tr>\n",
       "    <tr>\n",
       "      <th>1</th>\n",
       "      <td>17</td>\n",
       "      <td>course</td>\n",
       "      <td>2 to 5 hours</td>\n",
       "      <td>0</td>\n",
       "      <td>0</td>\n",
       "      <td>1</td>\n",
       "      <td>3</td>\n",
       "      <td>3</td>\n",
       "      <td>2</td>\n",
       "      <td>11</td>\n",
       "    </tr>\n",
       "    <tr>\n",
       "      <th>2</th>\n",
       "      <td>15</td>\n",
       "      <td>other</td>\n",
       "      <td>2 to 5 hours</td>\n",
       "      <td>0</td>\n",
       "      <td>1</td>\n",
       "      <td>1</td>\n",
       "      <td>2</td>\n",
       "      <td>3</td>\n",
       "      <td>6</td>\n",
       "      <td>12</td>\n",
       "    </tr>\n",
       "    <tr>\n",
       "      <th>3</th>\n",
       "      <td>15</td>\n",
       "      <td>home</td>\n",
       "      <td>5 to 10 hours</td>\n",
       "      <td>0</td>\n",
       "      <td>0</td>\n",
       "      <td>1</td>\n",
       "      <td>2</td>\n",
       "      <td>5</td>\n",
       "      <td>0</td>\n",
       "      <td>14</td>\n",
       "    </tr>\n",
       "    <tr>\n",
       "      <th>4</th>\n",
       "      <td>16</td>\n",
       "      <td>home</td>\n",
       "      <td>2 to 5 hours</td>\n",
       "      <td>0</td>\n",
       "      <td>0</td>\n",
       "      <td>1</td>\n",
       "      <td>2</td>\n",
       "      <td>5</td>\n",
       "      <td>0</td>\n",
       "      <td>13</td>\n",
       "    </tr>\n",
       "  </tbody>\n",
       "</table>\n",
       "</div>"
      ],
      "text/plain": [
       "   age  reason      studytime  failures  schoolsup  higher  goout  health  \\\n",
       "0   18  course   2 to 5 hours         0          1       1      4       3   \n",
       "1   17  course   2 to 5 hours         0          0       1      3       3   \n",
       "2   15   other   2 to 5 hours         0          1       1      2       3   \n",
       "3   15    home  5 to 10 hours         0          0       1      2       5   \n",
       "4   16    home   2 to 5 hours         0          0       1      2       5   \n",
       "\n",
       "   absences  G3  \n",
       "0         4  11  \n",
       "1         2  11  \n",
       "2         6  12  \n",
       "3         0  14  \n",
       "4         0  13  "
      ]
     },
     "metadata": {},
     "output_type": "display_data"
    }
   ],
   "source": [
    "print(df.shape)\n",
    "print(df.info())\n",
    "display(df.head())"
   ]
  },
  {
   "cell_type": "markdown",
   "id": "5ea6bc74",
   "metadata": {},
   "source": [
    "### データの準備"
   ]
  },
  {
   "cell_type": "code",
   "execution_count": 82,
   "id": "3c72f21e",
   "metadata": {},
   "outputs": [
    {
     "name": "stdout",
     "output_type": "stream",
     "text": [
      "(423, 9)\n"
     ]
    },
    {
     "data": {
      "text/html": [
       "<div>\n",
       "<style scoped>\n",
       "    .dataframe tbody tr th:only-of-type {\n",
       "        vertical-align: middle;\n",
       "    }\n",
       "\n",
       "    .dataframe tbody tr th {\n",
       "        vertical-align: top;\n",
       "    }\n",
       "\n",
       "    .dataframe thead th {\n",
       "        text-align: right;\n",
       "    }\n",
       "</style>\n",
       "<table border=\"1\" class=\"dataframe\">\n",
       "  <thead>\n",
       "    <tr style=\"text-align: right;\">\n",
       "      <th></th>\n",
       "      <th>age</th>\n",
       "      <th>reason</th>\n",
       "      <th>studytime</th>\n",
       "      <th>failures</th>\n",
       "      <th>schoolsup</th>\n",
       "      <th>higher</th>\n",
       "      <th>goout</th>\n",
       "      <th>health</th>\n",
       "      <th>absences</th>\n",
       "    </tr>\n",
       "  </thead>\n",
       "  <tbody>\n",
       "    <tr>\n",
       "      <th>0</th>\n",
       "      <td>18</td>\n",
       "      <td>course</td>\n",
       "      <td>2 to 5 hours</td>\n",
       "      <td>0</td>\n",
       "      <td>1</td>\n",
       "      <td>1</td>\n",
       "      <td>4</td>\n",
       "      <td>3</td>\n",
       "      <td>4</td>\n",
       "    </tr>\n",
       "    <tr>\n",
       "      <th>1</th>\n",
       "      <td>17</td>\n",
       "      <td>course</td>\n",
       "      <td>2 to 5 hours</td>\n",
       "      <td>0</td>\n",
       "      <td>0</td>\n",
       "      <td>1</td>\n",
       "      <td>3</td>\n",
       "      <td>3</td>\n",
       "      <td>2</td>\n",
       "    </tr>\n",
       "    <tr>\n",
       "      <th>2</th>\n",
       "      <td>15</td>\n",
       "      <td>other</td>\n",
       "      <td>2 to 5 hours</td>\n",
       "      <td>0</td>\n",
       "      <td>1</td>\n",
       "      <td>1</td>\n",
       "      <td>2</td>\n",
       "      <td>3</td>\n",
       "      <td>6</td>\n",
       "    </tr>\n",
       "    <tr>\n",
       "      <th>3</th>\n",
       "      <td>15</td>\n",
       "      <td>home</td>\n",
       "      <td>5 to 10 hours</td>\n",
       "      <td>0</td>\n",
       "      <td>0</td>\n",
       "      <td>1</td>\n",
       "      <td>2</td>\n",
       "      <td>5</td>\n",
       "      <td>0</td>\n",
       "    </tr>\n",
       "    <tr>\n",
       "      <th>4</th>\n",
       "      <td>16</td>\n",
       "      <td>home</td>\n",
       "      <td>2 to 5 hours</td>\n",
       "      <td>0</td>\n",
       "      <td>0</td>\n",
       "      <td>1</td>\n",
       "      <td>2</td>\n",
       "      <td>5</td>\n",
       "      <td>0</td>\n",
       "    </tr>\n",
       "  </tbody>\n",
       "</table>\n",
       "</div>"
      ],
      "text/plain": [
       "   age  reason      studytime  failures  schoolsup  higher  goout  health  \\\n",
       "0   18  course   2 to 5 hours         0          1       1      4       3   \n",
       "1   17  course   2 to 5 hours         0          0       1      3       3   \n",
       "2   15   other   2 to 5 hours         0          1       1      2       3   \n",
       "3   15    home  5 to 10 hours         0          0       1      2       5   \n",
       "4   16    home   2 to 5 hours         0          0       1      2       5   \n",
       "\n",
       "   absences  \n",
       "0         4  \n",
       "1         2  \n",
       "2         6  \n",
       "3         0  \n",
       "4         0  "
      ]
     },
     "metadata": {},
     "output_type": "display_data"
    },
    {
     "name": "stdout",
     "output_type": "stream",
     "text": [
      "(423,)\n"
     ]
    },
    {
     "data": {
      "text/plain": [
       "0    11\n",
       "1    11\n",
       "2    12\n",
       "3    14\n",
       "4    13\n",
       "Name: G3, dtype: int64"
      ]
     },
     "metadata": {},
     "output_type": "display_data"
    }
   ],
   "source": [
    "X = df.drop(columns='G3') ## G3列以外のdfを抽出\n",
    "y = df['G3'] ## G3列をyとして抽出\n",
    "\n",
    "print(X.shape)\n",
    "display(X.head())\n",
    "print(y.shape)\n",
    "display(y.head())"
   ]
  },
  {
   "cell_type": "markdown",
   "id": "71793818",
   "metadata": {},
   "source": [
    "### 整数を割り当てる"
   ]
  },
  {
   "cell_type": "code",
   "execution_count": 83,
   "id": "ceb30e8e",
   "metadata": {},
   "outputs": [
    {
     "name": "stdout",
     "output_type": "stream",
     "text": [
      "studytime\n",
      "2 to 5 hours     206\n",
      "<2 hours         119\n",
      "5 to 10 hours     71\n",
      ">10 hours         27\n",
      "Name: count, dtype: int64\n",
      "<class 'pandas.core.frame.DataFrame'>\n",
      "RangeIndex: 423 entries, 0 to 422\n",
      "Data columns (total 9 columns):\n",
      " #   Column     Non-Null Count  Dtype \n",
      "---  ------     --------------  ----- \n",
      " 0   age        423 non-null    int64 \n",
      " 1   reason     423 non-null    object\n",
      " 2   studytime  423 non-null    int32 \n",
      " 3   failures   423 non-null    int64 \n",
      " 4   schoolsup  423 non-null    int64 \n",
      " 5   higher     423 non-null    int64 \n",
      " 6   goout      423 non-null    int64 \n",
      " 7   health     423 non-null    int64 \n",
      " 8   absences   423 non-null    int64 \n",
      "dtypes: int32(1), int64(7), object(1)\n",
      "memory usage: 28.2+ KB\n",
      "None\n"
     ]
    },
    {
     "data": {
      "text/html": [
       "<div>\n",
       "<style scoped>\n",
       "    .dataframe tbody tr th:only-of-type {\n",
       "        vertical-align: middle;\n",
       "    }\n",
       "\n",
       "    .dataframe tbody tr th {\n",
       "        vertical-align: top;\n",
       "    }\n",
       "\n",
       "    .dataframe thead th {\n",
       "        text-align: right;\n",
       "    }\n",
       "</style>\n",
       "<table border=\"1\" class=\"dataframe\">\n",
       "  <thead>\n",
       "    <tr style=\"text-align: right;\">\n",
       "      <th></th>\n",
       "      <th>age</th>\n",
       "      <th>reason</th>\n",
       "      <th>studytime</th>\n",
       "      <th>failures</th>\n",
       "      <th>schoolsup</th>\n",
       "      <th>higher</th>\n",
       "      <th>goout</th>\n",
       "      <th>health</th>\n",
       "      <th>absences</th>\n",
       "    </tr>\n",
       "  </thead>\n",
       "  <tbody>\n",
       "    <tr>\n",
       "      <th>0</th>\n",
       "      <td>18</td>\n",
       "      <td>course</td>\n",
       "      <td>2</td>\n",
       "      <td>0</td>\n",
       "      <td>1</td>\n",
       "      <td>1</td>\n",
       "      <td>4</td>\n",
       "      <td>3</td>\n",
       "      <td>4</td>\n",
       "    </tr>\n",
       "    <tr>\n",
       "      <th>1</th>\n",
       "      <td>17</td>\n",
       "      <td>course</td>\n",
       "      <td>2</td>\n",
       "      <td>0</td>\n",
       "      <td>0</td>\n",
       "      <td>1</td>\n",
       "      <td>3</td>\n",
       "      <td>3</td>\n",
       "      <td>2</td>\n",
       "    </tr>\n",
       "    <tr>\n",
       "      <th>2</th>\n",
       "      <td>15</td>\n",
       "      <td>other</td>\n",
       "      <td>2</td>\n",
       "      <td>0</td>\n",
       "      <td>1</td>\n",
       "      <td>1</td>\n",
       "      <td>2</td>\n",
       "      <td>3</td>\n",
       "      <td>6</td>\n",
       "    </tr>\n",
       "    <tr>\n",
       "      <th>3</th>\n",
       "      <td>15</td>\n",
       "      <td>home</td>\n",
       "      <td>3</td>\n",
       "      <td>0</td>\n",
       "      <td>0</td>\n",
       "      <td>1</td>\n",
       "      <td>2</td>\n",
       "      <td>5</td>\n",
       "      <td>0</td>\n",
       "    </tr>\n",
       "    <tr>\n",
       "      <th>4</th>\n",
       "      <td>16</td>\n",
       "      <td>home</td>\n",
       "      <td>2</td>\n",
       "      <td>0</td>\n",
       "      <td>0</td>\n",
       "      <td>1</td>\n",
       "      <td>2</td>\n",
       "      <td>5</td>\n",
       "      <td>0</td>\n",
       "    </tr>\n",
       "  </tbody>\n",
       "</table>\n",
       "</div>"
      ],
      "text/plain": [
       "   age  reason  studytime  failures  schoolsup  higher  goout  health  \\\n",
       "0   18  course          2         0          1       1      4       3   \n",
       "1   17  course          2         0          0       1      3       3   \n",
       "2   15   other          2         0          1       1      2       3   \n",
       "3   15    home          3         0          0       1      2       5   \n",
       "4   16    home          2         0          0       1      2       5   \n",
       "\n",
       "   absences  \n",
       "0         4  \n",
       "1         2  \n",
       "2         6  \n",
       "3         0  \n",
       "4         0  "
      ]
     },
     "metadata": {},
     "output_type": "display_data"
    }
   ],
   "source": [
    "print(X['studytime'].value_counts())\n",
    "\n",
    "X['studytime'] = X['studytime'].replace({'<2 hours':'1', '2 to 5 hours':'2', '5 to 10 hours':'3', '>10 hours':'4',}).astype('int')\n",
    "print(X.info())\n",
    "display(X.head())"
   ]
  },
  {
   "cell_type": "markdown",
   "id": "058d6890",
   "metadata": {},
   "source": [
    "### ダミー変数化"
   ]
  },
  {
   "cell_type": "code",
   "execution_count": 84,
   "id": "0b63a57c",
   "metadata": {},
   "outputs": [
    {
     "name": "stdout",
     "output_type": "stream",
     "text": [
      "reason\n",
      "course        167\n",
      "home          115\n",
      "reputation    114\n",
      "other          27\n",
      "Name: count, dtype: int64\n",
      "X_dumm: (423, 11)\n"
     ]
    },
    {
     "data": {
      "text/html": [
       "<div>\n",
       "<style scoped>\n",
       "    .dataframe tbody tr th:only-of-type {\n",
       "        vertical-align: middle;\n",
       "    }\n",
       "\n",
       "    .dataframe tbody tr th {\n",
       "        vertical-align: top;\n",
       "    }\n",
       "\n",
       "    .dataframe thead th {\n",
       "        text-align: right;\n",
       "    }\n",
       "</style>\n",
       "<table border=\"1\" class=\"dataframe\">\n",
       "  <thead>\n",
       "    <tr style=\"text-align: right;\">\n",
       "      <th></th>\n",
       "      <th>age</th>\n",
       "      <th>studytime</th>\n",
       "      <th>failures</th>\n",
       "      <th>schoolsup</th>\n",
       "      <th>higher</th>\n",
       "      <th>goout</th>\n",
       "      <th>health</th>\n",
       "      <th>absences</th>\n",
       "      <th>reason_home</th>\n",
       "      <th>reason_other</th>\n",
       "      <th>reason_reputation</th>\n",
       "    </tr>\n",
       "  </thead>\n",
       "  <tbody>\n",
       "    <tr>\n",
       "      <th>0</th>\n",
       "      <td>18</td>\n",
       "      <td>2</td>\n",
       "      <td>0</td>\n",
       "      <td>1</td>\n",
       "      <td>1</td>\n",
       "      <td>4</td>\n",
       "      <td>3</td>\n",
       "      <td>4</td>\n",
       "      <td>0</td>\n",
       "      <td>0</td>\n",
       "      <td>0</td>\n",
       "    </tr>\n",
       "    <tr>\n",
       "      <th>1</th>\n",
       "      <td>17</td>\n",
       "      <td>2</td>\n",
       "      <td>0</td>\n",
       "      <td>0</td>\n",
       "      <td>1</td>\n",
       "      <td>3</td>\n",
       "      <td>3</td>\n",
       "      <td>2</td>\n",
       "      <td>0</td>\n",
       "      <td>0</td>\n",
       "      <td>0</td>\n",
       "    </tr>\n",
       "    <tr>\n",
       "      <th>2</th>\n",
       "      <td>15</td>\n",
       "      <td>2</td>\n",
       "      <td>0</td>\n",
       "      <td>1</td>\n",
       "      <td>1</td>\n",
       "      <td>2</td>\n",
       "      <td>3</td>\n",
       "      <td>6</td>\n",
       "      <td>0</td>\n",
       "      <td>1</td>\n",
       "      <td>0</td>\n",
       "    </tr>\n",
       "    <tr>\n",
       "      <th>3</th>\n",
       "      <td>15</td>\n",
       "      <td>3</td>\n",
       "      <td>0</td>\n",
       "      <td>0</td>\n",
       "      <td>1</td>\n",
       "      <td>2</td>\n",
       "      <td>5</td>\n",
       "      <td>0</td>\n",
       "      <td>1</td>\n",
       "      <td>0</td>\n",
       "      <td>0</td>\n",
       "    </tr>\n",
       "    <tr>\n",
       "      <th>4</th>\n",
       "      <td>16</td>\n",
       "      <td>2</td>\n",
       "      <td>0</td>\n",
       "      <td>0</td>\n",
       "      <td>1</td>\n",
       "      <td>2</td>\n",
       "      <td>5</td>\n",
       "      <td>0</td>\n",
       "      <td>1</td>\n",
       "      <td>0</td>\n",
       "      <td>0</td>\n",
       "    </tr>\n",
       "  </tbody>\n",
       "</table>\n",
       "</div>"
      ],
      "text/plain": [
       "   age  studytime  failures  schoolsup  higher  goout  health  absences  \\\n",
       "0   18          2         0          1       1      4       3         4   \n",
       "1   17          2         0          0       1      3       3         2   \n",
       "2   15          2         0          1       1      2       3         6   \n",
       "3   15          3         0          0       1      2       5         0   \n",
       "4   16          2         0          0       1      2       5         0   \n",
       "\n",
       "   reason_home  reason_other  reason_reputation  \n",
       "0            0             0                  0  \n",
       "1            0             0                  0  \n",
       "2            0             1                  0  \n",
       "3            1             0                  0  \n",
       "4            1             0                  0  "
      ]
     },
     "metadata": {},
     "output_type": "display_data"
    }
   ],
   "source": [
    "print(X['reason'].value_counts())\n",
    "\n",
    "X_dumm = pd.get_dummies(X, drop_first=True, dtype='uint8')\n",
    "print('X_dumm:', X_dumm.shape)\n",
    "display(X_dumm.head())"
   ]
  },
  {
   "cell_type": "markdown",
   "id": "7f8054fb",
   "metadata": {},
   "source": [
    "### 重回帰分析(標準化なし)"
   ]
  },
  {
   "cell_type": "code",
   "execution_count": 85,
   "id": "92f34451",
   "metadata": {},
   "outputs": [
    {
     "name": "stdout",
     "output_type": "stream",
     "text": [
      "                            OLS Regression Results                            \n",
      "==============================================================================\n",
      "Dep. Variable:                     G3   R-squared:                       0.335\n",
      "Model:                            OLS   Adj. R-squared:                  0.317\n",
      "Method:                 Least Squares   F-statistic:                     18.82\n",
      "Date:                Sun, 15 Jun 2025   Prob (F-statistic):           1.53e-30\n",
      "Time:                        04:37:37   Log-Likelihood:                -921.75\n",
      "No. Observations:                 423   AIC:                             1868.\n",
      "Df Residuals:                     411   BIC:                             1916.\n",
      "Df Model:                          11                                         \n",
      "Covariance Type:            nonrobust                                         \n",
      "=====================================================================================\n",
      "                        coef    std err          t      P>|t|      [0.025      0.975]\n",
      "-------------------------------------------------------------------------------------\n",
      "const                 6.6330      1.712      3.874      0.000       3.267       9.999\n",
      "age                   0.2845      0.094      3.020      0.003       0.099       0.470\n",
      "studytime             0.3310      0.135      2.459      0.014       0.066       0.596\n",
      "failures             -1.2667      0.215     -5.881      0.000      -1.690      -0.843\n",
      "schoolsup            -1.4532      0.319     -4.557      0.000      -2.080      -0.826\n",
      "higher                2.6409      0.446      5.918      0.000       1.764       3.518\n",
      "goout                -0.2577      0.093     -2.765      0.006      -0.441      -0.075\n",
      "health               -0.1913      0.075     -2.537      0.012      -0.340      -0.043\n",
      "absences             -0.0609      0.021     -2.837      0.005      -0.103      -0.019\n",
      "reason_home           0.3086      0.266      1.162      0.246      -0.214       0.831\n",
      "reason_other          0.2220      0.454      0.489      0.625      -0.671       1.115\n",
      "reason_reputation     0.6043      0.271      2.231      0.026       0.072       1.137\n",
      "==============================================================================\n",
      "Omnibus:                        9.165   Durbin-Watson:                   1.940\n",
      "Prob(Omnibus):                  0.010   Jarque-Bera (JB):               13.993\n",
      "Skew:                          -0.129   Prob(JB):                     0.000915\n",
      "Kurtosis:                       3.853   Cond. No.                         296.\n",
      "==============================================================================\n",
      "\n",
      "Notes:\n",
      "[1] Standard Errors assume that the covariance matrix of the errors is correctly specified.\n"
     ]
    }
   ],
   "source": [
    "X_dumm_c = sm.add_constant(X_dumm)\n",
    "model = sm.OLS(y, X_dumm_c)\n",
    "results = model.fit()\n",
    "print(results.summary())"
   ]
  },
  {
   "cell_type": "code",
   "execution_count": 86,
   "id": "9ac00e7e",
   "metadata": {},
   "outputs": [
    {
     "name": "stdout",
     "output_type": "stream",
     "text": [
      "0.33500762976006826\n",
      "0.3172097804349119\n",
      " \n",
      "const                6.632959\n",
      "age                  0.284534\n",
      "studytime            0.330960\n",
      "failures            -1.266708\n",
      "schoolsup           -1.453179\n",
      "higher               2.640919\n",
      "goout               -0.257661\n",
      "health              -0.191346\n",
      "absences            -0.060924\n",
      "reason_home          0.308610\n",
      "reason_other         0.221979\n",
      "reason_reputation    0.604262\n",
      "dtype: float64\n"
     ]
    }
   ],
   "source": [
    "print(results.rsquared) ## 決定係数\n",
    "print(results.rsquared_adj) ## 調整済み決定係数\n",
    "print(\" \")\n",
    "print(results.params) ## 偏回帰係数"
   ]
  },
  {
   "cell_type": "markdown",
   "id": "2996b771",
   "metadata": {},
   "source": [
    "### 重回帰分析(標準化あり)"
   ]
  },
  {
   "cell_type": "code",
   "execution_count": 87,
   "id": "4ba2e4f6",
   "metadata": {},
   "outputs": [
    {
     "name": "stdout",
     "output_type": "stream",
     "text": [
      "                                 OLS Regression Results                                \n",
      "=======================================================================================\n",
      "Dep. Variable:                     G3   R-squared (uncentered):                   0.335\n",
      "Model:                            OLS   Adj. R-squared (uncentered):              0.317\n",
      "Method:                 Least Squares   F-statistic:                              18.87\n",
      "Date:                Sun, 15 Jun 2025   Prob (F-statistic):                    1.26e-30\n",
      "Time:                        04:37:37   Log-Likelihood:                         -513.92\n",
      "No. Observations:                 423   AIC:                                      1050.\n",
      "Df Residuals:                     412   BIC:                                      1094.\n",
      "Df Model:                          11                                                  \n",
      "Covariance Type:            nonrobust                                                  \n",
      "=====================================================================================\n",
      "                        coef    std err          t      P>|t|      [0.025      0.975]\n",
      "-------------------------------------------------------------------------------------\n",
      "age                   0.1349      0.045      3.024      0.003       0.047       0.223\n",
      "studytime             0.1059      0.043      2.462      0.014       0.021       0.190\n",
      "failures             -0.2661      0.045     -5.888      0.000      -0.355      -0.177\n",
      "schoolsup            -0.1878      0.041     -4.563      0.000      -0.269      -0.107\n",
      "higher                0.2663      0.045      5.925      0.000       0.178       0.355\n",
      "goout                -0.1131      0.041     -2.769      0.006      -0.193      -0.033\n",
      "health               -0.1035      0.041     -2.540      0.011      -0.184      -0.023\n",
      "absences             -0.1205      0.042     -2.840      0.005      -0.204      -0.037\n",
      "reason_home           0.0524      0.045      1.163      0.245      -0.036       0.141\n",
      "reason_other          0.0207      0.042      0.489      0.625      -0.062       0.104\n",
      "reason_reputation     0.1022      0.046      2.234      0.026       0.012       0.192\n",
      "==============================================================================\n",
      "Omnibus:                        9.165   Durbin-Watson:                   1.940\n",
      "Prob(Omnibus):                  0.010   Jarque-Bera (JB):               13.993\n",
      "Skew:                          -0.129   Prob(JB):                     0.000915\n",
      "Kurtosis:                       3.853   Cond. No.                         2.00\n",
      "==============================================================================\n",
      "\n",
      "Notes:\n",
      "[1] R² is computed without centering (uncentered) since the model does not contain a constant.\n",
      "[2] Standard Errors assume that the covariance matrix of the errors is correctly specified.\n"
     ]
    }
   ],
   "source": [
    "X_scaled_ar = scale(X_dumm)\n",
    "y_scaled_ar = scale(y)\n",
    "\n",
    "X_scaled = pd.DataFrame(X_scaled_ar, columns=X_dumm.columns)\n",
    "y_scaled = pd.Series(y_scaled_ar, name=y.name)\n",
    "model = sm.OLS(y_scaled, X_scaled)\n",
    "results_scaled = model.fit()\n",
    "print(results_scaled.summary())"
   ]
  },
  {
   "cell_type": "code",
   "execution_count": 88,
   "id": "afa4cf45",
   "metadata": {},
   "outputs": [
    {
     "name": "stdout",
     "output_type": "stream",
     "text": [
      "higher               0.266292\n",
      "failures            -0.266116\n",
      "schoolsup           -0.187796\n",
      "age                  0.134906\n",
      "absences            -0.120470\n",
      "goout               -0.113137\n",
      "studytime            0.105909\n",
      "health              -0.103530\n",
      "reason_reputation    0.102234\n",
      "reason_home          0.052357\n",
      "reason_other         0.020691\n",
      "dtype: float64\n"
     ]
    }
   ],
   "source": [
    "print(results_scaled.params.sort_values(key=np.abs, ascending=False))\n",
    "## 標準化偏回帰係数を比較"
   ]
  },
  {
   "cell_type": "markdown",
   "id": "fd8e5d5b",
   "metadata": {},
   "source": [
    "### モデルを使って分析"
   ]
  },
  {
   "cell_type": "code",
   "execution_count": 89,
   "id": "ed259326",
   "metadata": {},
   "outputs": [
    {
     "data": {
      "text/html": [
       "<div>\n",
       "<style scoped>\n",
       "    .dataframe tbody tr th:only-of-type {\n",
       "        vertical-align: middle;\n",
       "    }\n",
       "\n",
       "    .dataframe tbody tr th {\n",
       "        vertical-align: top;\n",
       "    }\n",
       "\n",
       "    .dataframe thead th {\n",
       "        text-align: right;\n",
       "    }\n",
       "</style>\n",
       "<table border=\"1\" class=\"dataframe\">\n",
       "  <thead>\n",
       "    <tr style=\"text-align: right;\">\n",
       "      <th></th>\n",
       "      <th>age</th>\n",
       "      <th>studytime</th>\n",
       "      <th>failures</th>\n",
       "      <th>schoolsup</th>\n",
       "      <th>higher</th>\n",
       "      <th>goout</th>\n",
       "      <th>health</th>\n",
       "      <th>absences</th>\n",
       "      <th>reason_home</th>\n",
       "      <th>reason_other</th>\n",
       "      <th>reason_reputation</th>\n",
       "    </tr>\n",
       "  </thead>\n",
       "  <tbody>\n",
       "    <tr>\n",
       "      <th>0</th>\n",
       "      <td>18</td>\n",
       "      <td>4</td>\n",
       "      <td>0</td>\n",
       "      <td>0</td>\n",
       "      <td>1</td>\n",
       "      <td>1</td>\n",
       "      <td>2</td>\n",
       "      <td>0</td>\n",
       "      <td>0</td>\n",
       "      <td>0</td>\n",
       "      <td>1</td>\n",
       "    </tr>\n",
       "    <tr>\n",
       "      <th>1</th>\n",
       "      <td>15</td>\n",
       "      <td>1</td>\n",
       "      <td>3</td>\n",
       "      <td>1</td>\n",
       "      <td>0</td>\n",
       "      <td>4</td>\n",
       "      <td>3</td>\n",
       "      <td>10</td>\n",
       "      <td>0</td>\n",
       "      <td>1</td>\n",
       "      <td>0</td>\n",
       "    </tr>\n",
       "  </tbody>\n",
       "</table>\n",
       "</div>"
      ],
      "text/plain": [
       "   age  studytime  failures  schoolsup  higher  goout  health  absences  \\\n",
       "0   18          4         0          0       1      1       2         0   \n",
       "1   15          1         3          1       0      4       3        10   \n",
       "\n",
       "   reason_home  reason_other  reason_reputation  \n",
       "0            0             0                  1  \n",
       "1            0             1                  0  "
      ]
     },
     "metadata": {},
     "output_type": "display_data"
    }
   ],
   "source": [
    "X_test = pd.DataFrame([[18, 4, 0, 0, 1, 1, 2, 0, 0, 0, 1], [15, 1, 3, 1, 0, 4, 3, 10, 0, 1, 0],], columns=X_dumm.columns) \n",
    "display(X_test)"
   ]
  },
  {
   "cell_type": "code",
   "execution_count": 90,
   "id": "551a4234",
   "metadata": {},
   "outputs": [
    {
     "name": "stdout",
     "output_type": "stream",
     "text": [
      "0    15.683232\n",
      "1     3.986678\n",
      "dtype: float64\n"
     ]
    }
   ],
   "source": [
    "X_test_c = sm.add_constant(X_test, has_constant='add')\n",
    "y_test = results.predict(X_test_c)\n",
    "print(y_test)"
   ]
  },
  {
   "cell_type": "code",
   "execution_count": 91,
   "id": "8ef272f6",
   "metadata": {},
   "outputs": [
    {
     "name": "stdout",
     "output_type": "stream",
     "text": [
      "0    11.755846\n",
      "1    13.304000\n",
      "2    11.517699\n",
      "3    13.371322\n",
      "4    13.324895\n",
      "dtype: float64\n"
     ]
    }
   ],
   "source": [
    "y_pred = results.predict(X_dumm_c)\n",
    "print(y_pred.head())"
   ]
  },
  {
   "cell_type": "code",
   "execution_count": 92,
   "id": "1ab9d440",
   "metadata": {},
   "outputs": [
    {
     "data": {
      "image/png": "[encoded data removed]",
      "text/plain": [
       "<Figure size 640x480 with 1 Axes>"
      ]
     },
     "metadata": {},
     "output_type": "display_data"
    }
   ],
   "source": [
    "y_min = np.append(y_pred, y).min()\n",
    "y_max = np.append(y_pred, y).max()\n",
    "y_margin = (y_max - y_min) * 0.1\n",
    "y_min -= y_margin\n",
    "y_max += y_margin\n",
    "\n",
    "plt.scatter(y_pred, y, alpha=0.3)\n",
    "plt.plot([y_min,y_max], [y_min,y_max])\n",
    "plt.gca().set_aspect('equal', adjustable='box')"
   ]
  },
  {
   "cell_type": "code",
   "execution_count": 93,
   "id": "f3937205",
   "metadata": {},
   "outputs": [
    {
     "name": "stdout",
     "output_type": "stream",
     "text": [
      "MSE, RMSE: 4.573595787773045 2.138596686561785\n"
     ]
    }
   ],
   "source": [
    "mse = mean_squared_error(y, y_pred)\n",
    "print('MSE, RMSE:', mse, np.sqrt(mse))"
   ]
  }
 ],
 "metadata": {
  "kernelspec": {
   "display_name": "ds2024",
   "language": "python",
   "name": "python3"
  },
  "language_info": {
   "codemirror_mode": {
    "name": "ipython",
    "version": 3
   },
   "file_extension": ".py",
   "mimetype": "text/x-python",
   "name": "python",
   "nbconvert_exporter": "python",
   "pygments_lexer": "ipython3",
   "version": "3.9.15"
  }
 },
 "nbformat": 4,
 "nbformat_minor": 5
}
