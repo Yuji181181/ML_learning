{
 "cells": [
  {
   "cell_type": "code",
   "execution_count": 17,
   "id": "038c6707",
   "metadata": {},
   "outputs": [],
   "source": [
    "import numpy as np\n",
    "import pandas as pd\n",
    "import matplotlib.pyplot as plt\n",
    "from tensorflow.keras.models import Sequential\n",
    "from tensorflow.keras.layers import Dense\n",
    "\n",
    "import  os"
   ]
  },
  {
   "cell_type": "markdown",
   "id": "8408a314",
   "metadata": {},
   "source": [
    "### 前処理"
   ]
  },
  {
   "cell_type": "code",
   "execution_count": 18,
   "id": "67f2283a",
   "metadata": {},
   "outputs": [
    {
     "name": "stdout",
     "output_type": "stream",
     "text": [
      "data: (4, 2)\n",
      "class: (4,)\n"
     ]
    }
   ],
   "source": [
    "df= pd.read_csv('data/points_and.csv', sep=',', skiprows=0, header=0)\n",
    "data_train = df[['x1', 'x2']] ## class列以外を抽出(2次元データ)\n",
    "class_train = df['class'] ## class列を抽出(1次元データ)\n",
    "print('data:', data_train.shape)\n",
    "print('class:', class_train.shape)"
   ]
  },
  {
   "cell_type": "markdown",
   "id": "d1973abd",
   "metadata": {},
   "source": [
    "### ANNの構築"
   ]
  },
  {
   "cell_type": "code",
   "execution_count": 19,
   "id": "00850390",
   "metadata": {},
   "outputs": [],
   "source": [
    "model = Sequential() ## 空のモデルを作成\n",
    "model.add(Dense(1, input_shape=(2,), activation='sigmoid')) ## 入力層"
   ]
  },
  {
   "cell_type": "markdown",
   "id": "b993612e",
   "metadata": {},
   "source": [
    "### 学習方法を設定"
   ]
  },
  {
   "cell_type": "code",
   "execution_count": 20,
   "id": "ddba92a7",
   "metadata": {},
   "outputs": [],
   "source": [
    "model.compile(optimizer='sgd', loss='binary_crossentropy',metrics=['accuracy'])\n",
    "## (optimizer='最適化アルゴリズム'、loss='損失関数'、metrics=['評価指標'])\n",
    "fit_log = model.fit(data_train, class_train, epochs=1000, batch_size=1, verbose=0)"
   ]
  },
  {
   "cell_type": "code",
   "execution_count": 21,
   "id": "23e9eca4",
   "metadata": {},
   "outputs": [
    {
     "name": "stdout",
     "output_type": "stream",
     "text": [
      "Epochs executed: 1000\n",
      "Final loss: 0.27867698669433594\n",
      "Final accuracy: 1.0\n"
     ]
    }
   ],
   "source": [
    "print('Epochs executed:', len(fit_log.history['loss']))\n",
    "print('Final loss:', fit_log.history['loss'][-1])\n",
    "print('Final accuracy:', fit_log.history['accuracy'][-1])"
   ]
  },
  {
   "cell_type": "code",
   "execution_count": 22,
   "id": "b68e3fbb",
   "metadata": {},
   "outputs": [
    {
     "name": "stdout",
     "output_type": "stream",
     "text": [
      "[[0.06219224]\n",
      " [0.23419195]\n",
      " [0.2630738 ]\n",
      " [0.62209994]]\n"
     ]
    }
   ],
   "source": [
    "pred = model.predict(data_train, verbose=0)\n",
    "print(pred)"
   ]
  }
 ],
 "metadata": {
  "kernelspec": {
   "display_name": "ds2024",
   "language": "python",
   "name": "python3"
  },
  "language_info": {
   "codemirror_mode": {
    "name": "ipython",
    "version": 3
   },
   "file_extension": ".py",
   "mimetype": "text/x-python",
   "name": "python",
   "nbconvert_exporter": "python",
   "pygments_lexer": "ipython3",
   "version": "3.9.15"
  }
 },
 "nbformat": 4,
 "nbformat_minor": 5
}
