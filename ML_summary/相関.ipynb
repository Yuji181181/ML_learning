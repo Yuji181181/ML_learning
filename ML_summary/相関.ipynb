{
 "cells": [
  {
   "cell_type": "code",
   "execution_count": 1,
   "metadata": {},
   "outputs": [],
   "source": [
    "import pandas as pd\n",
    "import matplotlib.pyplot as plt\n",
    "import seaborn as sns"
   ]
  },
  {
   "cell_type": "code",
   "execution_count": 3,
   "metadata": {},
   "outputs": [],
   "source": [
    "data = \"data/batting_npb2021.csv\"\n",
    "df = pd.read_csv(data)"
   ]
  },
  {
   "cell_type": "code",
   "execution_count": 4,
   "metadata": {},
   "outputs": [
    {
     "name": "stdout",
     "output_type": "stream",
     "text": [
      "(61, 5)\n",
      "<class 'pandas.core.frame.DataFrame'>\n",
      "RangeIndex: 61 entries, 0 to 60\n",
      "Data columns (total 5 columns):\n",
      " #   Column     Non-Null Count  Dtype\n",
      "---  ------     --------------  -----\n",
      " 0   Height     61 non-null     int64\n",
      " 1   Weight     61 non-null     int64\n",
      " 2   HomeRun    61 non-null     int64\n",
      " 3   StrikeOut  61 non-null     int64\n",
      " 4   Steal      61 non-null     int64\n",
      "dtypes: int64(5)\n",
      "memory usage: 2.5 KB\n",
      "None\n"
     ]
    },
    {
     "data": {
      "text/html": [
       "<div>\n",
       "<style scoped>\n",
       "    .dataframe tbody tr th:only-of-type {\n",
       "        vertical-align: middle;\n",
       "    }\n",
       "\n",
       "    .dataframe tbody tr th {\n",
       "        vertical-align: top;\n",
       "    }\n",
       "\n",
       "    .dataframe thead th {\n",
       "        text-align: right;\n",
       "    }\n",
       "</style>\n",
       "<table border=\"1\" class=\"dataframe\">\n",
       "  <thead>\n",
       "    <tr style=\"text-align: right;\">\n",
       "      <th></th>\n",
       "      <th>Height</th>\n",
       "      <th>Weight</th>\n",
       "      <th>HomeRun</th>\n",
       "      <th>StrikeOut</th>\n",
       "      <th>Steal</th>\n",
       "    </tr>\n",
       "  </thead>\n",
       "  <tbody>\n",
       "    <tr>\n",
       "      <th>0</th>\n",
       "      <td>173</td>\n",
       "      <td>85</td>\n",
       "      <td>21</td>\n",
       "      <td>26</td>\n",
       "      <td>0</td>\n",
       "    </tr>\n",
       "    <tr>\n",
       "      <th>1</th>\n",
       "      <td>170</td>\n",
       "      <td>85</td>\n",
       "      <td>11</td>\n",
       "      <td>65</td>\n",
       "      <td>5</td>\n",
       "    </tr>\n",
       "    <tr>\n",
       "      <th>2</th>\n",
       "      <td>190</td>\n",
       "      <td>104</td>\n",
       "      <td>32</td>\n",
       "      <td>116</td>\n",
       "      <td>3</td>\n",
       "    </tr>\n",
       "    <tr>\n",
       "      <th>3</th>\n",
       "      <td>188</td>\n",
       "      <td>87</td>\n",
       "      <td>28</td>\n",
       "      <td>122</td>\n",
       "      <td>6</td>\n",
       "    </tr>\n",
       "    <tr>\n",
       "      <th>4</th>\n",
       "      <td>171</td>\n",
       "      <td>85</td>\n",
       "      <td>11</td>\n",
       "      <td>84</td>\n",
       "      <td>4</td>\n",
       "    </tr>\n",
       "  </tbody>\n",
       "</table>\n",
       "</div>"
      ],
      "text/plain": [
       "   Height  Weight  HomeRun  StrikeOut  Steal\n",
       "0     173      85       21         26      0\n",
       "1     170      85       11         65      5\n",
       "2     190     104       32        116      3\n",
       "3     188      87       28        122      6\n",
       "4     171      85       11         84      4"
      ]
     },
     "metadata": {},
     "output_type": "display_data"
    }
   ],
   "source": [
    "print(df.shape)\n",
    "print(df.info())\n",
    "display(df.head())"
   ]
  },
  {
   "cell_type": "code",
   "execution_count": 9,
   "metadata": {},
   "outputs": [
    {
     "data": {
      "text/html": [
       "<div>\n",
       "<style scoped>\n",
       "    .dataframe tbody tr th:only-of-type {\n",
       "        vertical-align: middle;\n",
       "    }\n",
       "\n",
       "    .dataframe tbody tr th {\n",
       "        vertical-align: top;\n",
       "    }\n",
       "\n",
       "    .dataframe thead th {\n",
       "        text-align: right;\n",
       "    }\n",
       "</style>\n",
       "<table border=\"1\" class=\"dataframe\">\n",
       "  <thead>\n",
       "    <tr style=\"text-align: right;\">\n",
       "      <th></th>\n",
       "      <th>Height</th>\n",
       "      <th>Weight</th>\n",
       "      <th>HomeRun</th>\n",
       "      <th>StrikeOut</th>\n",
       "      <th>Steal</th>\n",
       "    </tr>\n",
       "  </thead>\n",
       "  <tbody>\n",
       "    <tr>\n",
       "      <th>Height</th>\n",
       "      <td>1.000000</td>\n",
       "      <td>0.700030</td>\n",
       "      <td>0.520405</td>\n",
       "      <td>0.425124</td>\n",
       "      <td>-0.235158</td>\n",
       "    </tr>\n",
       "    <tr>\n",
       "      <th>Weight</th>\n",
       "      <td>0.700030</td>\n",
       "      <td>1.000000</td>\n",
       "      <td>0.561627</td>\n",
       "      <td>0.261680</td>\n",
       "      <td>-0.484311</td>\n",
       "    </tr>\n",
       "    <tr>\n",
       "      <th>HomeRun</th>\n",
       "      <td>0.520405</td>\n",
       "      <td>0.561627</td>\n",
       "      <td>1.000000</td>\n",
       "      <td>0.443375</td>\n",
       "      <td>-0.310043</td>\n",
       "    </tr>\n",
       "    <tr>\n",
       "      <th>StrikeOut</th>\n",
       "      <td>0.425124</td>\n",
       "      <td>0.261680</td>\n",
       "      <td>0.443375</td>\n",
       "      <td>1.000000</td>\n",
       "      <td>0.084401</td>\n",
       "    </tr>\n",
       "    <tr>\n",
       "      <th>Steal</th>\n",
       "      <td>-0.235158</td>\n",
       "      <td>-0.484311</td>\n",
       "      <td>-0.310043</td>\n",
       "      <td>0.084401</td>\n",
       "      <td>1.000000</td>\n",
       "    </tr>\n",
       "  </tbody>\n",
       "</table>\n",
       "</div>"
      ],
      "text/plain": [
       "             Height    Weight   HomeRun  StrikeOut     Steal\n",
       "Height     1.000000  0.700030  0.520405   0.425124 -0.235158\n",
       "Weight     0.700030  1.000000  0.561627   0.261680 -0.484311\n",
       "HomeRun    0.520405  0.561627  1.000000   0.443375 -0.310043\n",
       "StrikeOut  0.425124  0.261680  0.443375   1.000000  0.084401\n",
       "Steal     -0.235158 -0.484311 -0.310043   0.084401  1.000000"
      ]
     },
     "metadata": {},
     "output_type": "display_data"
    }
   ],
   "source": [
    "df_corr = df.corr() ## 全列総当たりの相関係数\n",
    "display(df_corr)"
   ]
  },
  {
   "cell_type": "code",
   "execution_count": 13,
   "metadata": {},
   "outputs": [
    {
     "name": "stdout",
     "output_type": "stream",
     "text": [
      "0.7000301248513807\n"
     ]
    }
   ],
   "source": [
    "print(df_corr.at['Weight', 'Height']) ## 体重と身長の相関係数のみ表示"
   ]
  },
  {
   "cell_type": "code",
   "execution_count": 12,
   "metadata": {},
   "outputs": [
    {
     "name": "stdout",
     "output_type": "stream",
     "text": [
      "Height       0.700030\n",
      "Weight       1.000000\n",
      "HomeRun      0.561627\n",
      "StrikeOut    0.261680\n",
      "Steal       -0.484311\n",
      "dtype: float64\n"
     ]
    }
   ],
   "source": [
    "print(df.corrwith(df['Weight'])) ## 体重の列との相関係数のみ表示"
   ]
  }
 ],
 "metadata": {
  "kernelspec": {
   "display_name": "ds2024",
   "language": "python",
   "name": "python3"
  },
  "language_info": {
   "codemirror_mode": {
    "name": "ipython",
    "version": 3
   },
   "file_extension": ".py",
   "mimetype": "text/x-python",
   "name": "python",
   "nbconvert_exporter": "python",
   "pygments_lexer": "ipython3",
   "version": "3.9.15"
  }
 },
 "nbformat": 4,
 "nbformat_minor": 2
}
