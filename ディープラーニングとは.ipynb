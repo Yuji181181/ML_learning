{
 "cells": [
  {
   "cell_type": "markdown",
   "id": "a46fb525",
   "metadata": {},
   "source": [
    "## CNNの基本的な仕組み"
   ]
  },
  {
   "cell_type": "markdown",
   "id": "8953dfe3",
   "metadata": {},
   "source": []
  }
 ],
 "metadata": {
  "language_info": {
   "name": "python"
  }
 },
 "nbformat": 4,
 "nbformat_minor": 5
}
