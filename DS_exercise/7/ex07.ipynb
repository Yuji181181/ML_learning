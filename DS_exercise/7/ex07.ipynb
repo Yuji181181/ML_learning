{
 "cells": [
  {
   "cell_type": "code",
   "execution_count": 1,
   "metadata": {},
   "outputs": [],
   "source": [
    "import numpy as np\n",
    "import scipy.stats as ss"
   ]
  },
  {
   "cell_type": "code",
   "execution_count": 2,
   "metadata": {},
   "outputs": [
    {
     "name": "stdout",
     "output_type": "stream",
     "text": [
      "4.445638470260129 5.554361529739871\n"
     ]
    }
   ],
   "source": [
    "#Example.Population variance is known.\n",
    "lower, upper = ss.norm.interval(confidence=0.95, loc=5, scale=2/np.sqrt(50))\n",
    "print(lower, upper)"
   ]
  },
  {
   "cell_type": "code",
   "execution_count": 3,
   "metadata": {},
   "outputs": [
    {
     "name": "stdout",
     "output_type": "stream",
     "text": [
      "77.03118147521437 88.46881852478563\n"
     ]
    }
   ],
   "source": [
    "#Example.Population variance is unknown.\n",
    "\n",
    "sample=np.array([82,80,88,81])\n",
    "n = len(sample)\n",
    "sample_mean=np.mean(sample)\n",
    "sample_se=ss.sem(sample)\n",
    "lower, upper = ss.t.interval(confidence=0.95, df = len(sample)-1, loc=sample_mean, scale=sample_se)\n",
    "print(lower, upper)"
   ]
  },
  {
   "cell_type": "markdown",
   "metadata": {},
   "source": [
    "### 母平均の95%信頼区間の意味\n",
    "Meaning of 95% confidence intervals for population mean"
   ]
  },
  {
   "cell_type": "markdown",
   "metadata": {},
   "source": [
    "#### 母集団分布を平均3標準偏差1の正規分布とする\n",
    "The population distribution is a normal distribution with a mean of 3 standard deviations 1"
   ]
  },
  {
   "cell_type": "code",
   "execution_count": 4,
   "metadata": {},
   "outputs": [],
   "source": [
    "mu = 3 #母平均 population mean\n",
    "std = 1 #母標準偏差 population standard deviation\n",
    "gauss = ss.norm(loc = mu, scale = std) #母集団(平均3標準偏差1の正規分布) Population (the normal distribution with mean 3 and standard deviation 1)"
   ]
  },
  {
   "cell_type": "markdown",
   "metadata": {},
   "source": [
    "#### 信頼区間に母平均が含まれているかの確認を30000回試行する\n",
    "Repeated 30000 times to check whether the confidence interval includes population mean"
   ]
  },
  {
   "cell_type": "code",
   "execution_count": 5,
   "metadata": {},
   "outputs": [],
   "source": [
    "num_trials = 30000 # 試行数 Number of trials\n",
    "x = 0\n",
    "for i in range(num_trials):\n",
    "    sample = gauss.rvs(size = 10) #サンプルサイズ10の標本を生成 Generate samples from the population\n",
    "    sample_mean = np.mean(sample) #標本平均 sample mean\n",
    "    sem = ss.sem(sample) # 標準誤差 standard error of the mean\n",
    "    lower, upper = ss.t.interval(confidence=0.95, df = len(sample)-1, loc=sample_mean, scale=sem)\n",
    "    if(lower <= mu and upper >= mu): #求められた信頼区間に母平均が含まれているか確認\n",
    "        x += 1 #母平均が信頼区間に入っていたらxを1増やす If the population mean is in the interval, increment x"
   ]
  },
  {
   "cell_type": "markdown",
   "metadata": {},
   "source": [
    "#### 信頼区間に母平均が含まれていた割合を求める\n",
    "Find the ratio of the population mean included in the confidence intervals"
   ]
  },
  {
   "cell_type": "code",
   "execution_count": 6,
   "metadata": {},
   "outputs": [
    {
     "name": "stdout",
     "output_type": "stream",
     "text": [
      "0.952\n"
     ]
    }
   ],
   "source": [
    "ratio = x/num_trials\n",
    "print(ratio)"
   ]
  },
  {
   "cell_type": "code",
   "execution_count": null,
   "metadata": {},
   "outputs": [],
   "source": []
  }
 ],
 "metadata": {
  "kernelspec": {
   "display_name": "Python 3 (ipykernel)",
   "language": "python",
   "name": "python3"
  },
  "language_info": {
   "codemirror_mode": {
    "name": "ipython",
    "version": 3
   },
   "file_extension": ".py",
   "mimetype": "text/x-python",
   "name": "python",
   "nbconvert_exporter": "python",
   "pygments_lexer": "ipython3",
   "version": "3.9.15"
  }
 },
 "nbformat": 4,
 "nbformat_minor": 4
}
