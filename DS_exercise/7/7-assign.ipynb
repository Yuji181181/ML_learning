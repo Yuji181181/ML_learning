{
 "cells": [
  {
   "cell_type": "code",
   "execution_count": 12,
   "id": "a14aa8d1",
   "metadata": {},
   "outputs": [],
   "source": [
    "import pandas as pd\n",
    "import numpy as np\n",
    "import scipy.stats as ss"
   ]
  },
  {
   "cell_type": "code",
   "execution_count": 13,
   "id": "7c1b552d",
   "metadata": {},
   "outputs": [],
   "source": [
    "sample=np.loadtxt(\"data/weights.csv\")\n",
    "std = 2 \n",
    "m = np.mean(sample)\n"
   ]
  },
  {
   "cell_type": "code",
   "execution_count": 14,
   "id": "bbd87c72",
   "metadata": {},
   "outputs": [
    {
     "name": "stdout",
     "output_type": "stream",
     "text": [
      "12.463638470260127 13.57236152973987\n"
     ]
    }
   ],
   "source": [
    "lower, upper = ss.norm.interval(confidence=0.95,loc=m,scale=std/np.sqrt(len(sample)))\n",
    "print(lower, upper)"
   ]
  },
  {
   "cell_type": "code",
   "execution_count": 15,
   "id": "4e21fa0a",
   "metadata": {},
   "outputs": [
    {
     "name": "stdout",
     "output_type": "stream",
     "text": [
      "62.52788011211616 68.28545322121717\n"
     ]
    }
   ],
   "source": [
    "sample = np.loadtxt(\"data/sales.csv\", delimiter=\",\") \n",
    "m = np.mean(sample)\n",
    "n = len(sample) \n",
    "se = ss.sem(sample)\n",
    "\n",
    "lower, upper = ss.t.interval(confidence=0.95, df=n-1, loc=m, scale=se)\n",
    "print(lower,upper)"
   ]
  },
  {
   "cell_type": "code",
   "execution_count": 16,
   "id": "1903f75c",
   "metadata": {},
   "outputs": [
    {
     "name": "stdout",
     "output_type": "stream",
     "text": [
      "62.52788011211616\n",
      "68.28545322121717\n"
     ]
    }
   ],
   "source": [
    "lower = m+ss.t.ppf(q=0.025, df=n-1)*se\n",
    "upper = m+ss.t.ppf(q=0.975, df=n-1)*se\n",
    "print(lower)\n",
    "print(upper)"
   ]
  }
 ],
 "metadata": {
  "kernelspec": {
   "display_name": "ds2024",
   "language": "python",
   "name": "python3"
  },
  "language_info": {
   "codemirror_mode": {
    "name": "ipython",
    "version": 3
   },
   "file_extension": ".py",
   "mimetype": "text/x-python",
   "name": "python",
   "nbconvert_exporter": "python",
   "pygments_lexer": "ipython3",
   "version": "3.9.15"
  }
 },
 "nbformat": 4,
 "nbformat_minor": 5
}
