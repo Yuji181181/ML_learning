{
 "cells": [
  {
   "cell_type": "markdown",
   "metadata": {},
   "source": [
    "### 1. ライブラリをimportする Import packages\n",
    "numpyを`np`という名前でインポート　　import the numpy pacakge under the name `np` \n",
    "\n",
    "matplotlib.pyplotを`plt`という名前でインポート　　import the matplotlib's pyplot package under the name `plt` "
   ]
  },
  {
   "cell_type": "code",
   "execution_count": 1,
   "metadata": {},
   "outputs": [],
   "source": [
    "# 数値計算に使うライブラリ\n",
    "import numpy as np\n",
    "\n",
    "# グラフ描画に使うライブラリ\n",
    "import matplotlib.pyplot as plt"
   ]
  },
  {
   "cell_type": "markdown",
   "metadata": {},
   "source": [
    "### 2. ３個のサイコロの目の和の確率変数と確率分布を求める　Calculation of a probability distribution of the sum of pips of three dices\n",
    "####  確率変数をサイコロの目の和とする  We regard the sum of pips of the dices as a R.V.\n",
    "辞書型のオブジェクトに確率分布を定義：キーを確率変数、対応する値を確率とする\n",
    "\n",
    "３個のサイコロの目の和のすべての組み合わせを列挙し，確率を求める．"
   ]
  },
  {
   "cell_type": "code",
   "execution_count": 2,
   "metadata": {},
   "outputs": [
    {
     "name": "stdout",
     "output_type": "stream",
     "text": [
      "{3: 0.004629629629629629, 4: 0.013888888888888888, 5: 0.027777777777777776, 6: 0.046296296296296294, 7: 0.06944444444444445, 8: 0.09722222222222222, 9: 0.11574074074074074, 10: 0.125, 11: 0.125, 12: 0.11574074074074074, 13: 0.09722222222222222, 14: 0.06944444444444445, 15: 0.046296296296296294, 16: 0.027777777777777776, 17: 0.013888888888888888, 18: 0.004629629629629629}\n"
     ]
    }
   ],
   "source": [
    "l = [i+j+k for i in range(1,7) for j in range(1,7) for k in range(1,7)]  \n",
    "\n",
    "dist = {}\n",
    "for x in l:\n",
    "    dist[x] = dist.get(x,0)+1\n",
    "\n",
    "for i in dist.keys():\n",
    "    dist[i] = dist[i]/(6**3)\n",
    "print(dist)"
   ]
  },
  {
   "cell_type": "markdown",
   "metadata": {},
   "source": [
    "### 3. 棒グラフを使って確率分布を図示 plot the probability distribution by using a bar graph"
   ]
  },
  {
   "cell_type": "code",
   "execution_count": 3,
   "metadata": {},
   "outputs": [
    {
     "ename": "SyntaxError",
     "evalue": "invalid syntax (1476698921.py, line 1)",
     "output_type": "error",
     "traceback": [
      "\u001b[1;36m  Cell \u001b[1;32mIn[3], line 1\u001b[1;36m\u001b[0m\n\u001b[1;33m    plt.bar(***, ***, width=1, ec='black' )\u001b[0m\n\u001b[1;37m              ^\u001b[0m\n\u001b[1;31mSyntaxError\u001b[0m\u001b[1;31m:\u001b[0m invalid syntax\n"
     ]
    }
   ],
   "source": [
    "plt.bar(***, ***, width=1, ec='black' )\n",
    "plt.xlabel(\"Rondom variable\")\n",
    "plt.ylabel(\"Probability\")\n",
    "plt.show()"
   ]
  },
  {
   "cell_type": "markdown",
   "metadata": {},
   "source": [
    "### 4. 累積分布関数を定義 Definition of a function of the CDF\n",
    "$F(x)=\\sum_{X\\leq x} P(X)$"
   ]
  },
  {
   "cell_type": "code",
   "execution_count": null,
   "metadata": {},
   "outputs": [],
   "source": [
    "def Cdf(dist, x):\n",
    "    prob = 0.0\n",
    "    for value in dist.keys():\n",
    "        if value <= x:\n",
    "            prob += ***\n",
    "    return prob"
   ]
  },
  {
   "cell_type": "markdown",
   "metadata": {},
   "source": [
    "### 5. 累積分布関数を求める Calculation of the CDF"
   ]
  },
  {
   "cell_type": "code",
   "execution_count": null,
   "metadata": {},
   "outputs": [],
   "source": [
    "cdf_dis ={}\n",
    "for x in range(0,19):\n",
    "    cdf = Cdf(***, x)\n",
    "    cdf_dis[x] = cdf"
   ]
  },
  {
   "cell_type": "markdown",
   "metadata": {},
   "source": [
    "### 6. 累積分布関数を図示 Plot the CDF by using a bar graph"
   ]
  },
  {
   "cell_type": "code",
   "execution_count": null,
   "metadata": {},
   "outputs": [],
   "source": [
    "plt.bar(***, ***, width=1, ec='black' )\n",
    "plt.xlabel(\"x\")\n",
    "plt.ylabel(\"F(x)\")\n",
    "plt.show()"
   ]
  },
  {
   "cell_type": "markdown",
   "metadata": {},
   "source": [
    "### 7. 期待値を求める関数を定義 Definition of a function of expected value\n",
    "$E[X]=\\sum_i x_i p_i$ "
   ]
  },
  {
   "cell_type": "code",
   "execution_count": null,
   "metadata": {},
   "outputs": [],
   "source": [
    "def Expect(dist):\n",
    "    e = sum([*** for x,p in dist.items()])\n",
    "    return e"
   ]
  },
  {
   "cell_type": "markdown",
   "metadata": {},
   "source": [
    "### 8. 分散を求める関数を定義 Definition of a function of variance\n",
    "$V[X]=\\sum_{i} (x_i-E[X])^2 p_i$"
   ]
  },
  {
   "cell_type": "code",
   "execution_count": null,
   "metadata": {},
   "outputs": [],
   "source": [
    "def Variance(dist):\n",
    "    e = Expect(dist)\n",
    "    var = sum([*** for x,p in dist.items()])\n",
    "    return var"
   ]
  },
  {
   "cell_type": "markdown",
   "metadata": {},
   "source": [
    "### 9. 標準偏差を求める関数を定義 Definition of a function of standard deviation\n",
    "$D[X]=\\sqrt{V[X]}$\n",
    "\n",
    "xの平方根を求めるときにはnp.sqrt(x) \n",
    "\n",
    "np.sqrt(x): return the positive square-root of x"
   ]
  },
  {
   "cell_type": "code",
   "execution_count": null,
   "metadata": {},
   "outputs": [],
   "source": [
    "def Std(dist):\n",
    "    std = np.sqrt(***)\n",
    "    return std"
   ]
  },
  {
   "cell_type": "markdown",
   "metadata": {},
   "source": [
    "### 10. 期待値、分散、標準偏差を求める Calculation of the expected value, variance and standard deviation"
   ]
  },
  {
   "cell_type": "code",
   "execution_count": null,
   "metadata": {},
   "outputs": [],
   "source": [
    "print(\"{:.1f}\".format(Expect(dist)))\n",
    "print(\"{:.1f}\".format(Variance(dist)))\n",
    "print(\"{:.1f}\".format(Std(dist)))"
   ]
  },
  {
   "cell_type": "markdown",
   "metadata": {},
   "source": [
    "### 11. 標準化変数を求める関数を定義 Definition of a function of z-score normalization"
   ]
  },
  {
   "cell_type": "code",
   "execution_count": null,
   "metadata": {},
   "outputs": [],
   "source": [
    "def Zscore(dist):\n",
    "    z = [*** for x in dist.keys()]\n",
    "    normalized_dist = dict(zip(z, dist.values()))\n",
    "    return normalized_dist"
   ]
  },
  {
   "cell_type": "markdown",
   "metadata": {},
   "source": [
    "### 12. 標準化変数を求め、標準化後の期待値、分散、標準偏差を求める Calculation of the expected value, variance and standard deviation of the normalized probability distribution"
   ]
  },
  {
   "cell_type": "code",
   "execution_count": null,
   "metadata": {},
   "outputs": [],
   "source": [
    "z = Zscore(dist)\n",
    "print(\"{:.1f}\".format(Expect(z)))\n",
    "print(\"{:.1f}\".format(Variance(z)))\n",
    "print(\"{:.1f}\".format(Std(z)))"
   ]
  },
  {
   "cell_type": "markdown",
   "metadata": {},
   "source": [
    "### 13. 標準化後の確率分布を図示 Plotting the  normalized probability distribution"
   ]
  },
  {
   "cell_type": "code",
   "execution_count": null,
   "metadata": {},
   "outputs": [],
   "source": [
    "plt.bar(***, ***, width=0.34,ec='black' )\n",
    "plt.xlabel(\"Rondom variable\")\n",
    "plt.ylabel(\"Probability\")\n",
    "plt.show()"
   ]
  },
  {
   "cell_type": "code",
   "execution_count": null,
   "metadata": {},
   "outputs": [],
   "source": []
  }
 ],
 "metadata": {
  "kernelspec": {
   "display_name": "ds2025",
   "language": "python",
   "name": "python3"
  },
  "language_info": {
   "codemirror_mode": {
    "name": "ipython",
    "version": 3
   },
   "file_extension": ".py",
   "mimetype": "text/x-python",
   "name": "python",
   "nbconvert_exporter": "python",
   "pygments_lexer": "ipython3",
   "version": "3.9.15"
  }
 },
 "nbformat": 4,
 "nbformat_minor": 4
}
