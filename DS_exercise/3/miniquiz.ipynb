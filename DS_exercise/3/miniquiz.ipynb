{
 "cells": [
  {
   "cell_type": "code",
   "execution_count": 1,
   "id": "f1d92966-31a4-4d2d-adc4-9e5b15523278",
   "metadata": {},
   "outputs": [],
   "source": [
    "import numpy as np\n",
    "import matplotlib.pyplot as plt"
   ]
  },
  {
   "cell_type": "code",
   "execution_count": 2,
   "id": "b7db84f4-7a3b-4ba0-b320-00dc5bb26956",
   "metadata": {},
   "outputs": [
    {
     "name": "stdout",
     "output_type": "stream",
     "text": [
      "{0: 0.125, 1: 0.375, 2: 0.375, 3: 0.125}\n"
     ]
    }
   ],
   "source": [
    "l = [i+j+k for i in range(0,2) for j in range(0,2) for k in range(0,2)]  \n",
    "\n",
    "dist = {}\n",
    "for x in l:\n",
    "    dist[x] = dist.get(x,0)+1\n",
    "\n",
    "for i in dist.keys():\n",
    "    dist[i] = dist[i]/(2**3)\n",
    "print(dist)"
   ]
  },
  {
   "cell_type": "code",
   "execution_count": 3,
   "id": "97429a53-f874-433b-8219-4224bcc6b862",
   "metadata": {},
   "outputs": [],
   "source": [
    "def Expect(dist):\n",
    "    e = sum([x*p for x,p in dist.items()])\n",
    "    return e"
   ]
  },
  {
   "cell_type": "code",
   "execution_count": 4,
   "id": "eef0febd-ef52-46ef-9734-fdd266473177",
   "metadata": {},
   "outputs": [],
   "source": [
    "def Variance(dist):\n",
    "    e = Expect(dist)\n",
    "    var = sum([((x-e)**2)*p for x,p in dist.items()])\n",
    "    return var"
   ]
  },
  {
   "cell_type": "code",
   "execution_count": 5,
   "id": "e2eafef8-44ba-4d17-9c73-825a2c6e9557",
   "metadata": {},
   "outputs": [],
   "source": [
    "def Std(dist):\n",
    "    std = np.sqrt(Variance(dist))\n",
    "    return std"
   ]
  },
  {
   "cell_type": "code",
   "execution_count": 6,
   "id": "9c60e85b-fd4c-4563-b162-c0d771d8d64d",
   "metadata": {},
   "outputs": [
    {
     "name": "stdout",
     "output_type": "stream",
     "text": [
      "1.50\n",
      "0.75\n",
      "0.87\n"
     ]
    }
   ],
   "source": [
    "print(\"{:.2f}\".format(Expect(dist)))\n",
    "print(\"{:.2f}\".format(Variance(dist)))\n",
    "print(\"{:.2f}\".format(Std(dist)))"
   ]
  },
  {
   "cell_type": "code",
   "execution_count": null,
   "id": "41110fe8-aec7-447e-b793-f6dbb649e686",
   "metadata": {},
   "outputs": [],
   "source": []
  }
 ],
 "metadata": {
  "kernelspec": {
   "display_name": "ds2025",
   "language": "python",
   "name": "python3"
  },
  "language_info": {
   "codemirror_mode": {
    "name": "ipython",
    "version": 3
   },
   "file_extension": ".py",
   "mimetype": "text/x-python",
   "name": "python",
   "nbconvert_exporter": "python",
   "pygments_lexer": "ipython3",
   "version": "3.9.15"
  }
 },
 "nbformat": 4,
 "nbformat_minor": 5
}
