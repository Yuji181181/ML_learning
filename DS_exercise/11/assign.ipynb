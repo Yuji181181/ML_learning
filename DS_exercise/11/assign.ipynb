{
 "cells": [
  {
   "cell_type": "markdown",
   "metadata": {},
   "source": [
    "\n",
    "帰無仮説: 日本車とアメリカ車で燃費の差はない  \n",
    "対立仮説: 日本車とアメリカ車で燃費の差がある  \n",
    "両側検定  \n",
    "対応のない２群t検定"
   ]
  },
  {
   "cell_type": "code",
   "execution_count": null,
   "metadata": {},
   "outputs": [],
   "source": [
    "import numpy as np\n",
    "import scipy.stats as ss\n",
    "from scipy.stats import t"
   ]
  },
  {
   "cell_type": "code",
   "execution_count": null,
   "metadata": {},
   "outputs": [],
   "source": [
    "text = \"data/miles_per_gallon.csv\"\n",
    "data = np.loadtxt(text)"
   ]
  },
  {
   "cell_type": "code",
   "execution_count": 15,
   "metadata": {},
   "outputs": [],
   "source": [
    "d_us = data[:, 0] \n",
    "d_jp = data[:, 1] \n",
    "d_jp = d_jp[d_jp > -999] "
   ]
  },
  {
   "cell_type": "code",
   "execution_count": null,
   "metadata": {},
   "outputs": [
    {
     "name": "stdout",
     "output_type": "stream",
     "text": [
      "検定統計量：\n",
      "-12.946273274932008\n",
      "136.87497667258336\n",
      "p-value is 1.5708547842954433e-25\n",
      "帰無仮説棄却 Reject H0\n"
     ]
    }
   ],
   "source": [
    "M1=np.mean(d_us)\n",
    "M2=np.mean(d_jp)\n",
    "sd1=np.std(d_us, ddof=1)\n",
    "sd2=np.std(d_jp, ddof=1)\n",
    "N1=len(d_us)\n",
    "N2=len(d_jp)\n",
    "\n",
    "stat_t = (M1-M2)/np.sqrt( pow(sd1,2)/N1 + pow(sd2,2)/N2 )\n",
    "\n",
    "m11= pow(sd1,2)/N1 + pow(sd2,2)/N2\n",
    "m1 = pow(m11,2)\n",
    "m2 = pow(sd1,4)/(pow(N1,2)*(N1-1)) + pow(sd2,4)/(pow(N2,2)*(N2-1) )\n",
    "df_val=m1/m2\n",
    "p_val = stats.t.cdf(-np.abs(stat_t),df=df_val)*2"
   ]
  },
  {
   "cell_type": "code",
   "execution_count": null,
   "metadata": {},
   "outputs": [],
   "source": [
    "print(stat_t)\n",
    "print(df_val)\n",
    "print(p_val)"
   ]
  },
  {
   "cell_type": "code",
   "execution_count": null,
   "metadata": {},
   "outputs": [
    {
     "name": "stdout",
     "output_type": "stream",
     "text": [
      "-1.9774473063946318\n",
      "1.9774473063946314\n"
     ]
    }
   ],
   "source": [
    "t_lower = ss.t.ppf(0.025, df=df_val)\n",
    "print(t_lower)\n",
    "t_upper = ss.t.ppf(0.975, df=df_val)\n",
    "print(t_upper)"
   ]
  },
  {
   "cell_type": "code",
   "execution_count": null,
   "metadata": {},
   "outputs": [
    {
     "name": "stdout",
     "output_type": "stream",
     "text": [
      "Reject H0 (帰無仮説を棄却)\n"
     ]
    }
   ],
   "source": []
  },
  {
   "cell_type": "code",
   "execution_count": null,
   "metadata": {},
   "outputs": [
    {
     "name": "stdout",
     "output_type": "stream",
     "text": [
      "1.5708547842954433e-25\n",
      "Reject H0 (帰無仮説を棄却)\n"
     ]
    }
   ],
   "source": [
    "p_val = ss.t.cdf(stat_t, df=df_val)*2\n",
    "print(p_val)"
   ]
  },
  {
   "cell_type": "markdown",
   "metadata": {},
   "source": [
    "\n",
    "p値が有意水準0.05よりも小さいので帰無仮説は棄却される．   \n",
    "つまり，日本車とアメリカ車で燃費の差があると言える\n"
   ]
  }
 ],
 "metadata": {
  "kernelspec": {
   "display_name": "ds2025",
   "language": "python",
   "name": "python3"
  },
  "language_info": {
   "codemirror_mode": {
    "name": "ipython",
    "version": 3
   },
   "file_extension": ".py",
   "mimetype": "text/x-python",
   "name": "python",
   "nbconvert_exporter": "python",
   "pygments_lexer": "ipython3",
   "version": "3.9.15"
  }
 },
 "nbformat": 4,
 "nbformat_minor": 4
}
