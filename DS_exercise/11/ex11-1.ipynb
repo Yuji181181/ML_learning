{
 "cells": [
  {
   "cell_type": "markdown",
   "metadata": {},
   "source": [
    "### 対応のある平均の差の検定 (paired two-samples t-test)"
   ]
  },
  {
   "cell_type": "markdown",
   "metadata": {},
   "source": [
    "#### 帰無仮説・対立仮説を立てる\n",
    "- 帰無仮説: キャンペーン前後の売上高に差はない  \n",
    "- 対立仮説: キャンペーン後の売上高が上がった  \n",
    "- 片側検定  \n",
    "- 母分散が未知\n",
    "\n",
    "Set up the null/alternative hypothesis \n",
    "- H0: There is no difference in sales before and after the campaign\n",
    "- H1: Sales increased after the campaign\n",
    "- One-sided test\n",
    "- The population variance is unknown"
   ]
  },
  {
   "cell_type": "code",
   "execution_count": 1,
   "metadata": {},
   "outputs": [],
   "source": [
    "import numpy as np\n",
    "import pandas as pd\n",
    "import scipy.stats as ss"
   ]
  },
  {
   "cell_type": "markdown",
   "metadata": {},
   "source": [
    "#### データの読み込み\n",
    "Read csv file"
   ]
  },
  {
   "cell_type": "code",
   "execution_count": 2,
   "metadata": {},
   "outputs": [
    {
     "name": "stdout",
     "output_type": "stream",
     "text": [
      "(18, 2)\n"
     ]
    },
    {
     "data": {
      "text/html": [
       "<div>\n",
       "<style scoped>\n",
       "    .dataframe tbody tr th:only-of-type {\n",
       "        vertical-align: middle;\n",
       "    }\n",
       "\n",
       "    .dataframe tbody tr th {\n",
       "        vertical-align: top;\n",
       "    }\n",
       "\n",
       "    .dataframe thead th {\n",
       "        text-align: right;\n",
       "    }\n",
       "</style>\n",
       "<table border=\"1\" class=\"dataframe\">\n",
       "  <thead>\n",
       "    <tr style=\"text-align: right;\">\n",
       "      <th></th>\n",
       "      <th>before</th>\n",
       "      <th>after</th>\n",
       "    </tr>\n",
       "  </thead>\n",
       "  <tbody>\n",
       "    <tr>\n",
       "      <th>0</th>\n",
       "      <td>1685</td>\n",
       "      <td>1717</td>\n",
       "    </tr>\n",
       "    <tr>\n",
       "      <th>1</th>\n",
       "      <td>1963</td>\n",
       "      <td>1866</td>\n",
       "    </tr>\n",
       "    <tr>\n",
       "      <th>2</th>\n",
       "      <td>2283</td>\n",
       "      <td>2449</td>\n",
       "    </tr>\n",
       "    <tr>\n",
       "      <th>3</th>\n",
       "      <td>2456</td>\n",
       "      <td>2469</td>\n",
       "    </tr>\n",
       "    <tr>\n",
       "      <th>4</th>\n",
       "      <td>2331</td>\n",
       "      <td>2223</td>\n",
       "    </tr>\n",
       "  </tbody>\n",
       "</table>\n",
       "</div>"
      ],
      "text/plain": [
       "   before  after\n",
       "0    1685   1717\n",
       "1    1963   1866\n",
       "2    2283   2449\n",
       "3    2456   2469\n",
       "4    2331   2223"
      ]
     },
     "metadata": {},
     "output_type": "display_data"
    }
   ],
   "source": [
    "df = pd.read_csv(\"data/sales_camp.csv\")\n",
    "print(df.shape)\n",
    "display(df.head())"
   ]
  },
  {
   "cell_type": "markdown",
   "metadata": {},
   "source": [
    "#### 標本の平均，サイズ\n",
    "Sample mean and size"
   ]
  },
  {
   "cell_type": "code",
   "execution_count": 3,
   "metadata": {},
   "outputs": [],
   "source": [
    "diff = df[\"after\"]-df[\"before\"]\n",
    "sample_mean = np.mean(diff) #標本の差の平均 mean of sample differences\n",
    "unbiased_std = np.std(diff, ddof=1) # 標本の差の不偏標準偏差 unbiased standard deviation\n",
    "n = df.shape[0] # 標本サイズ sample size"
   ]
  },
  {
   "cell_type": "markdown",
   "metadata": {},
   "source": [
    "#### 検定統計量tを求める\n",
    "Calculate the test statistic t"
   ]
  },
  {
   "cell_type": "code",
   "execution_count": 4,
   "metadata": {},
   "outputs": [
    {
     "name": "stdout",
     "output_type": "stream",
     "text": [
      "1.0894893777993577\n"
     ]
    }
   ],
   "source": [
    "t = (sample_mean - 0)/(unbiased_std / np.sqrt(n))\n",
    "print(t)"
   ]
  },
  {
   "cell_type": "markdown",
   "metadata": {},
   "source": [
    "#### 棄却域\n",
    "critical region"
   ]
  },
  {
   "cell_type": "code",
   "execution_count": 5,
   "metadata": {},
   "outputs": [
    {
     "name": "stdout",
     "output_type": "stream",
     "text": [
      "1.7396067260750672\n"
     ]
    }
   ],
   "source": [
    "# 棄却域 critical region\n",
    "t_upper = ss.t.ppf(0.95, df=n-1) # 上側5%点 upper 5% point\n",
    "print(t_upper)"
   ]
  },
  {
   "cell_type": "markdown",
   "metadata": {},
   "source": [
    "#### 検定統計量tが棄却域に含まれているか調べる\n",
    "Check whether the test statistic t is in the critical region"
   ]
  },
  {
   "cell_type": "code",
   "execution_count": 6,
   "metadata": {},
   "outputs": [
    {
     "name": "stdout",
     "output_type": "stream",
     "text": [
      "Retain H0 (帰無仮説を棄却できない)\n"
     ]
    }
   ],
   "source": [
    "if t_upper < t:\n",
    "    print(\"Reject H0 (帰無仮説を棄却)\")\n",
    "else:\n",
    "    print(\"Retain H0 (帰無仮説を棄却できない)\")"
   ]
  },
  {
   "cell_type": "markdown",
   "metadata": {},
   "source": [
    "#### p値を求める\n",
    "Calculate p-value"
   ]
  },
  {
   "cell_type": "code",
   "execution_count": 9,
   "metadata": {},
   "outputs": [
    {
     "name": "stdout",
     "output_type": "stream",
     "text": [
      "0.14557086186684673\n",
      "Retain H0 (帰無仮説を棄却できない)\n"
     ]
    }
   ],
   "source": [
    "p_val = ss.t.cdf(-np.abs(t), df=n-1)\n",
    "print(p_val)\n",
    "\n",
    "if t > 0 and p_val < 0.05:\n",
    "    print(\"Reject H0 (帰無仮説を棄却)\")\n",
    "else:\n",
    "    print(\"Retain H0 (帰無仮説を棄却できない)\")"
   ]
  },
  {
   "cell_type": "markdown",
   "metadata": {},
   "source": [
    "#### ttest_1samp関数を使う方法"
   ]
  },
  {
   "cell_type": "code",
   "execution_count": 11,
   "metadata": {},
   "outputs": [
    {
     "name": "stdout",
     "output_type": "stream",
     "text": [
      "1.089489377799358 0.1455708618668467\n",
      "Retain H0 (帰無仮説を棄却できない)\n"
     ]
    }
   ],
   "source": [
    "stat_t, p_val = ss.ttest_1samp(df[\"after\"]-df[\"before\"], 0.0, alternative='greater')\n",
    "print(stat_t, p_val)\n",
    "\n",
    "if stat_t > 0 and p_val < 0.05:\n",
    "    print(\"Reject H0 (帰無仮説を棄却)\")\n",
    "else:\n",
    "    print(\"Retain H0 (帰無仮説を棄却できない)\")"
   ]
  },
  {
   "cell_type": "markdown",
   "metadata": {},
   "source": [
    "#### 結論 Conclusion\n",
    "p値が有意水準0.05よりも大きいので帰無仮説は棄却されない．   \n",
    "つまり，キャンペーン後の売上高が上がったとはいえない\n",
    "\n",
    "p-value (one-sided) > 0.05, \n",
    "so, it cannot be said that sales increased after the campaign"
   ]
  }
 ],
 "metadata": {
  "kernelspec": {
   "display_name": "Python 3 (ipykernel)",
   "language": "python",
   "name": "python3"
  },
  "language_info": {
   "codemirror_mode": {
    "name": "ipython",
    "version": 3
   },
   "file_extension": ".py",
   "mimetype": "text/x-python",
   "name": "python",
   "nbconvert_exporter": "python",
   "pygments_lexer": "ipython3",
   "version": "3.9.15"
  }
 },
 "nbformat": 4,
 "nbformat_minor": 4
}
