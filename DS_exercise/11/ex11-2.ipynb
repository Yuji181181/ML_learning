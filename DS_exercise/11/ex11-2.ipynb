{
 "cells": [
  {
   "cell_type": "markdown",
   "metadata": {},
   "source": [
    "### 対応がない平均の差の検定 (Independent two-samples t-test)"
   ]
  },
  {
   "cell_type": "markdown",
   "metadata": {},
   "source": [
    "#### 帰無仮説・対立仮説を立てる\n",
    "- 帰無仮説: メーカーAとメーカーBの電球の平均寿命に差はない  \n",
    "- 対立仮説: メーカーAの電球はメーカーBの電球よりも平均寿命が長い\n",
    "- 片側検定  \n",
    "- 母分散がわかっている\n",
    "\n",
    "Set up the null/alternative hypothesis \n",
    "- H0: There is no difference in the life expectancy of bulbs of Maker A and Maker B\n",
    "- H1: Maker A bulbs have a longer life expectancy than Maker B bulbs\n",
    "- One-tailed test\n",
    "- The population variance is unknown"
   ]
  },
  {
   "cell_type": "code",
   "execution_count": 10,
   "metadata": {},
   "outputs": [],
   "source": [
    "import numpy as np\n",
    "import pandas as pd\n",
    "import scipy.stats as ss"
   ]
  },
  {
   "cell_type": "markdown",
   "metadata": {},
   "source": [
    "#### データの読み込み\n",
    "Read csv file"
   ]
  },
  {
   "cell_type": "code",
   "execution_count": 11,
   "metadata": {},
   "outputs": [
    {
     "name": "stdout",
     "output_type": "stream",
     "text": [
      "(30, 2)\n"
     ]
    },
    {
     "data": {
      "text/html": [
       "<div>\n",
       "<style scoped>\n",
       "    .dataframe tbody tr th:only-of-type {\n",
       "        vertical-align: middle;\n",
       "    }\n",
       "\n",
       "    .dataframe tbody tr th {\n",
       "        vertical-align: top;\n",
       "    }\n",
       "\n",
       "    .dataframe thead th {\n",
       "        text-align: right;\n",
       "    }\n",
       "</style>\n",
       "<table border=\"1\" class=\"dataframe\">\n",
       "  <thead>\n",
       "    <tr style=\"text-align: right;\">\n",
       "      <th></th>\n",
       "      <th>A</th>\n",
       "      <th>B</th>\n",
       "    </tr>\n",
       "  </thead>\n",
       "  <tbody>\n",
       "    <tr>\n",
       "      <th>0</th>\n",
       "      <td>1111</td>\n",
       "      <td>1124</td>\n",
       "    </tr>\n",
       "    <tr>\n",
       "      <th>1</th>\n",
       "      <td>1163</td>\n",
       "      <td>1009</td>\n",
       "    </tr>\n",
       "    <tr>\n",
       "      <th>2</th>\n",
       "      <td>1136</td>\n",
       "      <td>1045</td>\n",
       "    </tr>\n",
       "    <tr>\n",
       "      <th>3</th>\n",
       "      <td>1161</td>\n",
       "      <td>1109</td>\n",
       "    </tr>\n",
       "    <tr>\n",
       "      <th>4</th>\n",
       "      <td>1175</td>\n",
       "      <td>1073</td>\n",
       "    </tr>\n",
       "  </tbody>\n",
       "</table>\n",
       "</div>"
      ],
      "text/plain": [
       "      A     B\n",
       "0  1111  1124\n",
       "1  1163  1009\n",
       "2  1136  1045\n",
       "3  1161  1109\n",
       "4  1175  1073"
      ]
     },
     "metadata": {},
     "output_type": "display_data"
    }
   ],
   "source": [
    "df = pd.read_csv(\"data/bulbs.csv\")\n",
    "print(df.shape)\n",
    "display(df.head())"
   ]
  },
  {
   "cell_type": "markdown",
   "metadata": {},
   "source": [
    "#### 標本の平均，サイズ\n",
    "Sample mean and size"
   ]
  },
  {
   "cell_type": "code",
   "execution_count": 12,
   "metadata": {},
   "outputs": [],
   "source": [
    "import numpy as np\n",
    "from scipy import stats\n",
    "from scipy.stats import t\n",
    "\n",
    "M1=np.mean(df['A'])\n",
    "M2=np.mean(df['B'])\n",
    "\n",
    "sd1=np.std(df['A'], ddof=1)\n",
    "sd2=np.std(df['B'], ddof=1)\n",
    "\n",
    "N1=len(df['A'])\n",
    "N2=len(df['B'])"
   ]
  },
  {
   "cell_type": "markdown",
   "metadata": {},
   "source": [
    "#### 検定統計量tを求める\n",
    "Calculate the test statistic t"
   ]
  },
  {
   "cell_type": "code",
   "execution_count": 13,
   "metadata": {},
   "outputs": [
    {
     "name": "stdout",
     "output_type": "stream",
     "text": [
      "3.0110303151993656\n",
      "56.970260691248434\n"
     ]
    }
   ],
   "source": [
    "stat_t = (M1-M2)/np.sqrt( pow(sd1,2)/N1 + pow(sd2,2)/N2 )\n",
    "print(stat_t)\n",
    "\n",
    "m11= pow(sd1,2)/N1 + pow(sd2,2)/N2\n",
    "m1 = pow(m11,2)\n",
    "m2 = pow(sd1,4)/(pow(N1,2)*(N1-1)) + pow(sd2,4)/(pow(N2,2)*(N2-1) )\n",
    "df_val=m1/m2\n",
    "print(df_val)"
   ]
  },
  {
   "cell_type": "markdown",
   "metadata": {},
   "source": [
    "#### 棄却域\n",
    "critical region"
   ]
  },
  {
   "cell_type": "code",
   "execution_count": 14,
   "metadata": {},
   "outputs": [
    {
     "name": "stdout",
     "output_type": "stream",
     "text": [
      "1.6720433079284318\n"
     ]
    }
   ],
   "source": [
    "# 棄却域 critical region\n",
    "t_upper = ss.t.ppf(0.95, df=df_val) # 上側5%点 upper 5% point\n",
    "print(t_upper)"
   ]
  },
  {
   "cell_type": "markdown",
   "metadata": {},
   "source": [
    "#### 検定統計量tが棄却域に含まれているか調べる\n",
    "Check whether the test statistic z is in the critical region"
   ]
  },
  {
   "cell_type": "code",
   "execution_count": 15,
   "metadata": {},
   "outputs": [
    {
     "name": "stdout",
     "output_type": "stream",
     "text": [
      "Reject H0 (帰無仮説を棄却)\n"
     ]
    }
   ],
   "source": [
    "if t_upper < stat_t:\n",
    "    print(\"Reject H0 (帰無仮説を棄却)\")\n",
    "else:\n",
    "    print(\"Retain H0 (帰無仮説を棄却できない)\")"
   ]
  },
  {
   "cell_type": "markdown",
   "metadata": {},
   "source": [
    "#### p値を求める\n",
    "Calculate p-value"
   ]
  },
  {
   "cell_type": "code",
   "execution_count": 16,
   "metadata": {},
   "outputs": [
    {
     "name": "stdout",
     "output_type": "stream",
     "text": [
      "0.0019383134855873061\n",
      "Reject H0 (帰無仮説を棄却)\n"
     ]
    }
   ],
   "source": [
    "p_val = stats.t.cdf(-np.abs(stat_t),df=df_val) #p値 片側検定\n",
    "print(p_val)\n",
    "\n",
    "if stat_t > 0 and p_val < 0.05:\n",
    "    print(\"Reject H0 (帰無仮説を棄却)\")\n",
    "else:\n",
    "    print(\"Retain H0 (帰無仮説を棄却できない)\")"
   ]
  },
  {
   "cell_type": "markdown",
   "metadata": {},
   "source": [
    "#### ttest_ind関数を使う方法"
   ]
  },
  {
   "cell_type": "code",
   "execution_count": 17,
   "metadata": {},
   "outputs": [
    {
     "name": "stdout",
     "output_type": "stream",
     "text": [
      "3.0110303151993656 0.0019383134855873061\n",
      "Reject H0 (帰無仮説を棄却)\n"
     ]
    }
   ],
   "source": [
    "stat_t, p_val = ss.ttest_ind(df[\"A\"],df[\"B\"],equal_var = False,alternative='greater')\n",
    "print(stat_t, p_val)\n",
    "\n",
    "if stat_t > 0 and p_val < 0.05:\n",
    "    print(\"Reject H0 (帰無仮説を棄却)\")\n",
    "else:\n",
    "    print(\"Retain H0 (帰無仮説を棄却できない)\")"
   ]
  },
  {
   "cell_type": "markdown",
   "metadata": {},
   "source": [
    "#### 結論 Results\n",
    "検定統計量tが正の値でかつp値が有意水準0.05よりも小さいので帰無仮説は棄却される．  \n",
    "つまり，メーカーAの電球はメーカーBの電球よりも有意に平均寿命が長い\n",
    "\n",
    "The null hypothesis is rejected because the test statistic t is positive and the p-value is less than the significance level of 0.05.  \n",
    "That is, Maker A bulbs have a longer life expectancy than Maker B bulbs."
   ]
  }
 ],
 "metadata": {
  "kernelspec": {
   "display_name": "Python 3 (ipykernel)",
   "language": "python",
   "name": "python3"
  },
  "language_info": {
   "codemirror_mode": {
    "name": "ipython",
    "version": 3
   },
   "file_extension": ".py",
   "mimetype": "text/x-python",
   "name": "python",
   "nbconvert_exporter": "python",
   "pygments_lexer": "ipython3",
   "version": "3.9.15"
  }
 },
 "nbformat": 4,
 "nbformat_minor": 4
}
