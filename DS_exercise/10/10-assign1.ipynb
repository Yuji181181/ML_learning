{
 "cells": [
  {
   "cell_type": "code",
   "execution_count": 1,
   "id": "0cd7b771",
   "metadata": {},
   "outputs": [],
   "source": [
    "import numpy as np\n",
    "import pandas as pd\n",
    "import scipy.stats as ss"
   ]
  },
  {
   "cell_type": "code",
   "execution_count": 3,
   "id": "33f55838",
   "metadata": {},
   "outputs": [],
   "source": [
    "df = pd.read_csv('survey.csv',header=None)"
   ]
  },
  {
   "cell_type": "code",
   "execution_count": 4,
   "id": "e35b8e1f",
   "metadata": {},
   "outputs": [
    {
     "name": "stdout",
     "output_type": "stream",
     "text": [
      "49.544\n",
      "1000\n"
     ]
    }
   ],
   "source": [
    "mean = 50\n",
    "std = 15\n",
    "print(df[0].mean())\n",
    "print(df.shape[0])"
   ]
  },
  {
   "cell_type": "code",
   "execution_count": 8,
   "id": "4d03e4f7",
   "metadata": {},
   "outputs": [
    {
     "name": "stdout",
     "output_type": "stream",
     "text": [
      "-1.9599639845400545\n",
      "1.959963984540054\n"
     ]
    }
   ],
   "source": [
    "print(ss.norm.ppf(0.05/2))\n",
    "print(ss.norm.ppf(1-(0.05/2)))"
   ]
  },
  {
   "cell_type": "code",
   "execution_count": 10,
   "id": "6797bdeb",
   "metadata": {},
   "outputs": [
    {
     "name": "stdout",
     "output_type": "stream",
     "text": [
      "-0.9613324086911939\n"
     ]
    }
   ],
   "source": [
    "z = (df[0].mean() - mean)/(std/np.sqrt(df.shape[0]))\n",
    "print(z) ## 統計検定量"
   ]
  },
  {
   "cell_type": "code",
   "execution_count": 11,
   "id": "93bb27b9",
   "metadata": {},
   "outputs": [
    {
     "name": "stdout",
     "output_type": "stream",
     "text": [
      "0.3363850576123141\n"
     ]
    }
   ],
   "source": [
    "print(ss.norm.cdf(-np.abs(z))*2) ## p値"
   ]
  }
 ],
 "metadata": {
  "kernelspec": {
   "display_name": "ds2024",
   "language": "python",
   "name": "python3"
  },
  "language_info": {
   "codemirror_mode": {
    "name": "ipython",
    "version": 3
   },
   "file_extension": ".py",
   "mimetype": "text/x-python",
   "name": "python",
   "nbconvert_exporter": "python",
   "pygments_lexer": "ipython3",
   "version": "3.9.15"
  }
 },
 "nbformat": 4,
 "nbformat_minor": 5
}
