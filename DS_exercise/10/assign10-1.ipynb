{
 "cells": [
  {
   "cell_type": "markdown",
   "metadata": {},
   "source": [
    "### 課題１ Assignment 1"
   ]
  },
  {
   "cell_type": "markdown",
   "metadata": {},
   "source": [
    "#### 帰無仮説・対立仮説を立てる\n",
    "- 帰無仮説: 今回行なった調査の満足度のスコアの母平均は50である．(今回行なった調査の満足度のスコアは過去の調査の満足度スコアと差がない)\n",
    "- 対立仮説: 今回行なった調査の満足度のスコアの母平均は50でない．(今回行なった調査の満足度のスコアは過去の調査の満足度スコアと差がある)\n",
    "- 両側検定\n",
    "- 母分散は既知\n",
    "\n",
    "Set up the null/alternative hypothesis \n",
    "- H0: The population mean of the satisfaction scores of the survey conducted this time is 50. (The satisfaction score of the survey conducted this time is not different from the satisfaction score of past surveys)\n",
    "- H1: The population mean of the satisfaction scores of the survey conducted this time is not 50. (The satisfaction scores of the surveys conducted this time are different from the satisfaction scores of past surveys)\n",
    "- two-sided test\n",
    "- Z-test because the population variance is known"
   ]
  },
  {
   "cell_type": "code",
   "execution_count": 1,
   "metadata": {},
   "outputs": [],
   "source": [
    "import numpy as np\n",
    "import pandas as pd\n",
    "import scipy.stats as ss"
   ]
  },
  {
   "cell_type": "markdown",
   "metadata": {},
   "source": [
    "#### 母集団分布の平均，標準偏差\n",
    "Population mean and standard deviation"
   ]
  },
  {
   "cell_type": "code",
   "execution_count": 2,
   "metadata": {},
   "outputs": [],
   "source": [
    "mean =  50 # 母平均 population mean\n",
    "std = 15 # 母標準偏差 population standard deviation"
   ]
  },
  {
   "cell_type": "markdown",
   "metadata": {},
   "source": [
    "#### 標本の平均，サイズ\n",
    "Sample mean and size"
   ]
  },
  {
   "cell_type": "code",
   "execution_count": 3,
   "metadata": {},
   "outputs": [
    {
     "name": "stdout",
     "output_type": "stream",
     "text": [
      "49.544\n",
      "1000\n"
     ]
    }
   ],
   "source": [
    "# Pandas\n",
    "df = pd.read_csv(\"data/survey.csv\",header=None) # 標本 sample\n",
    "sample_mean = df[0].mean() #標本平均 sample mean\n",
    "print(sample_mean)\n",
    "n = df.shape[0] # 標本サイズ sample size\n",
    "print(n)\n",
    "\n",
    "# NumPy\n",
    "#data = np.loadtxt(\"data/survey.csv\")\n",
    "#sample_mean = np.mean(data) #標本平均 sample mean\n",
    "#print(sample_mean)\n",
    "#n = len(data) # 標本サイズ sample size\n",
    "#print(n)"
   ]
  },
  {
   "cell_type": "markdown",
   "metadata": {},
   "source": [
    "#### 棄却域\n",
    "critical region"
   ]
  },
  {
   "cell_type": "code",
   "execution_count": 4,
   "metadata": {},
   "outputs": [
    {
     "name": "stdout",
     "output_type": "stream",
     "text": [
      "-1.9599639845400545 1.959963984540054\n"
     ]
    }
   ],
   "source": [
    "alpha = 0.05 # 有意水準　significant level\n",
    "# 棄却域 critical region\n",
    "z_lower = ss.norm.ppf(alpha/2) # 下側2.5%点 lower 2.5% point\n",
    "z_upper = ss.norm.ppf(1-alpha/2) # 上側2.5%点 upper 2.5% point\n",
    "print(z_lower, z_upper)"
   ]
  },
  {
   "cell_type": "markdown",
   "metadata": {},
   "source": [
    "#### 検定統計量zを求める\n",
    "Calculate the static z "
   ]
  },
  {
   "cell_type": "code",
   "execution_count": 5,
   "metadata": {},
   "outputs": [
    {
     "name": "stdout",
     "output_type": "stream",
     "text": [
      "-0.9613324086911939\n"
     ]
    }
   ],
   "source": [
    "z = (sample_mean - mean)/(std / np.sqrt(n))\n",
    "print(z)"
   ]
  },
  {
   "cell_type": "markdown",
   "metadata": {},
   "source": [
    "**検定統計量(test statistic): -0.961**"
   ]
  },
  {
   "cell_type": "markdown",
   "metadata": {},
   "source": [
    "#### 検定統計量zが棄却域に含まれているか調べる\n",
    "Check whether the statistic z is in the critical region"
   ]
  },
  {
   "cell_type": "code",
   "execution_count": 6,
   "metadata": {},
   "outputs": [
    {
     "name": "stdout",
     "output_type": "stream",
     "text": [
      "Retail H0 (帰無仮説を棄却できない)\n"
     ]
    }
   ],
   "source": [
    "if z_lower > z or z_upper < z: # 検定統計量zが棄却域に含まれていたら帰無仮説を棄却\n",
    "    print(\"Reject H0 (帰無仮説を棄却)\")\n",
    "else:\n",
    "    print(\"Retail H0 (帰無仮説を棄却できない)\")"
   ]
  },
  {
   "cell_type": "markdown",
   "metadata": {},
   "source": [
    "#### p値を求める\n",
    "Calculate p-value"
   ]
  },
  {
   "cell_type": "code",
   "execution_count": 8,
   "metadata": {},
   "outputs": [
    {
     "name": "stdout",
     "output_type": "stream",
     "text": [
      "0.3363850576123141\n",
      "Retail H0 (帰無仮説を棄却できない)\n"
     ]
    }
   ],
   "source": [
    "p_val = ss.norm.cdf(-np.abs(z))*2 #p値 (両側検定) p-value (two-sided test)\n",
    "print(p_val)\n",
    "\n",
    "# p値が有意水準よりも小さければ帰無仮説を棄却　reject the null hypothesis if the p-value is less than the significance level\n",
    "if p_val < alpha: \n",
    "    print(\"Reject H0 (帰無仮説を棄却)\")\n",
    "else:\n",
    "    print(\"Retail H0 (帰無仮説を棄却できない)\")"
   ]
  },
  {
   "cell_type": "markdown",
   "metadata": {},
   "source": [
    "**p値: 0.336**"
   ]
  },
  {
   "cell_type": "markdown",
   "metadata": {},
   "source": [
    "#### 結論 Results\n",
    "**p値が有意水準0.05よりも大きいので帰無仮説を棄却されない．  \n",
    "つまり，今回行なった調査の満足度のスコアは過去の調査の満足度スコアと差があるとはいえない**\n",
    "\n",
    "**p-value > 0.05, \n",
    "so, it cannot to be said that the satisfaction scores of the surveys conducted this time are different from the satisfaction scores of past surveys**"
   ]
  }
 ],
 "metadata": {
  "kernelspec": {
   "display_name": "Python 3 (ipykernel)",
   "language": "python",
   "name": "python3"
  },
  "language_info": {
   "codemirror_mode": {
    "name": "ipython",
    "version": 3
   },
   "file_extension": ".py",
   "mimetype": "text/x-python",
   "name": "python",
   "nbconvert_exporter": "python",
   "pygments_lexer": "ipython3",
   "version": "3.9.15"
  }
 },
 "nbformat": 4,
 "nbformat_minor": 4
}
