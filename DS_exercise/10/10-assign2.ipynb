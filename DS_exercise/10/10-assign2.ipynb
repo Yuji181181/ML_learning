{
 "cells": [
  {
   "cell_type": "code",
   "execution_count": 1,
   "id": "c9f0bbf9",
   "metadata": {},
   "outputs": [],
   "source": [
    "import numpy as np\n",
    "import pandas as pd\n",
    "import scipy.stats as ss"
   ]
  },
  {
   "cell_type": "code",
   "execution_count": 2,
   "id": "60e540e9",
   "metadata": {},
   "outputs": [],
   "source": [
    "df = pd.read_csv(\"weights.csv\")"
   ]
  },
  {
   "cell_type": "code",
   "execution_count": 3,
   "id": "bb67f6d1",
   "metadata": {},
   "outputs": [],
   "source": [
    "sample_mean = np.mean(df[\"before\"]-df[\"after\"])\n",
    "unbiased_std = np.std(df[\"before\"]-df[\"after\"], ddof=1)"
   ]
  },
  {
   "cell_type": "code",
   "execution_count": null,
   "id": "dddf0380",
   "metadata": {},
   "outputs": [
    {
     "name": "stdout",
     "output_type": "stream",
     "text": [
      "0.8450943013526379\n"
     ]
    }
   ],
   "source": [
    "t = (sample_mean - 0)/(unbiased_std / np.sqrt(df.shape[0])) # 統計検定量\n",
    "print(t)"
   ]
  },
  {
   "cell_type": "code",
   "execution_count": null,
   "id": "285f52d6",
   "metadata": {},
   "outputs": [
    {
     "name": "stdout",
     "output_type": "stream",
     "text": [
      "1.8331129326536335\n"
     ]
    }
   ],
   "source": [
    "t_upper = ss.t.ppf(0.95, df=df.shape[0]-1) ## 棄却域\n",
    "print(t_upper)"
   ]
  },
  {
   "cell_type": "code",
   "execution_count": null,
   "id": "49ef8cce",
   "metadata": {},
   "outputs": [
    {
     "name": "stdout",
     "output_type": "stream",
     "text": [
      "0.20997814585803154\n"
     ]
    }
   ],
   "source": [
    "print(ss.t.cdf(-np.abs(t), df=df.shape[0]-1)) # p値"
   ]
  }
 ],
 "metadata": {
  "kernelspec": {
   "display_name": "ds2024",
   "language": "python",
   "name": "python3"
  },
  "language_info": {
   "codemirror_mode": {
    "name": "ipython",
    "version": 3
   },
   "file_extension": ".py",
   "mimetype": "text/x-python",
   "name": "python",
   "nbconvert_exporter": "python",
   "pygments_lexer": "ipython3",
   "version": "3.9.15"
  }
 },
 "nbformat": 4,
 "nbformat_minor": 5
}
