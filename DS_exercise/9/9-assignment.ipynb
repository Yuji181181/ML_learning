{
 "cells": [
  {
   "cell_type": "code",
   "execution_count": 1,
   "id": "f3ee73bb",
   "metadata": {},
   "outputs": [],
   "source": [
    "import numpy as np\n",
    "from scipy import stats"
   ]
  },
  {
   "cell_type": "code",
   "execution_count": null,
   "id": "7cba47cb",
   "metadata": {},
   "outputs": [
    {
     "name": "stdout",
     "output_type": "stream",
     "text": [
      "3.2498355440153697\n"
     ]
    }
   ],
   "source": [
    "alpha = 0.01\n",
    "n = 10\n",
    "df = n - 1\n",
    "\n",
    "t_critical = stats.t.ppf(1 - alpha / 2, df)\n",
    "print(t_critical)"
   ]
  },
  {
   "cell_type": "code",
   "execution_count": 6,
   "id": "f1202902",
   "metadata": {},
   "outputs": [
    {
     "name": "stdout",
     "output_type": "stream",
     "text": [
      "213\n"
     ]
    }
   ],
   "source": [
    "p0 = 0.5 \n",
    "p1 = 0.6 \n",
    "alpha = 0.05 \n",
    "power_target = 0.90 \n",
    "n = 1\n",
    "current_power = 0.0\n",
    "\n",
    "while current_power <= power_target:\n",
    "    k = stats.binom.ppf(1 - alpha, n, p0) + 1\n",
    "    current_power = 1 - stats.binom.cdf(k - 1, n, p1)\n",
    "    if current_power > power_target:\n",
    "        break\n",
    "    n += 1\n",
    "\n",
    "print(n)"
   ]
  }
 ],
 "metadata": {
  "kernelspec": {
   "display_name": "ds2025",
   "language": "python",
   "name": "python3"
  },
  "language_info": {
   "codemirror_mode": {
    "name": "ipython",
    "version": 3
   },
   "file_extension": ".py",
   "mimetype": "text/x-python",
   "name": "python",
   "nbconvert_exporter": "python",
   "pygments_lexer": "ipython3",
   "version": "3.9.15"
  }
 },
 "nbformat": 4,
 "nbformat_minor": 5
}
