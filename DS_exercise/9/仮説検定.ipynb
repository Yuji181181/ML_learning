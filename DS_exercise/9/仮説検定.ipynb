{
 "cells": [
  {
   "cell_type": "code",
   "execution_count": null,
   "id": "1b6d1301",
   "metadata": {},
   "outputs": [
    {
     "name": "stdout",
     "output_type": "stream",
     "text": [
      "自由度: 9\n",
      "有意水準: 0.01\n",
      "臨界値: t = ±3.2498\n",
      "棄却域: t < -3.2498 または t > 3.2498\n",
      "\n",
      "--- (参考) 与えられたデータでの検定結果 ---\n",
      "サンプル平均: -0.2612\n",
      "検定統計量: t = -38.7690\n",
      "p値: 2.5113173851764457e-11\n",
      "結論: 検定統計量は棄却域にあるため、帰無仮説は棄却されます。\n"
     ]
    }
   ],
   "source": [
    "import numpy as np\n",
    "from scipy import stats\n",
    "\n",
    "# --- 課題1 ---\n",
    "\n",
    "# 有意水準とサンプルサイズ\n",
    "alpha = 0.01\n",
    "n = 10\n",
    "\n",
    "# 自由度\n",
    "df = n - 1  # 自由度はサンプルサイズ - 1\n",
    "\n",
    "# 両側検定のため、片側の確率は alpha / 2\n",
    "# stats.t.ppf は累積確率(左側からの確率)を引数にとるため、\n",
    "# 1 - alpha / 2 を指定して上側の臨界値を求める\n",
    "t_critical = stats.t.ppf(1 - alpha / 2, df)\n",
    "\n",
    "print(f\"自由度: {df}\")\n",
    "print(f\"有意水準: {alpha}\")\n",
    "print(f\"臨界値: t = ±{t_critical:.4f}\")\n",
    "print(f\"棄却域: t < {-t_critical:.4f} または t > {t_critical:.4f}\")\n",
    "\n",
    "# (参考) 実際に与えられたデータで検定統計量を計算してみる\n",
    "data = np.array([\n",
    "    -0.7434768, 0.1437100, -1.2882375, -1.1411836, -0.2146270,\n",
    "    -0.6403474, -0.3248116, 1.5498379, 0.5170777, -0.4697282\n",
    "])\n",
    "mu_0 = 10 # 帰無仮説の母平均\n",
    "\n",
    "# t検定の実行\n",
    "# t_statistic: t統計量, p_value: p値\n",
    "t_statistic, p_value = stats.ttest_1samp(data, popmean=mu_0)\n",
    "\n",
    "print(\"\\n--- (参考) 与えられたデータでの検定結果 ---\")\n",
    "print(f\"サンプル平均: {np.mean(data):.4f}\")\n",
    "print(f\"検定統計量: t = {t_statistic:.4f}\")\n",
    "print(f\"p値: {p_value}\")\n",
    "\n",
    "# 結論\n",
    "if abs(t_statistic) > t_critical:\n",
    "    print(\"結論: 検定統計量は棄却域にあるため、帰無仮説は棄却されます。\")\n",
    "else:\n",
    "    print(\"結論: 検定統計量は棄却域にないため、帰無仮説は採択されます。\")"
   ]
  },
  {
   "cell_type": "code",
   "execution_count": 2,
   "id": "d475cac1",
   "metadata": {},
   "outputs": [
    {
     "name": "stdout",
     "output_type": "stream",
     "text": [
      "\n",
      "--- 結果 ---\n",
      "有意水準: 5.0%\n",
      "目標検出力: 0.9\n",
      "検出力0.90を超える最小のサンプルサイズ: n = 213\n"
     ]
    }
   ],
   "source": [
    "import numpy as np\n",
    "from scipy import stats\n",
    "\n",
    "# --- 課題2 ---\n",
    "\n",
    "# パラメータ設定\n",
    "p0 = 0.5      # 帰無仮説の確率\n",
    "p1 = 0.6      # 対立仮説の真の確率\n",
    "alpha = 0.05  # 有意水準\n",
    "power_target = 0.90 # 目標の検出力\n",
    "\n",
    "n = 1 # サンプルサイズの初期値\n",
    "current_power = 0.0\n",
    "\n",
    "while current_power <= power_target:\n",
    "    # 1. 棄却域の決定 (p=p0)\n",
    "    # P(X >= k) <= alpha となる最小のkを見つける\n",
    "    # stats.binom.ppf(1-alpha, n, p0) は P(X <= k) >= 1-alpha となるkを返すので、+1する\n",
    "    k = stats.binom.ppf(1 - alpha, n, p0) + 1\n",
    "\n",
    "    # 2. 検出力の計算 (p=p1)\n",
    "    # P(X >= k) = 1 - P(X <= k-1)\n",
    "    current_power = 1 - stats.binom.cdf(k - 1, n, p1)\n",
    "    \n",
    "    # (途中経過の表示 - 省略可)\n",
    "    # if n % 10 == 0 or current_power > power_target:\n",
    "    #    print(f\"n={n}, 棄却域(成功回数) k>={int(k)}, 検出力={current_power:.4f}\")\n",
    "\n",
    "    if current_power > power_target:\n",
    "        break\n",
    "        \n",
    "    n += 1\n",
    "\n",
    "print(\"\\n--- 結果 ---\")\n",
    "print(f\"有意水準: {alpha*100}%\")\n",
    "print(f\"目標検出力: {power_target}\")\n",
    "print(f\"検出力{power_target:.2f}を超える最小のサンプルサイズ: n = {n}\")"
   ]
  }
 ],
 "metadata": {
  "kernelspec": {
   "display_name": "ds2024",
   "language": "python",
   "name": "python3"
  },
  "language_info": {
   "codemirror_mode": {
    "name": "ipython",
    "version": 3
   },
   "file_extension": ".py",
   "mimetype": "text/x-python",
   "name": "python",
   "nbconvert_exporter": "python",
   "pygments_lexer": "ipython3",
   "version": "3.9.23"
  }
 },
 "nbformat": 4,
 "nbformat_minor": 5
}
