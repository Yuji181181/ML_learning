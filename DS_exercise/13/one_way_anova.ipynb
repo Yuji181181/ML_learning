{
 "cells": [
  {
   "cell_type": "markdown",
   "metadata": {
    "slideshow": {
     "slide_type": "slide"
    }
   },
   "source": [
    "### 一元配置分散分析 (One-way ANOVA analysis)\n",
    "\n",
    "**問題**  \n",
    "plant_growth.csvは異なる3つの条件のもとで育った植物の収穫量のデータである．\n",
    "３つの条件下での収穫量の母平均に差があるかを有意水準５％で検定する．\n",
    "\n",
    "**Problem**\n",
    "plant_growth.csv is the yield data of plants grown under three different conditions.\n",
    "Test whether there is a difference in the population mean of the yield under the three conditions at the significance level of 5%.\n",
    "\n",
    "帰無仮説: ３つの条件下での収穫量の母平均に差はない  \n",
    "対立仮説: ３つの条件下での収穫量の母平均に差がある\n",
    "\n",
    "Null hypothesis: There is no difference in the population mean of yields under the three conditions  \n",
    "Alternative hypothesis: There is a difference in the population mean of yields under three conditions"
   ]
  },
  {
   "cell_type": "code",
   "execution_count": 1,
   "metadata": {
    "slideshow": {
     "slide_type": "fragment"
    }
   },
   "outputs": [],
   "source": [
    "import pandas as pd\n",
    "import scipy.stats as ss \n",
    "import statsmodels.api as sm \n",
    "import statsmodels.formula.api as smf"
   ]
  },
  {
   "cell_type": "markdown",
   "metadata": {
    "slideshow": {
     "slide_type": "slide"
    }
   },
   "source": [
    "##### csvファイルの読み込み Load data into a pandas's dataframe"
   ]
  },
  {
   "cell_type": "code",
   "execution_count": 3,
   "metadata": {
    "slideshow": {
     "slide_type": "fragment"
    }
   },
   "outputs": [
    {
     "data": {
      "text/html": [
       "<div>\n",
       "<style scoped>\n",
       "    .dataframe tbody tr th:only-of-type {\n",
       "        vertical-align: middle;\n",
       "    }\n",
       "\n",
       "    .dataframe tbody tr th {\n",
       "        vertical-align: top;\n",
       "    }\n",
       "\n",
       "    .dataframe thead th {\n",
       "        text-align: right;\n",
       "    }\n",
       "</style>\n",
       "<table border=\"1\" class=\"dataframe\">\n",
       "  <thead>\n",
       "    <tr style=\"text-align: right;\">\n",
       "      <th></th>\n",
       "      <th>No.</th>\n",
       "      <th>weight</th>\n",
       "      <th>group</th>\n",
       "    </tr>\n",
       "  </thead>\n",
       "  <tbody>\n",
       "    <tr>\n",
       "      <th>0</th>\n",
       "      <td>1</td>\n",
       "      <td>4.17</td>\n",
       "      <td>ctrl</td>\n",
       "    </tr>\n",
       "    <tr>\n",
       "      <th>1</th>\n",
       "      <td>2</td>\n",
       "      <td>5.58</td>\n",
       "      <td>ctrl</td>\n",
       "    </tr>\n",
       "    <tr>\n",
       "      <th>2</th>\n",
       "      <td>3</td>\n",
       "      <td>5.18</td>\n",
       "      <td>ctrl</td>\n",
       "    </tr>\n",
       "    <tr>\n",
       "      <th>3</th>\n",
       "      <td>4</td>\n",
       "      <td>6.11</td>\n",
       "      <td>ctrl</td>\n",
       "    </tr>\n",
       "    <tr>\n",
       "      <th>4</th>\n",
       "      <td>5</td>\n",
       "      <td>4.50</td>\n",
       "      <td>ctrl</td>\n",
       "    </tr>\n",
       "    <tr>\n",
       "      <th>5</th>\n",
       "      <td>6</td>\n",
       "      <td>4.61</td>\n",
       "      <td>ctrl</td>\n",
       "    </tr>\n",
       "    <tr>\n",
       "      <th>6</th>\n",
       "      <td>7</td>\n",
       "      <td>5.17</td>\n",
       "      <td>ctrl</td>\n",
       "    </tr>\n",
       "    <tr>\n",
       "      <th>7</th>\n",
       "      <td>8</td>\n",
       "      <td>4.53</td>\n",
       "      <td>ctrl</td>\n",
       "    </tr>\n",
       "    <tr>\n",
       "      <th>8</th>\n",
       "      <td>9</td>\n",
       "      <td>5.33</td>\n",
       "      <td>ctrl</td>\n",
       "    </tr>\n",
       "    <tr>\n",
       "      <th>9</th>\n",
       "      <td>10</td>\n",
       "      <td>5.14</td>\n",
       "      <td>ctrl</td>\n",
       "    </tr>\n",
       "    <tr>\n",
       "      <th>10</th>\n",
       "      <td>11</td>\n",
       "      <td>4.81</td>\n",
       "      <td>trt1</td>\n",
       "    </tr>\n",
       "    <tr>\n",
       "      <th>11</th>\n",
       "      <td>12</td>\n",
       "      <td>4.17</td>\n",
       "      <td>trt1</td>\n",
       "    </tr>\n",
       "    <tr>\n",
       "      <th>12</th>\n",
       "      <td>13</td>\n",
       "      <td>4.41</td>\n",
       "      <td>trt1</td>\n",
       "    </tr>\n",
       "    <tr>\n",
       "      <th>13</th>\n",
       "      <td>14</td>\n",
       "      <td>3.59</td>\n",
       "      <td>trt1</td>\n",
       "    </tr>\n",
       "    <tr>\n",
       "      <th>14</th>\n",
       "      <td>15</td>\n",
       "      <td>5.87</td>\n",
       "      <td>trt1</td>\n",
       "    </tr>\n",
       "    <tr>\n",
       "      <th>15</th>\n",
       "      <td>16</td>\n",
       "      <td>3.83</td>\n",
       "      <td>trt1</td>\n",
       "    </tr>\n",
       "    <tr>\n",
       "      <th>16</th>\n",
       "      <td>17</td>\n",
       "      <td>6.03</td>\n",
       "      <td>trt1</td>\n",
       "    </tr>\n",
       "    <tr>\n",
       "      <th>17</th>\n",
       "      <td>18</td>\n",
       "      <td>4.89</td>\n",
       "      <td>trt1</td>\n",
       "    </tr>\n",
       "    <tr>\n",
       "      <th>18</th>\n",
       "      <td>19</td>\n",
       "      <td>4.32</td>\n",
       "      <td>trt1</td>\n",
       "    </tr>\n",
       "    <tr>\n",
       "      <th>19</th>\n",
       "      <td>20</td>\n",
       "      <td>4.69</td>\n",
       "      <td>trt1</td>\n",
       "    </tr>\n",
       "    <tr>\n",
       "      <th>20</th>\n",
       "      <td>21</td>\n",
       "      <td>6.31</td>\n",
       "      <td>trt2</td>\n",
       "    </tr>\n",
       "    <tr>\n",
       "      <th>21</th>\n",
       "      <td>22</td>\n",
       "      <td>5.12</td>\n",
       "      <td>trt2</td>\n",
       "    </tr>\n",
       "    <tr>\n",
       "      <th>22</th>\n",
       "      <td>23</td>\n",
       "      <td>5.54</td>\n",
       "      <td>trt2</td>\n",
       "    </tr>\n",
       "    <tr>\n",
       "      <th>23</th>\n",
       "      <td>24</td>\n",
       "      <td>5.50</td>\n",
       "      <td>trt2</td>\n",
       "    </tr>\n",
       "    <tr>\n",
       "      <th>24</th>\n",
       "      <td>25</td>\n",
       "      <td>5.37</td>\n",
       "      <td>trt2</td>\n",
       "    </tr>\n",
       "    <tr>\n",
       "      <th>25</th>\n",
       "      <td>26</td>\n",
       "      <td>5.29</td>\n",
       "      <td>trt2</td>\n",
       "    </tr>\n",
       "  </tbody>\n",
       "</table>\n",
       "</div>"
      ],
      "text/plain": [
       "    No.  weight group\n",
       "0     1    4.17  ctrl\n",
       "1     2    5.58  ctrl\n",
       "2     3    5.18  ctrl\n",
       "3     4    6.11  ctrl\n",
       "4     5    4.50  ctrl\n",
       "5     6    4.61  ctrl\n",
       "6     7    5.17  ctrl\n",
       "7     8    4.53  ctrl\n",
       "8     9    5.33  ctrl\n",
       "9    10    5.14  ctrl\n",
       "10   11    4.81  trt1\n",
       "11   12    4.17  trt1\n",
       "12   13    4.41  trt1\n",
       "13   14    3.59  trt1\n",
       "14   15    5.87  trt1\n",
       "15   16    3.83  trt1\n",
       "16   17    6.03  trt1\n",
       "17   18    4.89  trt1\n",
       "18   19    4.32  trt1\n",
       "19   20    4.69  trt1\n",
       "20   21    6.31  trt2\n",
       "21   22    5.12  trt2\n",
       "22   23    5.54  trt2\n",
       "23   24    5.50  trt2\n",
       "24   25    5.37  trt2\n",
       "25   26    5.29  trt2"
      ]
     },
     "metadata": {},
     "output_type": "display_data"
    }
   ],
   "source": [
    "datafile = \"data/plant_growth.csv\"\n",
    "df = pd.read_csv(datafile, delimiter=\",\", skiprows=4)\n",
    "display(df)"
   ]
  },
  {
   "cell_type": "markdown",
   "metadata": {},
   "source": [
    "##### group列のユニークな要素の値を抽出する Find unique group names"
   ]
  },
  {
   "cell_type": "code",
   "execution_count": 4,
   "metadata": {},
   "outputs": [
    {
     "name": "stdout",
     "output_type": "stream",
     "text": [
      "['ctrl' 'trt1' 'trt2']\n"
     ]
    }
   ],
   "source": [
    "groups = pd.unique(df[\"group\"])\n",
    "print(groups)"
   ]
  },
  {
   "cell_type": "markdown",
   "metadata": {
    "slideshow": {
     "slide_type": "slide"
    }
   },
   "source": [
    "##### 各グループのデータの抽出　Extraction of data for each group"
   ]
  },
  {
   "cell_type": "code",
   "execution_count": 5,
   "metadata": {
    "slideshow": {
     "slide_type": "fragment"
    }
   },
   "outputs": [
    {
     "name": "stdout",
     "output_type": "stream",
     "text": [
      "0    4.17\n",
      "1    5.58\n",
      "2    5.18\n",
      "3    6.11\n",
      "4    4.50\n",
      "5    4.61\n",
      "6    5.17\n",
      "7    4.53\n",
      "8    5.33\n",
      "9    5.14\n",
      "Name: weight, dtype: float64\n"
     ]
    }
   ],
   "source": [
    "data1 = df[df[\"group\"]==\"ctrl\"][\"weight\"]\n",
    "data2 = df[df[\"group\"]==\"trt1\"][\"weight\"]\n",
    "data3 = df[df[\"group\"]==\"trt2\"][\"weight\"]\n",
    "print(data1)\n",
    "#print(data2)\n",
    "#print(data3)"
   ]
  },
  {
   "cell_type": "markdown",
   "metadata": {
    "slideshow": {
     "slide_type": "slide"
    }
   },
   "source": [
    "### 方法1: 分散分析表から求める方法  How to obtain from the analysis of variance table\n",
    "\n",
    "\n",
    "分散分析表\n",
    "<table border=\"\" cellpadding=\"5\" width=\"100%\">\n",
    "<tbody>\n",
    "<tr valign=\"top\">\n",
    "<td align=\"left\" width=\"8%\"><strong>Source</strong></td>\n",
    "<td align=\"center\" width=\"22%\"><strong>SS</strong></td>\n",
    "<td align=\"center\" width=\"19%\"><strong>df</strong></td>\n",
    "<td align=\"center\" width=\"23%\"><strong>MS</strong></td>\n",
    "<td align=\"center\" width=\"25%\"><strong>F</strong></td>\n",
    "</tr>\n",
    "<tr valign=\"top\">\n",
    "<td align=\"center\"><strong>Between</strong></td>\n",
    "<td align=\"left\">$SS_{between} = \\sum_{j=1}^{k}n_j(\\bar{x}_{j} - \\bar{x})^2$</td>\n",
    "<td align=\"left\">$df_{between} = k - 1$</td>\n",
    "<td align=\"left\">$MSG = \\frac{SS_{between}}{df_{between}}$</td>\n",
    "<td align=\"left\">$ F = \\frac{MSG}{MSE} $</td>\n",
    "</tr>\n",
    "<tr valign=\"top\">\n",
    "<td align=\"center\"><strong>Within</strong></td>\n",
    "<td align=\"left\">$SS_{within} = \\sum_{i=1}^{n_j}\\sum_{j=1}^{k}(x_{ij} - \\bar{x}_{j})^2$</td>\n",
    "<td align=\"left\">$df_{within} = N - k$</td>\n",
    "<td align=\"left\">$MSE = \\frac{SS_{within}}{df_{within}}$</td>\n",
    "<td align=\"center\"></td>\n",
    "</tr>\n",
    "<tr valign=\"top\">\n",
    "<td align=\"center\"><strong>Total</strong></td>\n",
    "<td align=\"left\">$SS_{total} = \\sum_{i=1}^{n_j}\\sum_{j=1}^{k}(x_{ij} - \\bar{x})^2$</td>\n",
    "<td align=\"left\">$df_{total} = N - 1$</td>\n",
    "<td align=\"center\"></td>\n",
    "<td align=\"center\"></td>\n",
    "</tr>\n",
    "</tbody></table>\n"
   ]
  },
  {
   "cell_type": "markdown",
   "metadata": {
    "slideshow": {
     "slide_type": "slide"
    }
   },
   "source": [
    "##### 自由度 Degree of freedom"
   ]
  },
  {
   "cell_type": "code",
   "execution_count": 6,
   "metadata": {
    "slideshow": {
     "slide_type": "fragment"
    }
   },
   "outputs": [],
   "source": [
    "# 水準数 number of levels\n",
    "k = len(pd.unique(df[\"group\"])) \n",
    "# データの総数　total numbers of data\n",
    "N = df.shape[0]\n",
    "# degree of freedom between\n",
    "df_between = k - 1\n",
    "# degree of freedom within\n",
    "df_within = N - k\n",
    "# degree of freedom in total\n",
    "df_total = N - 1"
   ]
  },
  {
   "cell_type": "markdown",
   "metadata": {
    "slideshow": {
     "slide_type": "slide"
    }
   },
   "source": [
    "##### 水準間の平方和 Sum of squares between levels"
   ]
  },
  {
   "cell_type": "code",
   "execution_count": 7,
   "metadata": {
    "slideshow": {
     "slide_type": "fragment"
    }
   },
   "outputs": [
    {
     "name": "stdout",
     "output_type": "stream",
     "text": [
      "ss_between:  2.792128205128212\n"
     ]
    }
   ],
   "source": [
    "ave_all = df['weight'].mean() # x_bar: 全てのweightの平均, means of all weights\n",
    "\n",
    "n1 = len(data1) # \"ctrl\"のサンプル数 number of samples of \"ctrl\"\n",
    "n2 = len(data2) # \"trt1\"のサンプル数 number of samples of \"trt1\"\n",
    "n3 = len(data3) # \"trt2\"のサンプル数 number of samples of \"trt2\"\n",
    "ctrl_ave = data1.mean() # \"ctrl\"の平均値 mean of \"ctrl\"\n",
    "trt1_ave = data2.mean() # \"trt1\"の平均値 mean of \"trt1\"\n",
    "trt2_ave = data3.mean() # \"trt2\"の平均値 mean of \"trt2\"\n",
    "\n",
    "# sum of sum of squares between groups: ss_between\n",
    "ctrl_ssb = n1 * (ctrl_ave - ave_all)**2\n",
    "trt1_ssb = n2 * (trt1_ave - ave_all)**2 \n",
    "trt2_ssb = n3 * (trt2_ave - ave_all)**2\n",
    "ss_between = ctrl_ssb + trt1_ssb + trt2_ssb\n",
    "print(\"ss_between: \", ss_between)"
   ]
  },
  {
   "cell_type": "markdown",
   "metadata": {},
   "source": [
    "##### 水準内の平方和 Sum of squares within levels"
   ]
  },
  {
   "cell_type": "code",
   "execution_count": 8,
   "metadata": {},
   "outputs": [
    {
     "name": "stdout",
     "output_type": "stream",
     "text": [
      "ss_within:  9.589533333333335\n"
     ]
    }
   ],
   "source": [
    "# sum of sum of squares within levels: ss_within\n",
    "# SS_within:\n",
    "ctrl_ssw = sum((data1 - ctrl_ave)**2)\n",
    "trt1_ssw = sum((data2 - trt1_ave)**2)\n",
    "trt2_ssw = sum((data3 - trt2_ave)**2)\n",
    "ss_within =  ctrl_ssw + trt1_ssw + trt2_ssw\n",
    "print(\"ss_within: \", ss_within)"
   ]
  },
  {
   "cell_type": "markdown",
   "metadata": {},
   "source": [
    "##### 総平方和  Sum of squares for total"
   ]
  },
  {
   "cell_type": "code",
   "execution_count": 9,
   "metadata": {},
   "outputs": [
    {
     "name": "stdout",
     "output_type": "stream",
     "text": [
      "ss_total:  12.38166153846154\n"
     ]
    }
   ],
   "source": [
    "# sum of sum of squares for total: ss_total\n",
    "ctrl_sst = sum((data1 - ave_all)**2)\n",
    "trt1_sst = sum((data2 - ave_all)**2)\n",
    "trt2_sst = sum((data3 - ave_all)**2)\n",
    "ss_total = ctrl_sst + trt1_sst + trt2_sst\n",
    "print(\"ss_total: \", ss_total)"
   ]
  },
  {
   "cell_type": "markdown",
   "metadata": {},
   "source": [
    "##### F検定  F-statistic"
   ]
  },
  {
   "cell_type": "code",
   "execution_count": 10,
   "metadata": {},
   "outputs": [
    {
     "name": "stdout",
     "output_type": "stream",
     "text": [
      "3.422132207861178\n",
      "F-value: 3.34839\n",
      "p-value: 0.05293\n",
      "Retain H0 (帰無仮説を棄却できない)\n"
     ]
    }
   ],
   "source": [
    "mean_squared_between = ss_between / df_between\n",
    "mean_squared_within = ss_within / df_within\n",
    "\n",
    "# F値 F-value\n",
    "f_ratio =  mean_squared_between / mean_squared_within\n",
    "\n",
    "# 棄却域(F分布の上側5%点) rejection region (the upper 5-percentile of F-distribution)\n",
    "print(ss.f.ppf(0.95, df_between, df_within))\n",
    "\n",
    "# p値 p-value\n",
    "p_val =  1 - ss.f.cdf(f_ratio, df_between, df_within)\n",
    "\n",
    "print(\"F-value: {:.5f}\".format(f_ratio))\n",
    "print(\"p-value: {:.5f}\".format(p_val))\n",
    "\n",
    "if p_val < 0.05:\n",
    "    print(\"Reject H0 (帰無仮説を棄却)\")\n",
    "else:\n",
    "    print(\"Retain H0 (帰無仮説を棄却できない)\")"
   ]
  },
  {
   "cell_type": "markdown",
   "metadata": {},
   "source": [
    "### 方法2: statsmodelsを用いた方法 Method using stats models\n",
    "\n",
    "Step 1. statsmodels.formula.apiを用いて回帰分析を行う  Construct a regression model using statsmodels.formula.api  \n",
    "Step 2. 回帰分析の結果に基づいて一元配置分散分析を行う  Perform one-way ANOVA based on the results of regression analysis"
   ]
  },
  {
   "cell_type": "code",
   "execution_count": 11,
   "metadata": {},
   "outputs": [
    {
     "name": "stdout",
     "output_type": "stream",
     "text": [
      "                            OLS Regression Results                            \n",
      "==============================================================================\n",
      "Dep. Variable:                 weight   R-squared:                       0.226\n",
      "Model:                            OLS   Adj. R-squared:                  0.158\n",
      "Method:                 Least Squares   F-statistic:                     3.348\n",
      "Date:                Sat, 06 Jul 2024   Prob (F-statistic):             0.0529\n",
      "Time:                        15:13:19   Log-Likelihood:                -23.926\n",
      "No. Observations:                  26   AIC:                             53.85\n",
      "Df Residuals:                      23   BIC:                             57.63\n",
      "Df Model:                           2                                         \n",
      "Covariance Type:            nonrobust                                         \n",
      "====================================================================================\n",
      "                       coef    std err          t      P>|t|      [0.025      0.975]\n",
      "------------------------------------------------------------------------------------\n",
      "Intercept            5.0320      0.204     24.644      0.000       4.610       5.454\n",
      "C(group)[T.trt1]    -0.3710      0.289     -1.285      0.212      -0.968       0.226\n",
      "C(group)[T.trt2]     0.4897      0.333      1.469      0.156      -0.200       1.179\n",
      "==============================================================================\n",
      "Omnibus:                        1.896   Durbin-Watson:                   2.744\n",
      "Prob(Omnibus):                  0.387   Jarque-Bera (JB):                1.362\n",
      "Skew:                           0.556   Prob(JB):                        0.506\n",
      "Kurtosis:                       2.859   Cond. No.                         3.59\n",
      "==============================================================================\n",
      "\n",
      "Notes:\n",
      "[1] Standard Errors assume that the covariance matrix of the errors is correctly specified.\n",
      "----------------\n"
     ]
    },
    {
     "data": {
      "text/html": [
       "<div>\n",
       "<style scoped>\n",
       "    .dataframe tbody tr th:only-of-type {\n",
       "        vertical-align: middle;\n",
       "    }\n",
       "\n",
       "    .dataframe tbody tr th {\n",
       "        vertical-align: top;\n",
       "    }\n",
       "\n",
       "    .dataframe thead th {\n",
       "        text-align: right;\n",
       "    }\n",
       "</style>\n",
       "<table border=\"1\" class=\"dataframe\">\n",
       "  <thead>\n",
       "    <tr style=\"text-align: right;\">\n",
       "      <th></th>\n",
       "      <th>sum_sq</th>\n",
       "      <th>df</th>\n",
       "      <th>F</th>\n",
       "      <th>PR(&gt;F)</th>\n",
       "    </tr>\n",
       "  </thead>\n",
       "  <tbody>\n",
       "    <tr>\n",
       "      <th>C(group)</th>\n",
       "      <td>2.792128</td>\n",
       "      <td>2.0</td>\n",
       "      <td>3.348388</td>\n",
       "      <td>0.052931</td>\n",
       "    </tr>\n",
       "    <tr>\n",
       "      <th>Residual</th>\n",
       "      <td>9.589533</td>\n",
       "      <td>23.0</td>\n",
       "      <td>NaN</td>\n",
       "      <td>NaN</td>\n",
       "    </tr>\n",
       "  </tbody>\n",
       "</table>\n",
       "</div>"
      ],
      "text/plain": [
       "            sum_sq    df         F    PR(>F)\n",
       "C(group)  2.792128   2.0  3.348388  0.052931\n",
       "Residual  9.589533  23.0       NaN       NaN"
      ]
     },
     "metadata": {},
     "output_type": "display_data"
    },
    {
     "name": "stdout",
     "output_type": "stream",
     "text": [
      "----------------\n",
      "F-value: 3.34839\n",
      "p-value: 0.05293\n",
      "Retain H0 (帰無仮説を棄却できない)\n"
     ]
    }
   ],
   "source": [
    "model = smf.ols(formula='weight ~ C(group)', data=df) # 回帰モデルの設定  Construct a regression model \n",
    "results = model.fit() # 回帰分析の実行 Execute linear regression\n",
    "print(results.summary()) # 回帰分析の結果 Results of the linear regression\n",
    "\n",
    "# one-way anova by anova_lm()\n",
    "table = sm.stats.anova_lm(results, typ=2)\n",
    "print(\"----------------\")\n",
    "display(table)\n",
    "print(\"----------------\")\n",
    "\n",
    "f = table.at['C(group)','F']\n",
    "p_val = table.at['C(group)','PR(>F)']\n",
    "print(\"F-value: {:.5f}\".format(f))\n",
    "print(\"p-value: {:.5f}\".format(p_val))\n",
    "\n",
    "if p_val < 0.05:\n",
    "    print(\"Reject H0 (帰無仮説を棄却)\")\n",
    "else:\n",
    "    print(\"Retain H0 (帰無仮説を棄却できない)\")"
   ]
  },
  {
   "cell_type": "markdown",
   "metadata": {},
   "source": [
    "### 方法3: scipyのf_oneway()関数 scipy's f_oneway() function"
   ]
  },
  {
   "cell_type": "code",
   "execution_count": 12,
   "metadata": {},
   "outputs": [
    {
     "name": "stdout",
     "output_type": "stream",
     "text": [
      "F-value: 3.34839\n",
      "p-value: 0.05293\n",
      "Retain H0 (帰無仮説を棄却できない)\n"
     ]
    }
   ],
   "source": [
    "f, p_val = ss.f_oneway(data1, data2, data3)\n",
    "print(\"F-value: {:.5f}\".format(f))\n",
    "print(\"p-value: {:.5f}\".format(p_val))\n",
    "\n",
    "if p_val < 0.05:\n",
    "    print(\"Reject H0 (帰無仮説を棄却)\")\n",
    "else:\n",
    "    print(\"Retain H0 (帰無仮説を棄却できない)\")"
   ]
  },
  {
   "cell_type": "markdown",
   "metadata": {},
   "source": [
    "### 解釈 Interpretation\n",
    "\n",
    "p値が有意水準0.05よりも大きいため，帰無仮説は棄却されない．\n",
    "つまり，ctrl、trt1、trt2の母平均に差があるとはいえない．\n",
    "\n",
    "The null hypothesis is not rejected because the p-value is greater than the significance level of 0.05.\n",
    "Therefore, it cannot be said that there is a difference in the population means of ctrl, trt1 and trt2."
   ]
  },
  {
   "cell_type": "markdown",
   "metadata": {
    "slideshow": {
     "slide_type": "slide"
    }
   },
   "source": [
    "#### 効果量(Effective size)"
   ]
  },
  {
   "cell_type": "code",
   "execution_count": 13,
   "metadata": {},
   "outputs": [
    {
     "name": "stdout",
     "output_type": "stream",
     "text": [
      "eta squared: 0.22551\n",
      "omega squared: 0.15301\n"
     ]
    }
   ],
   "source": [
    "# eta_squared (somewhat biased)\n",
    "eta_squared = ss_between / ss_total\n",
    "# omega_squared\n",
    "omega_squared = (ss_between - (df_between * mean_squared_within)) / (ss_total + mean_squared_within)\n",
    "print(\"eta squared: {:.5f}\".format(eta_squared))\n",
    "print(\"omega squared: {:.5f}\".format(omega_squared))"
   ]
  }
 ],
 "metadata": {
  "celltoolbar": "Slideshow",
  "kernelspec": {
   "display_name": "Python 3 (ipykernel)",
   "language": "python",
   "name": "python3"
  },
  "language_info": {
   "codemirror_mode": {
    "name": "ipython",
    "version": 3
   },
   "file_extension": ".py",
   "mimetype": "text/x-python",
   "name": "python",
   "nbconvert_exporter": "python",
   "pygments_lexer": "ipython3",
   "version": "3.9.15"
  }
 },
 "nbformat": 4,
 "nbformat_minor": 4
}
