{
 "cells": [
  {
   "cell_type": "markdown",
   "metadata": {
    "slideshow": {
     "slide_type": "slide"
    }
   },
   "source": [
    "### 課題1 Assignment 1\n",
    "score_oneway.csvは3クラスのテストの点数のデータである．各クラスのテストの平均点に差があるかどうか？有意水準5%で検定せよ．\n",
    "\n",
    "- 帰無仮説: ３つのクラスの平均点に差はない\n",
    "- 対立仮説: ３つのクラスの平均点に差がある\n",
    "\n",
    "score_oneway.csv is the score data of the test of 3 classes. \n",
    "Is there a difference in the average scores of the tests in \n",
    "each class? Test at a significance level of 5%.\n",
    "\n",
    "- Null hypothesis:　There is no difference in the average scores of the tests in each class.\n",
    "- Alternative hypothesis:　There is a difference in the average scores of the tests in each class."
   ]
  },
  {
   "cell_type": "code",
   "execution_count": 1,
   "metadata": {
    "slideshow": {
     "slide_type": "fragment"
    }
   },
   "outputs": [],
   "source": [
    "import pandas as pd\n",
    "import scipy.stats as ss \n",
    "import statsmodels.api as sm \n",
    "import statsmodels.formula.api as smf"
   ]
  },
  {
   "cell_type": "markdown",
   "metadata": {
    "slideshow": {
     "slide_type": "slide"
    }
   },
   "source": [
    "##### csvファイルの読み込み Load data into a pandas's dataframe"
   ]
  },
  {
   "cell_type": "code",
   "execution_count": 2,
   "metadata": {
    "slideshow": {
     "slide_type": "fragment"
    }
   },
   "outputs": [
    {
     "data": {
      "text/html": [
       "<div>\n",
       "<style scoped>\n",
       "    .dataframe tbody tr th:only-of-type {\n",
       "        vertical-align: middle;\n",
       "    }\n",
       "\n",
       "    .dataframe tbody tr th {\n",
       "        vertical-align: top;\n",
       "    }\n",
       "\n",
       "    .dataframe thead th {\n",
       "        text-align: right;\n",
       "    }\n",
       "</style>\n",
       "<table border=\"1\" class=\"dataframe\">\n",
       "  <thead>\n",
       "    <tr style=\"text-align: right;\">\n",
       "      <th></th>\n",
       "      <th>Class</th>\n",
       "      <th>Score</th>\n",
       "    </tr>\n",
       "  </thead>\n",
       "  <tbody>\n",
       "    <tr>\n",
       "      <th>0</th>\n",
       "      <td>1</td>\n",
       "      <td>76</td>\n",
       "    </tr>\n",
       "    <tr>\n",
       "      <th>1</th>\n",
       "      <td>1</td>\n",
       "      <td>54</td>\n",
       "    </tr>\n",
       "    <tr>\n",
       "      <th>2</th>\n",
       "      <td>1</td>\n",
       "      <td>62</td>\n",
       "    </tr>\n",
       "    <tr>\n",
       "      <th>3</th>\n",
       "      <td>1</td>\n",
       "      <td>46</td>\n",
       "    </tr>\n",
       "    <tr>\n",
       "      <th>4</th>\n",
       "      <td>1</td>\n",
       "      <td>53</td>\n",
       "    </tr>\n",
       "    <tr>\n",
       "      <th>...</th>\n",
       "      <td>...</td>\n",
       "      <td>...</td>\n",
       "    </tr>\n",
       "    <tr>\n",
       "      <th>82</th>\n",
       "      <td>3</td>\n",
       "      <td>57</td>\n",
       "    </tr>\n",
       "    <tr>\n",
       "      <th>83</th>\n",
       "      <td>3</td>\n",
       "      <td>80</td>\n",
       "    </tr>\n",
       "    <tr>\n",
       "      <th>84</th>\n",
       "      <td>3</td>\n",
       "      <td>92</td>\n",
       "    </tr>\n",
       "    <tr>\n",
       "      <th>85</th>\n",
       "      <td>3</td>\n",
       "      <td>41</td>\n",
       "    </tr>\n",
       "    <tr>\n",
       "      <th>86</th>\n",
       "      <td>3</td>\n",
       "      <td>82</td>\n",
       "    </tr>\n",
       "  </tbody>\n",
       "</table>\n",
       "<p>87 rows × 2 columns</p>\n",
       "</div>"
      ],
      "text/plain": [
       "    Class  Score\n",
       "0       1     76\n",
       "1       1     54\n",
       "2       1     62\n",
       "3       1     46\n",
       "4       1     53\n",
       "..    ...    ...\n",
       "82      3     57\n",
       "83      3     80\n",
       "84      3     92\n",
       "85      3     41\n",
       "86      3     82\n",
       "\n",
       "[87 rows x 2 columns]"
      ]
     },
     "metadata": {},
     "output_type": "display_data"
    }
   ],
   "source": [
    "datafile = \"data/score_oneway.csv\"\n",
    "df = pd.read_csv(datafile, delimiter=\",\")\n",
    "display(df)"
   ]
  },
  {
   "cell_type": "markdown",
   "metadata": {},
   "source": [
    "##### Class列のユニークな要素の値を抽出する Find unique class names"
   ]
  },
  {
   "cell_type": "code",
   "execution_count": 3,
   "metadata": {},
   "outputs": [
    {
     "name": "stdout",
     "output_type": "stream",
     "text": [
      "[1 2 3]\n"
     ]
    }
   ],
   "source": [
    "groups = pd.unique(df[\"Class\"])\n",
    "print(groups)"
   ]
  },
  {
   "cell_type": "markdown",
   "metadata": {
    "slideshow": {
     "slide_type": "slide"
    }
   },
   "source": [
    "##### 各グループのデータの抽出　Extraction of data for each group"
   ]
  },
  {
   "cell_type": "code",
   "execution_count": 4,
   "metadata": {
    "slideshow": {
     "slide_type": "fragment"
    }
   },
   "outputs": [],
   "source": [
    "data1 = df[df[\"Class\"]==1][\"Score\"]\n",
    "data2 = df[df[\"Class\"]==2][\"Score\"]\n",
    "data3 = df[df[\"Class\"]==3][\"Score\"]\n",
    "#print(data1)\n",
    "#print(data2)\n",
    "#print(data3)"
   ]
  },
  {
   "cell_type": "markdown",
   "metadata": {
    "slideshow": {
     "slide_type": "slide"
    }
   },
   "source": [
    "### 方法1: scipyのf_oneway()関数 scipy's f_oneway() function"
   ]
  },
  {
   "cell_type": "code",
   "execution_count": 5,
   "metadata": {
    "slideshow": {
     "slide_type": "slide"
    }
   },
   "outputs": [
    {
     "name": "stdout",
     "output_type": "stream",
     "text": [
      "0.9554459385671847 0.38878048139735655\n",
      "Retain H0\n"
     ]
    }
   ],
   "source": [
    "f, p_val = ss.f_oneway(data1, data2, data3)\n",
    "print(f,p_val)\n",
    "\n",
    "if p_val > 0.05:\n",
    "    print(\"Retain H0\")\n",
    "else:\n",
    "    print(\"Reject H0\")"
   ]
  },
  {
   "cell_type": "markdown",
   "metadata": {
    "slideshow": {
     "slide_type": "slide"
    }
   },
   "source": [
    "### 方法2: statsmodelsを用いた方法\n",
    "\n",
    "Step 1. statsmodels.formula.apiを用いて回帰分析を行う  Construct a regression model using statsmodels.formula.api  \n",
    "Step 2. 回帰分析の結果に基づいて一元配置分散分析を行う  Perform one-way ANOVA based on the results of regression analysis"
   ]
  },
  {
   "cell_type": "code",
   "execution_count": 6,
   "metadata": {
    "slideshow": {
     "slide_type": "fragment"
    }
   },
   "outputs": [
    {
     "name": "stdout",
     "output_type": "stream",
     "text": [
      "                            OLS Regression Results                            \n",
      "==============================================================================\n",
      "Dep. Variable:                  Score   R-squared:                       0.022\n",
      "Model:                            OLS   Adj. R-squared:                 -0.001\n",
      "Method:                 Least Squares   F-statistic:                    0.9554\n",
      "Date:                Sat, 06 Jul 2024   Prob (F-statistic):              0.389\n",
      "Time:                        15:15:23   Log-Likelihood:                -387.05\n",
      "No. Observations:                  87   AIC:                             780.1\n",
      "Df Residuals:                      84   BIC:                             787.5\n",
      "Df Model:                           2                                         \n",
      "Covariance Type:            nonrobust                                         \n",
      "=================================================================================\n",
      "                    coef    std err          t      P>|t|      [0.025      0.975]\n",
      "---------------------------------------------------------------------------------\n",
      "Intercept        60.7931      3.911     15.544      0.000      53.016      68.570\n",
      "C(Class)[T.2]     3.2759      5.531      0.592      0.555      -7.723      14.275\n",
      "C(Class)[T.3]     7.6207      5.531      1.378      0.172      -3.378      18.619\n",
      "==============================================================================\n",
      "Omnibus:                       27.386   Durbin-Watson:                   2.096\n",
      "Prob(Omnibus):                  0.000   Jarque-Bera (JB):                5.239\n",
      "Skew:                           0.028   Prob(JB):                       0.0728\n",
      "Kurtosis:                       1.799   Cond. No.                         3.73\n",
      "==============================================================================\n",
      "\n",
      "Notes:\n",
      "[1] Standard Errors assume that the covariance matrix of the errors is correctly specified.\n",
      "----------------\n",
      "                sum_sq    df         F   PR(>F)\n",
      "C(Class)    847.609195   2.0  0.955446  0.38878\n",
      "Residual  37259.655172  84.0       NaN      NaN\n",
      "----------------\n",
      "Retain H0\n"
     ]
    }
   ],
   "source": [
    "model = smf.ols(formula='Score ~ C(Class)', data=df) # 回帰モデルの設定  Construct a regression model \n",
    "results = model.fit() # 回帰分析の実行 Execute linear regression\n",
    "print(results.summary()) # 回帰分析の結果 Results of the linear regression\n",
    "\n",
    "# one-way anova by anova_lm()e\n",
    "table = sm.stats.anova_lm(results, typ=2)\n",
    "print(\"----------------\")\n",
    "print(table)\n",
    "print(\"----------------\")\n",
    "\n",
    "p_val = table.at['C(Class)','PR(>F)']\n",
    "\n",
    "if p_val > 0.05:\n",
    "    print(\"Retain H0\")\n",
    "else:\n",
    "    print(\"Reject H0\")"
   ]
  },
  {
   "cell_type": "markdown",
   "metadata": {
    "slideshow": {
     "slide_type": "slide"
    }
   },
   "source": [
    "### 方法3: 分散分析表から求める方法\n",
    "\n",
    "\n",
    "分散分析表\n",
    "<table border=\"\" cellpadding=\"5\" width=\"100%\">\n",
    "<tbody>\n",
    "<tr valign=\"top\">\n",
    "<td align=\"left\" width=\"8%\"><strong>Source</strong></td>\n",
    "<td align=\"center\" width=\"22%\"><strong>SS</strong></td>\n",
    "<td align=\"center\" width=\"19%\"><strong>df</strong></td>\n",
    "<td align=\"center\" width=\"23%\"><strong>MS</strong></td>\n",
    "<td align=\"center\" width=\"25%\"><strong>F</strong></td>\n",
    "</tr>\n",
    "<tr valign=\"top\">\n",
    "<td align=\"center\"><strong>Between</strong></td>\n",
    "<td align=\"left\">$SS_{between} = \\sum_{j=1}^{k}n_j(\\bar{x}_{j} - \\bar{x})^2$</td>\n",
    "<td align=\"left\">$df_{between} = k - 1$</td>\n",
    "<td align=\"left\">$MSG = \\frac{SS_{between}}{df_{between}}$</td>\n",
    "<td align=\"left\">$ F = \\frac{MSG}{MSE} $</td>\n",
    "</tr>\n",
    "<tr valign=\"top\">\n",
    "<td align=\"center\"><strong>Within</strong></td>\n",
    "<td align=\"left\">$SS_{within} = \\sum_{i=1}^{n_j}\\sum_{j=1}^{k}(x_{ij} - \\bar{x}_{j})^2$</td>\n",
    "<td align=\"left\">$df_{within} = N - k$</td>\n",
    "<td align=\"left\">$MSE = \\frac{SS_{within}}{df_{within}}$</td>\n",
    "<td align=\"center\"></td>\n",
    "</tr>\n",
    "<tr valign=\"top\">\n",
    "<td align=\"center\"><strong>Total</strong></td>\n",
    "<td align=\"left\">$SS_{total} = \\sum_{i=1}^{n_j}\\sum_{j=1}^{k}(x_{ij} - \\bar{x})^2$</td>\n",
    "<td align=\"left\">$df_{total} = N - 1$</td>\n",
    "<td align=\"center\"></td>\n",
    "<td align=\"center\"></td>\n",
    "</tr>\n",
    "</tbody></table>\n"
   ]
  },
  {
   "cell_type": "markdown",
   "metadata": {
    "slideshow": {
     "slide_type": "slide"
    }
   },
   "source": [
    "##### 自由度 Degree of freedom"
   ]
  },
  {
   "cell_type": "code",
   "execution_count": 7,
   "metadata": {
    "slideshow": {
     "slide_type": "fragment"
    }
   },
   "outputs": [],
   "source": [
    "# 水準数 number of levels\n",
    "k = len(pd.unique(df[\"Class\"])) \n",
    "# データの総数　total numbers of data\n",
    "N = df.shape[0]\n",
    "# degree of freedom between\n",
    "df_between = k - 1\n",
    "# degree of freedom within\n",
    "df_within = N - k\n",
    "# degree of freedom in total\n",
    "df_total = N - 1"
   ]
  },
  {
   "cell_type": "markdown",
   "metadata": {
    "slideshow": {
     "slide_type": "slide"
    }
   },
   "source": [
    "##### 水準間の平方和 Sum of squares between levels"
   ]
  },
  {
   "cell_type": "code",
   "execution_count": 8,
   "metadata": {
    "slideshow": {
     "slide_type": "fragment"
    }
   },
   "outputs": [
    {
     "name": "stdout",
     "output_type": "stream",
     "text": [
      "ss_between:  847.609195402297\n"
     ]
    }
   ],
   "source": [
    "ave_all = df['Score'].mean() # x_bar: 標本データ全ての平均, means of all scores\n",
    "\n",
    "n1 = data1.size # \"class_1\"のサンプル数 number of samples of \"class_1\"\n",
    "n2 = data2.size # \"class_2\"のサンプル数 number of samples of \"class_2\"\n",
    "n3 = data3.size # \"class_3\"のサンプル数 number of samples of \"class_3\"\n",
    "c1_ave = data1.mean() # \"class_1\"の平均値 mean of \"class_1\"\n",
    "c2_ave = data2.mean() # \"class_2\"の平均値 mean of \"class_2\"\n",
    "c3_ave = data3.mean() # \"class_3\"の平均値 mean of \"class_3\"\n",
    "\n",
    "# sum of sum of squares between groups: ss_between\n",
    "c1_ssb = n1 * (c1_ave - ave_all)**2\n",
    "c2_ssb = n2 * (c2_ave - ave_all)**2 \n",
    "c3_ssb = n3 * (c3_ave - ave_all)**2\n",
    "ss_between = c1_ssb + c2_ssb + c3_ssb\n",
    "print(\"ss_between: \", ss_between)"
   ]
  },
  {
   "cell_type": "markdown",
   "metadata": {},
   "source": [
    "##### 水準内の平方和 Sum of squares within levels"
   ]
  },
  {
   "cell_type": "code",
   "execution_count": 9,
   "metadata": {},
   "outputs": [
    {
     "name": "stdout",
     "output_type": "stream",
     "text": [
      "ss_within:  37259.65517241379\n"
     ]
    }
   ],
   "source": [
    "# sum of sum of squares within levels: ss_within\n",
    "# SS_within:\n",
    "c1_ssw = sum((data1 - c1_ave)**2)\n",
    "c2_ssw = sum((data2 - c2_ave)**2)\n",
    "c3_ssw = sum((data3 - c3_ave)**2)\n",
    "ss_within =  c1_ssw + c2_ssw + c3_ssw\n",
    "print(\"ss_within: \", ss_within)"
   ]
  },
  {
   "cell_type": "markdown",
   "metadata": {},
   "source": [
    "##### 総平方和  Sum of squares for total"
   ]
  },
  {
   "cell_type": "code",
   "execution_count": 10,
   "metadata": {},
   "outputs": [
    {
     "name": "stdout",
     "output_type": "stream",
     "text": [
      "ss_total:  38107.2643678161\n"
     ]
    }
   ],
   "source": [
    "# sum of sum of squares for total: ss_total\n",
    "c1_sst = sum((data1 - ave_all)**2)\n",
    "c2_sst = sum((data2 - ave_all)**2)\n",
    "c3_sst = sum((data3 - ave_all)**2)\n",
    "ss_total = c1_sst + c2_sst + c3_sst\n",
    "print(\"ss_total: \", ss_total)"
   ]
  },
  {
   "cell_type": "markdown",
   "metadata": {},
   "source": [
    "##### F検定  F-statistic"
   ]
  },
  {
   "cell_type": "code",
   "execution_count": 11,
   "metadata": {},
   "outputs": [
    {
     "name": "stdout",
     "output_type": "stream",
     "text": [
      "3.1051566079400104\n",
      "F-value: 0.9554459385671826\n",
      "p-value: 0.38878\n",
      "Retain H0\n"
     ]
    }
   ],
   "source": [
    "mean_squared_between = ss_between / df_between\n",
    "mean_squared_within = ss_within / df_within\n",
    "\n",
    "# F値 F-value\n",
    "f_ratio =  mean_squared_between / mean_squared_within\n",
    "\n",
    "# 棄却域(F分布の上側5%点) rejection region (the upper 5-percentile of F-distribution)\n",
    "print(ss.f.ppf(0.95, df_between, df_within))\n",
    "\n",
    "# p値 p-value\n",
    "p_val =  1 - ss.f.cdf(f_ratio, df_between, df_within)\n",
    "\n",
    "print(\"F-value: {}\".format(f_ratio))\n",
    "print(\"p-value: {:.5f}\".format(p_val))\n",
    "\n",
    "if p_val > 0.05:\n",
    "    print(\"Retain H0\")\n",
    "else:\n",
    "    print(\"Reject H0\")"
   ]
  },
  {
   "cell_type": "markdown",
   "metadata": {},
   "source": [
    "### 解釈 Interpretation\n",
    "\n",
    "p値が有意水準0.05よりも大きいため，帰無仮説は棄却されない．  \n",
    "つまり，3つのクラスの平均点に差があるとはいえない．\n",
    "\n",
    "The null hypothesis is not rejected because the p-value is greater than the significance level of 0.05.  \n",
    "Therefore, it cannot be said that there is a difference in the average scores of the tests in each class."
   ]
  },
  {
   "cell_type": "code",
   "execution_count": null,
   "metadata": {},
   "outputs": [],
   "source": []
  }
 ],
 "metadata": {
  "celltoolbar": "Slideshow",
  "kernelspec": {
   "display_name": "Python 3 (ipykernel)",
   "language": "python",
   "name": "python3"
  },
  "language_info": {
   "codemirror_mode": {
    "name": "ipython",
    "version": 3
   },
   "file_extension": ".py",
   "mimetype": "text/x-python",
   "name": "python",
   "nbconvert_exporter": "python",
   "pygments_lexer": "ipython3",
   "version": "3.9.15"
  }
 },
 "nbformat": 4,
 "nbformat_minor": 4
}
