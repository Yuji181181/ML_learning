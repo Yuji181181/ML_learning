{
 "cells": [
  {
   "cell_type": "code",
   "execution_count": 1,
   "id": "428861fb",
   "metadata": {},
   "outputs": [],
   "source": [
    "import pandas as pd\n",
    "import scipy.stats as ss \n",
    "import statsmodels.api as sm \n",
    "import statsmodels.formula.api as smf"
   ]
  },
  {
   "cell_type": "code",
   "execution_count": 2,
   "id": "f489cfa4",
   "metadata": {},
   "outputs": [
    {
     "data": {
      "text/html": [
       "<div>\n",
       "<style scoped>\n",
       "    .dataframe tbody tr th:only-of-type {\n",
       "        vertical-align: middle;\n",
       "    }\n",
       "\n",
       "    .dataframe tbody tr th {\n",
       "        vertical-align: top;\n",
       "    }\n",
       "\n",
       "    .dataframe thead th {\n",
       "        text-align: right;\n",
       "    }\n",
       "</style>\n",
       "<table border=\"1\" class=\"dataframe\">\n",
       "  <thead>\n",
       "    <tr style=\"text-align: right;\">\n",
       "      <th></th>\n",
       "      <th>Class</th>\n",
       "      <th>Score</th>\n",
       "    </tr>\n",
       "  </thead>\n",
       "  <tbody>\n",
       "    <tr>\n",
       "      <th>0</th>\n",
       "      <td>1</td>\n",
       "      <td>76</td>\n",
       "    </tr>\n",
       "    <tr>\n",
       "      <th>1</th>\n",
       "      <td>1</td>\n",
       "      <td>54</td>\n",
       "    </tr>\n",
       "    <tr>\n",
       "      <th>2</th>\n",
       "      <td>1</td>\n",
       "      <td>62</td>\n",
       "    </tr>\n",
       "    <tr>\n",
       "      <th>3</th>\n",
       "      <td>1</td>\n",
       "      <td>46</td>\n",
       "    </tr>\n",
       "    <tr>\n",
       "      <th>4</th>\n",
       "      <td>1</td>\n",
       "      <td>53</td>\n",
       "    </tr>\n",
       "    <tr>\n",
       "      <th>...</th>\n",
       "      <td>...</td>\n",
       "      <td>...</td>\n",
       "    </tr>\n",
       "    <tr>\n",
       "      <th>82</th>\n",
       "      <td>3</td>\n",
       "      <td>57</td>\n",
       "    </tr>\n",
       "    <tr>\n",
       "      <th>83</th>\n",
       "      <td>3</td>\n",
       "      <td>80</td>\n",
       "    </tr>\n",
       "    <tr>\n",
       "      <th>84</th>\n",
       "      <td>3</td>\n",
       "      <td>92</td>\n",
       "    </tr>\n",
       "    <tr>\n",
       "      <th>85</th>\n",
       "      <td>3</td>\n",
       "      <td>41</td>\n",
       "    </tr>\n",
       "    <tr>\n",
       "      <th>86</th>\n",
       "      <td>3</td>\n",
       "      <td>82</td>\n",
       "    </tr>\n",
       "  </tbody>\n",
       "</table>\n",
       "<p>87 rows × 2 columns</p>\n",
       "</div>"
      ],
      "text/plain": [
       "    Class  Score\n",
       "0       1     76\n",
       "1       1     54\n",
       "2       1     62\n",
       "3       1     46\n",
       "4       1     53\n",
       "..    ...    ...\n",
       "82      3     57\n",
       "83      3     80\n",
       "84      3     92\n",
       "85      3     41\n",
       "86      3     82\n",
       "\n",
       "[87 rows x 2 columns]"
      ]
     },
     "metadata": {},
     "output_type": "display_data"
    }
   ],
   "source": [
    "data = \"score_oneway.csv\"\n",
    "df = pd.read_csv(data)\n",
    "display(df)"
   ]
  },
  {
   "cell_type": "code",
   "execution_count": 3,
   "id": "1213f95a",
   "metadata": {},
   "outputs": [
    {
     "name": "stdout",
     "output_type": "stream",
     "text": [
      "[1 2 3]\n"
     ]
    }
   ],
   "source": [
    "print(pd.unique(df[\"Class\"]))"
   ]
  },
  {
   "cell_type": "code",
   "execution_count": 4,
   "id": "320df131",
   "metadata": {},
   "outputs": [],
   "source": [
    "data1 = df[df[\"Class\"]==1][\"Score\"]\n",
    "data2 = df[df[\"Class\"]==2][\"Score\"]\n",
    "data3 = df[df[\"Class\"]==3][\"Score\"]"
   ]
  },
  {
   "cell_type": "code",
   "execution_count": 5,
   "id": "85f7734e",
   "metadata": {},
   "outputs": [
    {
     "name": "stdout",
     "output_type": "stream",
     "text": [
      "0.9554459385671847 0.38878048139735655\n"
     ]
    }
   ],
   "source": [
    "f, p_val = ss.f_oneway(data1, data2, data3)\n",
    "print(f,p_val)"
   ]
  },
  {
   "cell_type": "code",
   "execution_count": 6,
   "id": "9b1badb2",
   "metadata": {},
   "outputs": [
    {
     "name": "stdout",
     "output_type": "stream",
     "text": [
      "                            OLS Regression Results                            \n",
      "==============================================================================\n",
      "Dep. Variable:                  Score   R-squared:                       0.022\n",
      "Model:                            OLS   Adj. R-squared:                 -0.001\n",
      "Method:                 Least Squares   F-statistic:                    0.9554\n",
      "Date:                Mon, 14 Jul 2025   Prob (F-statistic):              0.389\n",
      "Time:                        15:25:30   Log-Likelihood:                -387.05\n",
      "No. Observations:                  87   AIC:                             780.1\n",
      "Df Residuals:                      84   BIC:                             787.5\n",
      "Df Model:                           2                                         \n",
      "Covariance Type:            nonrobust                                         \n",
      "=================================================================================\n",
      "                    coef    std err          t      P>|t|      [0.025      0.975]\n",
      "---------------------------------------------------------------------------------\n",
      "Intercept        60.7931      3.911     15.544      0.000      53.016      68.570\n",
      "C(Class)[T.2]     3.2759      5.531      0.592      0.555      -7.723      14.275\n",
      "C(Class)[T.3]     7.6207      5.531      1.378      0.172      -3.378      18.619\n",
      "==============================================================================\n",
      "Omnibus:                       27.386   Durbin-Watson:                   2.096\n",
      "Prob(Omnibus):                  0.000   Jarque-Bera (JB):                5.239\n",
      "Skew:                           0.028   Prob(JB):                       0.0728\n",
      "Kurtosis:                       1.799   Cond. No.                         3.73\n",
      "==============================================================================\n",
      "\n",
      "Notes:\n",
      "[1] Standard Errors assume that the covariance matrix of the errors is correctly specified.\n"
     ]
    }
   ],
   "source": [
    "#2\n",
    "model = smf.ols(formula='Score ~ C(Class)', data=df)\n",
    "results = model.fit()\n",
    "print(results.summary())"
   ]
  },
  {
   "cell_type": "code",
   "execution_count": 8,
   "id": "a302a2b5",
   "metadata": {},
   "outputs": [
    {
     "name": "stdout",
     "output_type": "stream",
     "text": [
      "                sum_sq    df         F   PR(>F)\n",
      "C(Class)    847.609195   2.0  0.955446  0.38878\n",
      "Residual  37259.655172  84.0       NaN      NaN\n",
      "0.3887804813973472\n"
     ]
    }
   ],
   "source": [
    "table = sm.stats.anova_lm(results, typ=2)\n",
    "print(table)\n",
    "print(table.at['C(Class)','PR(>F)'])"
   ]
  },
  {
   "cell_type": "code",
   "execution_count": 9,
   "id": "410bcbee",
   "metadata": {},
   "outputs": [],
   "source": [
    "#3\n",
    "k = len(pd.unique(df[\"Class\"])) \n",
    "N = df.shape[0]\n",
    "df_between = k - 1\n",
    "df_within = N - k\n",
    "df_total = N - 1"
   ]
  },
  {
   "cell_type": "code",
   "execution_count": 10,
   "id": "e2c501a9",
   "metadata": {},
   "outputs": [],
   "source": [
    "ave_all = df['Score'].mean()\n",
    "\n",
    "n1 = data1.size\n",
    "n2 = data2.size\n",
    "n3 = data3.size\n",
    "c1_ave = data1.mean()\n",
    "c2_ave = data2.mean()\n",
    "c3_ave = data3.mean()"
   ]
  },
  {
   "cell_type": "code",
   "execution_count": 12,
   "id": "dc096952",
   "metadata": {},
   "outputs": [
    {
     "name": "stdout",
     "output_type": "stream",
     "text": [
      "847.609195402297\n",
      "37259.65517241379\n",
      "38107.2643678161\n"
     ]
    }
   ],
   "source": [
    "c1_ssb = n1 * (c1_ave - ave_all)**2\n",
    "c2_ssb = n2 * (c2_ave - ave_all)**2 \n",
    "c3_ssb = n3 * (c3_ave - ave_all)**2\n",
    "ss_between = c1_ssb + c2_ssb + c3_ssb\n",
    "print(ss_between)\n",
    "\n",
    "c1_ssw = sum((data1 - c1_ave)**2)\n",
    "c2_ssw = sum((data2 - c2_ave)**2)\n",
    "c3_ssw = sum((data3 - c3_ave)**2)\n",
    "ss_within =  c1_ssw + c2_ssw + c3_ssw\n",
    "print(ss_within)\n",
    "\n",
    "c1_sst = sum((data1 - ave_all)**2)\n",
    "c2_sst = sum((data2 - ave_all)**2)\n",
    "c3_sst = sum((data3 - ave_all)**2)\n",
    "ss_total = c1_sst + c2_sst + c3_sst\n",
    "print(ss_total)"
   ]
  },
  {
   "cell_type": "code",
   "execution_count": null,
   "id": "4835559f",
   "metadata": {},
   "outputs": [
    {
     "name": "stdout",
     "output_type": "stream",
     "text": [
      "3.1051566079400104\n",
      "F-value: 0.9554459385671826\n",
      "p-value: 0.38878\n"
     ]
    }
   ],
   "source": [
    "mean_squared_between = ss_between / df_between\n",
    "mean_squared_within = ss_within / df_within\n",
    "\n",
    "f_ratio =  mean_squared_between / mean_squared_within\n",
    "\n",
    "print(ss.f.ppf(0.95, df_between, df_within))\n",
    "\n",
    "p_val =  1 - ss.f.cdf(f_ratio, df_between, df_within)\n",
    "\n",
    "print(\"F-value: {}\".format(f_ratio))\n",
    "print(\"p-value: {:.5f}\".format(p_val))"
   ]
  },
  {
   "cell_type": "code",
   "execution_count": null,
   "id": "2e22debe",
   "metadata": {},
   "outputs": [],
   "source": []
  }
 ],
 "metadata": {
  "kernelspec": {
   "display_name": "ds2025",
   "language": "python",
   "name": "python3"
  },
  "language_info": {
   "codemirror_mode": {
    "name": "ipython",
    "version": 3
   },
   "file_extension": ".py",
   "mimetype": "text/x-python",
   "name": "python",
   "nbconvert_exporter": "python",
   "pygments_lexer": "ipython3",
   "version": "3.9.15"
  }
 },
 "nbformat": 4,
 "nbformat_minor": 5
}
