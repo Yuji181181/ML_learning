{
 "cells": [
  {
   "cell_type": "markdown",
   "metadata": {
    "slideshow": {
     "slide_type": "slide"
    }
   },
   "source": [
    "### 課題2\n",
    "\n",
    "ある工場では3つのレーンで同じ製品を製造している．  \n",
    "品質管理のために，各レーンで造られる製品を無作為に20個選び，重さを調べた．\n",
    "なお，標本データの母集団は正規分布に従うとする．\n",
    "レーンによって製品の重さの差があるかを検定せよ．\n",
    "\n",
    "- 検定方法: 3群のデータ，母集団は正規分布に従う -> 一元配置分散分析\n",
    "- 帰無仮説: レーンによって製品の重さの差はない\n",
    "- 対立仮説: レーンによって製品の重さの差がある\n",
    "\n",
    "One factory manufactures the same product in three lanes.\n",
    "For quality control, 20 products made in each lane were randomly selected and weighed. \n",
    "It is assumed that the population of sample data follows a normal distribution.\n",
    "\n",
    "Test if there is a difference in product weight depending on the lane.\n",
    "\n",
    "- Three groups of data, population follows normal distribution-> One-way ANOVA\n",
    "- Null hypothesis: There is no difference in product weight between lanes\n",
    "- Alternative hypothesis: There is a difference in product weight depending on the lane"
   ]
  },
  {
   "cell_type": "code",
   "execution_count": 1,
   "metadata": {
    "slideshow": {
     "slide_type": "fragment"
    }
   },
   "outputs": [],
   "source": [
    "import pandas as pd\n",
    "import scipy.stats as ss \n",
    "import statsmodels.api as sm \n",
    "import statsmodels.formula.api as smf"
   ]
  },
  {
   "cell_type": "markdown",
   "metadata": {
    "slideshow": {
     "slide_type": "slide"
    }
   },
   "source": [
    "##### csvファイルの読み込み Load data into a pandas's dataframe"
   ]
  },
  {
   "cell_type": "code",
   "execution_count": 2,
   "metadata": {
    "slideshow": {
     "slide_type": "fragment"
    }
   },
   "outputs": [
    {
     "data": {
      "text/html": [
       "<div>\n",
       "<style scoped>\n",
       "    .dataframe tbody tr th:only-of-type {\n",
       "        vertical-align: middle;\n",
       "    }\n",
       "\n",
       "    .dataframe tbody tr th {\n",
       "        vertical-align: top;\n",
       "    }\n",
       "\n",
       "    .dataframe thead th {\n",
       "        text-align: right;\n",
       "    }\n",
       "</style>\n",
       "<table border=\"1\" class=\"dataframe\">\n",
       "  <thead>\n",
       "    <tr style=\"text-align: right;\">\n",
       "      <th></th>\n",
       "      <th>lane1</th>\n",
       "      <th>lane2</th>\n",
       "      <th>lane3</th>\n",
       "    </tr>\n",
       "  </thead>\n",
       "  <tbody>\n",
       "    <tr>\n",
       "      <th>0</th>\n",
       "      <td>96.6</td>\n",
       "      <td>86.3</td>\n",
       "      <td>76.0</td>\n",
       "    </tr>\n",
       "    <tr>\n",
       "      <th>1</th>\n",
       "      <td>111.4</td>\n",
       "      <td>82.4</td>\n",
       "      <td>88.5</td>\n",
       "    </tr>\n",
       "    <tr>\n",
       "      <th>2</th>\n",
       "      <td>84.3</td>\n",
       "      <td>61.4</td>\n",
       "      <td>90.1</td>\n",
       "    </tr>\n",
       "    <tr>\n",
       "      <th>3</th>\n",
       "      <td>92.9</td>\n",
       "      <td>82.1</td>\n",
       "      <td>96.1</td>\n",
       "    </tr>\n",
       "    <tr>\n",
       "      <th>4</th>\n",
       "      <td>102.4</td>\n",
       "      <td>85.2</td>\n",
       "      <td>77.0</td>\n",
       "    </tr>\n",
       "  </tbody>\n",
       "</table>\n",
       "</div>"
      ],
      "text/plain": [
       "   lane1  lane2  lane3\n",
       "0   96.6   86.3   76.0\n",
       "1  111.4   82.4   88.5\n",
       "2   84.3   61.4   90.1\n",
       "3   92.9   82.1   96.1\n",
       "4  102.4   85.2   77.0"
      ]
     },
     "metadata": {},
     "output_type": "display_data"
    },
    {
     "data": {
      "text/html": [
       "<div>\n",
       "<style scoped>\n",
       "    .dataframe tbody tr th:only-of-type {\n",
       "        vertical-align: middle;\n",
       "    }\n",
       "\n",
       "    .dataframe tbody tr th {\n",
       "        vertical-align: top;\n",
       "    }\n",
       "\n",
       "    .dataframe thead th {\n",
       "        text-align: right;\n",
       "    }\n",
       "</style>\n",
       "<table border=\"1\" class=\"dataframe\">\n",
       "  <thead>\n",
       "    <tr style=\"text-align: right;\">\n",
       "      <th></th>\n",
       "      <th>lane1</th>\n",
       "      <th>lane2</th>\n",
       "      <th>lane3</th>\n",
       "    </tr>\n",
       "  </thead>\n",
       "  <tbody>\n",
       "    <tr>\n",
       "      <th>15</th>\n",
       "      <td>93.6</td>\n",
       "      <td>75.3</td>\n",
       "      <td>82.4</td>\n",
       "    </tr>\n",
       "    <tr>\n",
       "      <th>16</th>\n",
       "      <td>85.7</td>\n",
       "      <td>98.8</td>\n",
       "      <td>83.0</td>\n",
       "    </tr>\n",
       "    <tr>\n",
       "      <th>17</th>\n",
       "      <td>86.9</td>\n",
       "      <td>94.8</td>\n",
       "      <td>108.2</td>\n",
       "    </tr>\n",
       "    <tr>\n",
       "      <th>18</th>\n",
       "      <td>86.9</td>\n",
       "      <td>96.2</td>\n",
       "      <td>93.2</td>\n",
       "    </tr>\n",
       "    <tr>\n",
       "      <th>19</th>\n",
       "      <td>99.3</td>\n",
       "      <td>92.9</td>\n",
       "      <td>99.8</td>\n",
       "    </tr>\n",
       "  </tbody>\n",
       "</table>\n",
       "</div>"
      ],
      "text/plain": [
       "    lane1  lane2  lane3\n",
       "15   93.6   75.3   82.4\n",
       "16   85.7   98.8   83.0\n",
       "17   86.9   94.8  108.2\n",
       "18   86.9   96.2   93.2\n",
       "19   99.3   92.9   99.8"
      ]
     },
     "metadata": {},
     "output_type": "display_data"
    }
   ],
   "source": [
    "df = pd.read_csv(\"data/weights.csv\")\n",
    "display(df.head())\n",
    "display(df.tail())"
   ]
  },
  {
   "cell_type": "markdown",
   "metadata": {
    "slideshow": {
     "slide_type": "slide"
    }
   },
   "source": [
    "##### 各グループのデータの抽出　Extraction of data for each group"
   ]
  },
  {
   "cell_type": "code",
   "execution_count": 3,
   "metadata": {
    "slideshow": {
     "slide_type": "fragment"
    }
   },
   "outputs": [
    {
     "name": "stdout",
     "output_type": "stream",
     "text": [
      "0      96.6\n",
      "1     111.4\n",
      "2      84.3\n",
      "3      92.9\n",
      "4     102.4\n",
      "5     113.2\n",
      "6     101.7\n",
      "7     103.4\n",
      "8      97.9\n",
      "9      84.2\n",
      "10     92.5\n",
      "11    113.9\n",
      "12     93.3\n",
      "13     89.2\n",
      "14    102.4\n",
      "15     93.6\n",
      "16     85.7\n",
      "17     86.9\n",
      "18     86.9\n",
      "19     99.3\n",
      "0      86.3\n",
      "1      82.4\n",
      "2      61.4\n",
      "3      82.1\n",
      "4      85.2\n",
      "5      99.4\n",
      "6      92.0\n",
      "7      89.5\n",
      "8     103.6\n",
      "9      80.0\n",
      "10    103.9\n",
      "11     86.9\n",
      "12    112.6\n",
      "13     69.9\n",
      "14     96.3\n",
      "15     75.3\n",
      "16     98.8\n",
      "17     94.8\n",
      "18     96.2\n",
      "19     92.9\n",
      "0      76.0\n",
      "1      88.5\n",
      "2      90.1\n",
      "3      96.1\n",
      "4      77.0\n",
      "5      81.1\n",
      "6      94.7\n",
      "7      84.8\n",
      "8      96.0\n",
      "9      86.4\n",
      "10     93.6\n",
      "11     93.2\n",
      "12     87.1\n",
      "13     96.2\n",
      "14     80.4\n",
      "15     82.4\n",
      "16     83.0\n",
      "17    108.2\n",
      "18     93.2\n",
      "19     99.8\n",
      "dtype: float64\n"
     ]
    }
   ],
   "source": [
    "data1 = df[\"lane1\"]\n",
    "data2 = df[\"lane2\"]\n",
    "data3 = df[\"lane3\"]\n",
    "data_all = pd.concat([data1,data2,data3])\n",
    "\n",
    "print(data_all)"
   ]
  },
  {
   "cell_type": "markdown",
   "metadata": {
    "slideshow": {
     "slide_type": "slide"
    }
   },
   "source": [
    "### 方法1: 分散分析表から求める方法  How to obtain from the analysis of variance table\n",
    "\n",
    "\n",
    "分散分析表\n",
    "<table border=\"\" cellpadding=\"5\" width=\"100%\">\n",
    "<tbody>\n",
    "<tr valign=\"top\">\n",
    "<td align=\"left\" width=\"8%\"><strong>Source</strong></td>\n",
    "<td align=\"center\" width=\"22%\"><strong>SS</strong></td>\n",
    "<td align=\"center\" width=\"19%\"><strong>df</strong></td>\n",
    "<td align=\"center\" width=\"23%\"><strong>MS</strong></td>\n",
    "<td align=\"center\" width=\"25%\"><strong>F</strong></td>\n",
    "</tr>\n",
    "<tr valign=\"top\">\n",
    "<td align=\"center\"><strong>Between</strong></td>\n",
    "<td align=\"left\">$SS_{between} = \\sum_{j=1}^{k}n_j(\\bar{x}_{j} - \\bar{x})^2$</td>\n",
    "<td align=\"left\">$df_{between} = k - 1$</td>\n",
    "<td align=\"left\">$MSG = \\frac{SS_{between}}{df_{between}}$</td>\n",
    "<td align=\"left\">$ F = \\frac{MSG}{MSE} $</td>\n",
    "</tr>\n",
    "<tr valign=\"top\">\n",
    "<td align=\"center\"><strong>Within</strong></td>\n",
    "<td align=\"left\">$SS_{within} = \\sum_{i=1}^{n_j}\\sum_{j=1}^{k}(x_{ij} - \\bar{x}_{j})^2$</td>\n",
    "<td align=\"left\">$df_{within} = N - k$</td>\n",
    "<td align=\"left\">$MSE = \\frac{SS_{within}}{df_{within}}$</td>\n",
    "<td align=\"center\"></td>\n",
    "</tr>\n",
    "<tr valign=\"top\">\n",
    "<td align=\"center\"><strong>Total</strong></td>\n",
    "<td align=\"left\">$SS_{total} = \\sum_{i=1}^{n_j}\\sum_{j=1}^{k}(x_{ij} - \\bar{x})^2$</td>\n",
    "<td align=\"left\">$df_{total} = N - 1$</td>\n",
    "<td align=\"center\"></td>\n",
    "<td align=\"center\"></td>\n",
    "</tr>\n",
    "</tbody></table>\n"
   ]
  },
  {
   "cell_type": "markdown",
   "metadata": {
    "slideshow": {
     "slide_type": "slide"
    }
   },
   "source": [
    "##### 自由度 Degree of freedom"
   ]
  },
  {
   "cell_type": "code",
   "execution_count": 4,
   "metadata": {
    "slideshow": {
     "slide_type": "fragment"
    }
   },
   "outputs": [],
   "source": [
    "# 水準数 number of levels\n",
    "k = 3\n",
    "# データの総数　total numbers of data\n",
    "N = data_all.shape[0]\n",
    "# degree of freedom between\n",
    "df_between = k - 1\n",
    "# degree of freedom within\n",
    "df_within = N - k\n",
    "# degree of freedom in total\n",
    "df_total = N - 1"
   ]
  },
  {
   "cell_type": "markdown",
   "metadata": {
    "slideshow": {
     "slide_type": "slide"
    }
   },
   "source": [
    "##### 水準間の平方和 Sum of squares between levels"
   ]
  },
  {
   "cell_type": "code",
   "execution_count": 5,
   "metadata": {
    "slideshow": {
     "slide_type": "fragment"
    }
   },
   "outputs": [
    {
     "name": "stdout",
     "output_type": "stream",
     "text": [
      "ss_between:  682.1823333333352\n"
     ]
    }
   ],
   "source": [
    "ave_all = data_all.mean() # x_bar: 全てのweightの平均, means of all weights\n",
    "\n",
    "n1 = len(data1) # \"ctrl\"のサンプル数 number of samples of \"ctrl\"\n",
    "n2 = len(data2) # \"trt1\"のサンプル数 number of samples of \"trt1\"\n",
    "n3 = len(data3) # \"trt2\"のサンプル数 number of samples of \"trt2\"\n",
    "ctrl_ave = data1.mean() # \"ctrl\"の平均値 mean of \"ctrl\"\n",
    "trt1_ave = data2.mean() # \"trt1\"の平均値 mean of \"trt1\"\n",
    "trt2_ave = data3.mean() # \"trt2\"の平均値 mean of \"trt2\"\n",
    "\n",
    "# sum of sum of squares between groups: ss_between\n",
    "ctrl_ssb = n1 * (ctrl_ave - ave_all)**2\n",
    "trt1_ssb = n2 * (trt1_ave - ave_all)**2 \n",
    "trt2_ssb = n3 * (trt2_ave - ave_all)**2\n",
    "ss_between = ctrl_ssb + trt1_ssb + trt2_ssb\n",
    "print(\"ss_between: \", ss_between)"
   ]
  },
  {
   "cell_type": "markdown",
   "metadata": {},
   "source": [
    "##### 水準内の平方和 Sum of squares within levels"
   ]
  },
  {
   "cell_type": "code",
   "execution_count": 6,
   "metadata": {},
   "outputs": [
    {
     "name": "stdout",
     "output_type": "stream",
     "text": [
      "ss_within:  5808.021000000001\n"
     ]
    }
   ],
   "source": [
    "# sum of sum of squares within levels: ss_within\n",
    "# SS_within:\n",
    "ctrl_ssw = sum((data1 - ctrl_ave)**2)\n",
    "trt1_ssw = sum((data2 - trt1_ave)**2)\n",
    "trt2_ssw = sum((data3 - trt2_ave)**2)\n",
    "ss_within =  ctrl_ssw + trt1_ssw + trt2_ssw\n",
    "print(\"ss_within: \", ss_within)"
   ]
  },
  {
   "cell_type": "markdown",
   "metadata": {},
   "source": [
    "##### 総平方和  Sum of squares for total"
   ]
  },
  {
   "cell_type": "code",
   "execution_count": 7,
   "metadata": {},
   "outputs": [
    {
     "name": "stdout",
     "output_type": "stream",
     "text": [
      "ss_total:  6490.203333333333\n"
     ]
    }
   ],
   "source": [
    "# sum of sum of squares for total: ss_total\n",
    "ctrl_sst = sum((data1 - ave_all)**2)\n",
    "trt1_sst = sum((data2 - ave_all)**2)\n",
    "trt2_sst = sum((data3 - ave_all)**2)\n",
    "ss_total = ctrl_sst + trt1_sst + trt2_sst\n",
    "print(\"ss_total: \", ss_total)"
   ]
  },
  {
   "cell_type": "markdown",
   "metadata": {},
   "source": [
    "##### F検定  F-statistic"
   ]
  },
  {
   "cell_type": "code",
   "execution_count": 8,
   "metadata": {},
   "outputs": [
    {
     "name": "stdout",
     "output_type": "stream",
     "text": [
      "3.1588427192606465\n",
      "F-value: 3.34747\n",
      "p-value: 0.04221\n",
      "Reject H0 (帰無仮説を棄却)\n"
     ]
    }
   ],
   "source": [
    "mean_squared_between = ss_between / df_between\n",
    "mean_squared_within = ss_within / df_within\n",
    "\n",
    "# F値 F-value\n",
    "f_ratio =  mean_squared_between / mean_squared_within\n",
    "\n",
    "# 棄却域(F分布の上側5%点) rejection region (the upper 5-percentile of F-distribution)\n",
    "print(ss.f.ppf(0.95, df_between, df_within))\n",
    "\n",
    "# p値 p-value\n",
    "p_val =  1 - ss.f.cdf(f_ratio, df_between, df_within)\n",
    "\n",
    "print(\"F-value: {:.5f}\".format(f_ratio))\n",
    "print(\"p-value: {:.5f}\".format(p_val))\n",
    "\n",
    "if p_val < 0.05:\n",
    "    print(\"Reject H0 (帰無仮説を棄却)\")\n",
    "else:\n",
    "    print(\"Retain H0 (帰無仮説を棄却できない)\")"
   ]
  },
  {
   "cell_type": "markdown",
   "metadata": {},
   "source": [
    "### 方法2: statsmodelsを用いた方法 Method using stats models\n",
    "\n",
    "Step 1. statsmodels.formula.apiを用いて回帰分析を行う  Construct a regression model using statsmodels.formula.api  \n",
    "Step 2. 回帰分析の結果に基づいて一元配置分散分析を行う  Perform one-way ANOVA based on the results of regression analysis"
   ]
  },
  {
   "cell_type": "markdown",
   "metadata": {},
   "source": [
    "### 方法3: scipyのf_oneway()関数 scipy's f_oneway() function"
   ]
  },
  {
   "cell_type": "code",
   "execution_count": 9,
   "metadata": {},
   "outputs": [
    {
     "name": "stdout",
     "output_type": "stream",
     "text": [
      "F-value: 3.34747\n",
      "p-value: 0.04221\n",
      "Reject H0 (帰無仮説を棄却)\n"
     ]
    }
   ],
   "source": [
    "f, p_val = ss.f_oneway(data1, data2, data3)\n",
    "print(\"F-value: {:.5f}\".format(f))\n",
    "print(\"p-value: {:.5f}\".format(p_val))\n",
    "\n",
    "if p_val < 0.05:\n",
    "    print(\"Reject H0 (帰無仮説を棄却)\")\n",
    "else:\n",
    "    print(\"Retain H0 (帰無仮説を棄却できない)\")"
   ]
  },
  {
   "cell_type": "markdown",
   "metadata": {},
   "source": [
    "### 解釈 Interpretation\n",
    "\n",
    "p値が有意水準0.05よりも小さいことから帰無仮説が棄却される．  \n",
    "つまり，レーンによって製品の重さの差があるといえる．\n",
    "\n",
    "The null hypothesis is rejected because the p-value is less than the significance level of 0.05.\n",
    "Therefore, it can be said that there is a difference in the weight of the product depending on the lane."
   ]
  },
  {
   "cell_type": "markdown",
   "metadata": {
    "slideshow": {
     "slide_type": "slide"
    }
   },
   "source": [
    "#### 効果量(Effective size)"
   ]
  },
  {
   "cell_type": "code",
   "execution_count": 10,
   "metadata": {},
   "outputs": [
    {
     "name": "stdout",
     "output_type": "stream",
     "text": [
      "eta squared: 0.10511\n",
      "omega squared: 0.07257\n"
     ]
    }
   ],
   "source": [
    "# eta_squared (somewhat biased)\n",
    "eta_squared = ss_between / ss_total\n",
    "# omega_squared\n",
    "omega_squared = (ss_between - (df_between * mean_squared_within)) / (ss_total + mean_squared_within)\n",
    "print(\"eta squared: {:.5f}\".format(eta_squared))\n",
    "print(\"omega squared: {:.5f}\".format(omega_squared))"
   ]
  },
  {
   "cell_type": "code",
   "execution_count": null,
   "metadata": {},
   "outputs": [],
   "source": []
  }
 ],
 "metadata": {
  "celltoolbar": "Slideshow",
  "kernelspec": {
   "display_name": "Python 3 (ipykernel)",
   "language": "python",
   "name": "python3"
  },
  "language_info": {
   "codemirror_mode": {
    "name": "ipython",
    "version": 3
   },
   "file_extension": ".py",
   "mimetype": "text/x-python",
   "name": "python",
   "nbconvert_exporter": "python",
   "pygments_lexer": "ipython3",
   "version": "3.9.15"
  }
 },
 "nbformat": 4,
 "nbformat_minor": 4
}
