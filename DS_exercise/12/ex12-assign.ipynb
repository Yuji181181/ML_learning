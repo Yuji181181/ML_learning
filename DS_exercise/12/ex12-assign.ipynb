{
 "cells": [
  {
   "cell_type": "code",
   "execution_count": 10,
   "id": "2cd2d2ca-1766-4fb3-be8e-a1b8a14d083a",
   "metadata": {},
   "outputs": [],
   "source": [
    "import pandas as pd\n",
    "import scipy.stats as ss\n",
    "from scipy.stats import binomtest"
   ]
  },
  {
   "cell_type": "code",
   "execution_count": 11,
   "id": "8a4e27ba",
   "metadata": {},
   "outputs": [],
   "source": [
    "data = \"spiders.csv\"\n",
    "df = pd.read_csv(data, skiprows=12)"
   ]
  },
  {
   "cell_type": "code",
   "execution_count": 12,
   "id": "5711fc45",
   "metadata": {},
   "outputs": [
    {
     "name": "stdout",
     "output_type": "stream",
     "text": [
      "(15, 2)\n",
      "<class 'pandas.core.frame.DataFrame'>\n",
      "RangeIndex: 15 entries, 0 to 14\n",
      "Data columns (total 2 columns):\n",
      " #   Column  Non-Null Count  Dtype\n",
      "---  ------  --------------  -----\n",
      " 0   id      15 non-null     int64\n",
      " 1   gender  15 non-null     int64\n",
      "dtypes: int64(2)\n",
      "memory usage: 368.0 bytes\n",
      "None\n"
     ]
    },
    {
     "data": {
      "text/html": [
       "<div>\n",
       "<style scoped>\n",
       "    .dataframe tbody tr th:only-of-type {\n",
       "        vertical-align: middle;\n",
       "    }\n",
       "\n",
       "    .dataframe tbody tr th {\n",
       "        vertical-align: top;\n",
       "    }\n",
       "\n",
       "    .dataframe thead th {\n",
       "        text-align: right;\n",
       "    }\n",
       "</style>\n",
       "<table border=\"1\" class=\"dataframe\">\n",
       "  <thead>\n",
       "    <tr style=\"text-align: right;\">\n",
       "      <th></th>\n",
       "      <th>id</th>\n",
       "      <th>gender</th>\n",
       "    </tr>\n",
       "  </thead>\n",
       "  <tbody>\n",
       "    <tr>\n",
       "      <th>0</th>\n",
       "      <td>1</td>\n",
       "      <td>1</td>\n",
       "    </tr>\n",
       "    <tr>\n",
       "      <th>1</th>\n",
       "      <td>2</td>\n",
       "      <td>1</td>\n",
       "    </tr>\n",
       "    <tr>\n",
       "      <th>2</th>\n",
       "      <td>3</td>\n",
       "      <td>1</td>\n",
       "    </tr>\n",
       "    <tr>\n",
       "      <th>3</th>\n",
       "      <td>4</td>\n",
       "      <td>0</td>\n",
       "    </tr>\n",
       "    <tr>\n",
       "      <th>4</th>\n",
       "      <td>5</td>\n",
       "      <td>0</td>\n",
       "    </tr>\n",
       "  </tbody>\n",
       "</table>\n",
       "</div>"
      ],
      "text/plain": [
       "   id  gender\n",
       "0   1       1\n",
       "1   2       1\n",
       "2   3       1\n",
       "3   4       0\n",
       "4   5       0"
      ]
     },
     "metadata": {},
     "output_type": "display_data"
    }
   ],
   "source": [
    "print(df.shape)\n",
    "print(df.info())\n",
    "display(df.head())"
   ]
  },
  {
   "cell_type": "code",
   "execution_count": 13,
   "id": "d1a06e5d-d634-4962-a58b-24f9ec74176a",
   "metadata": {},
   "outputs": [
    {
     "name": "stdout",
     "output_type": "stream",
     "text": [
      "7 15\n",
      "0.4666666666666667\n",
      "0.017299838364124298\n",
      "0.017\n"
     ]
    }
   ],
   "source": [
    "n_female = len(df[df['gender'] == 0])\n",
    "n_total = df.shape[0]\n",
    "\n",
    "print(n_female, n_total)\n",
    "print(n_female/n_total)\n",
    "\n",
    "\n",
    "result = binomtest(n_female, n_total, 0.75)\n",
    "p_val=result.pvalue\n",
    "print(p_val)\n",
    "print(\"{:.3f}\".format(p_val))"
   ]
  },
  {
   "cell_type": "code",
   "execution_count": 17,
   "id": "c84bf9bd-107e-4f57-9c2f-3c9c6d49d606",
   "metadata": {},
   "outputs": [],
   "source": [
    "data2 = \"design.csv\"\n",
    "df2 = pd.read_csv(data2)\n"
   ]
  },
  {
   "cell_type": "code",
   "execution_count": 18,
   "id": "2e52afe0",
   "metadata": {},
   "outputs": [
    {
     "name": "stdout",
     "output_type": "stream",
     "text": [
      "(138, 3)\n",
      "<class 'pandas.core.frame.DataFrame'>\n",
      "RangeIndex: 138 entries, 0 to 137\n",
      "Data columns (total 3 columns):\n",
      " #   Column  Non-Null Count  Dtype \n",
      "---  ------  --------------  ----- \n",
      " 0   id      138 non-null    int64 \n",
      " 1   gender  138 non-null    object\n",
      " 2   like    138 non-null    object\n",
      "dtypes: int64(1), object(2)\n",
      "memory usage: 3.4+ KB\n",
      "None\n"
     ]
    },
    {
     "data": {
      "text/html": [
       "<div>\n",
       "<style scoped>\n",
       "    .dataframe tbody tr th:only-of-type {\n",
       "        vertical-align: middle;\n",
       "    }\n",
       "\n",
       "    .dataframe tbody tr th {\n",
       "        vertical-align: top;\n",
       "    }\n",
       "\n",
       "    .dataframe thead th {\n",
       "        text-align: right;\n",
       "    }\n",
       "</style>\n",
       "<table border=\"1\" class=\"dataframe\">\n",
       "  <thead>\n",
       "    <tr style=\"text-align: right;\">\n",
       "      <th></th>\n",
       "      <th>id</th>\n",
       "      <th>gender</th>\n",
       "      <th>like</th>\n",
       "    </tr>\n",
       "  </thead>\n",
       "  <tbody>\n",
       "    <tr>\n",
       "      <th>0</th>\n",
       "      <td>1</td>\n",
       "      <td>female</td>\n",
       "      <td>like</td>\n",
       "    </tr>\n",
       "    <tr>\n",
       "      <th>1</th>\n",
       "      <td>2</td>\n",
       "      <td>female</td>\n",
       "      <td>like</td>\n",
       "    </tr>\n",
       "    <tr>\n",
       "      <th>2</th>\n",
       "      <td>3</td>\n",
       "      <td>female</td>\n",
       "      <td>dislike</td>\n",
       "    </tr>\n",
       "    <tr>\n",
       "      <th>3</th>\n",
       "      <td>4</td>\n",
       "      <td>male</td>\n",
       "      <td>like</td>\n",
       "    </tr>\n",
       "    <tr>\n",
       "      <th>4</th>\n",
       "      <td>5</td>\n",
       "      <td>male</td>\n",
       "      <td>like</td>\n",
       "    </tr>\n",
       "  </tbody>\n",
       "</table>\n",
       "</div>"
      ],
      "text/plain": [
       "   id  gender     like\n",
       "0   1  female     like\n",
       "1   2  female     like\n",
       "2   3  female  dislike\n",
       "3   4    male     like\n",
       "4   5    male     like"
      ]
     },
     "metadata": {},
     "output_type": "display_data"
    }
   ],
   "source": [
    "print(df2.shape)\n",
    "print(df2.info())\n",
    "display(df2.head())"
   ]
  },
  {
   "cell_type": "code",
   "execution_count": 21,
   "id": "70000136-bf5a-4679-9e26-23d72a172646",
   "metadata": {},
   "outputs": [
    {
     "data": {
      "text/html": [
       "<div>\n",
       "<style scoped>\n",
       "    .dataframe tbody tr th:only-of-type {\n",
       "        vertical-align: middle;\n",
       "    }\n",
       "\n",
       "    .dataframe tbody tr th {\n",
       "        vertical-align: top;\n",
       "    }\n",
       "\n",
       "    .dataframe thead th {\n",
       "        text-align: right;\n",
       "    }\n",
       "</style>\n",
       "<table border=\"1\" class=\"dataframe\">\n",
       "  <thead>\n",
       "    <tr style=\"text-align: right;\">\n",
       "      <th>like</th>\n",
       "      <th>dislike</th>\n",
       "      <th>like</th>\n",
       "    </tr>\n",
       "    <tr>\n",
       "      <th>gender</th>\n",
       "      <th></th>\n",
       "      <th></th>\n",
       "    </tr>\n",
       "  </thead>\n",
       "  <tbody>\n",
       "    <tr>\n",
       "      <th>female</th>\n",
       "      <td>19</td>\n",
       "      <td>50</td>\n",
       "    </tr>\n",
       "    <tr>\n",
       "      <th>male</th>\n",
       "      <td>38</td>\n",
       "      <td>31</td>\n",
       "    </tr>\n",
       "  </tbody>\n",
       "</table>\n",
       "</div>"
      ],
      "text/plain": [
       "like    dislike  like\n",
       "gender               \n",
       "female       19    50\n",
       "male         38    31"
      ]
     },
     "metadata": {},
     "output_type": "display_data"
    }
   ],
   "source": [
    "dfX = pd.crosstab(df2[\"gender\"],df2[\"like\"])\n",
    "display(dfX)"
   ]
  },
  {
   "cell_type": "code",
   "execution_count": 22,
   "id": "dc114db6-9b24-4f2d-b42b-d09f350026de",
   "metadata": {},
   "outputs": [
    {
     "name": "stdout",
     "output_type": "stream",
     "text": [
      "0.0018585822782402979\n"
     ]
    }
   ],
   "source": [
    "chisq, p_val, dof, expected = ss.chi2_contingency(dfX)\n",
    "print(p_val)"
   ]
  },
  {
   "cell_type": "code",
   "execution_count": null,
   "id": "0d7ce965-413c-4766-bbe6-0aae761b9203",
   "metadata": {},
   "outputs": [],
   "source": [
    "# 性別とデザインの好みは関係があると言える(男が好む割合と女が好む割合は異なると言える)"
   ]
  },
  {
   "cell_type": "code",
   "execution_count": null,
   "id": "ebcce93c-76da-4633-99f1-e52c129096c8",
   "metadata": {},
   "outputs": [],
   "source": [
    "#3."
   ]
  },
  {
   "cell_type": "code",
   "execution_count": 23,
   "id": "ed8177d8-f05a-48e6-b7c8-fb9c5d8225ef",
   "metadata": {},
   "outputs": [
    {
     "name": "stdout",
     "output_type": "stream",
     "text": [
      "0.000\n"
     ]
    }
   ],
   "source": [
    "num = [732, 529, 602, 711, 683]\n",
    "\n",
    "chisq, p_val = ss.chisquare(num)\n",
    "\n",
    "print(\"{:.3f}\".format(p_val))"
   ]
  },
  {
   "cell_type": "code",
   "execution_count": null,
   "id": "515599c6-0570-43cc-b136-d657b7cb5b1a",
   "metadata": {},
   "outputs": [],
   "source": [
    "# 5種類のビールが好まれる割合は異なるといえる"
   ]
  },
  {
   "cell_type": "code",
   "execution_count": null,
   "id": "7b2647cc-7282-4c8e-b303-b1b298f6cbcf",
   "metadata": {},
   "outputs": [],
   "source": [
    "#4."
   ]
  },
  {
   "cell_type": "code",
   "execution_count": 25,
   "id": "da2fe10c-c646-4e23-add4-ac9c78307257",
   "metadata": {},
   "outputs": [
    {
     "name": "stdout",
     "output_type": "stream",
     "text": [
      "0.033\n"
     ]
    }
   ],
   "source": [
    "data3 = [[10,6],[3,11]]\n",
    "\n",
    "oddsratio, p_val = ss.fisher_exact(data3)\n",
    "\n",
    "print(\"{:.3f}\".format(p_val))"
   ]
  },
  {
   "cell_type": "code",
   "execution_count": null,
   "id": "c9823ed2-c791-4c2a-bd0b-59d80280381c",
   "metadata": {},
   "outputs": [],
   "source": [
    "\n",
    "# 薬剤と病が治癒したことに関連があるといえる"
   ]
  },
  {
   "cell_type": "code",
   "execution_count": null,
   "id": "2ee878d3-074f-4df5-85e9-f4c306ac3c4f",
   "metadata": {},
   "outputs": [],
   "source": []
  }
 ],
 "metadata": {
  "kernelspec": {
   "display_name": "ds2025",
   "language": "python",
   "name": "python3"
  },
  "language_info": {
   "codemirror_mode": {
    "name": "ipython",
    "version": 3
   },
   "file_extension": ".py",
   "mimetype": "text/x-python",
   "name": "python",
   "nbconvert_exporter": "python",
   "pygments_lexer": "ipython3",
   "version": "3.9.15"
  }
 },
 "nbformat": 4,
 "nbformat_minor": 5
}
