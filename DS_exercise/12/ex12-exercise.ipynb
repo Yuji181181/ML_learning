{
 "cells": [
  {
   "cell_type": "code",
   "execution_count": 1,
   "id": "83008b2d-acf8-42fc-9ff5-b1dbc22e5149",
   "metadata": {},
   "outputs": [],
   "source": [
    "import numpy as np\n",
    "import pandas as pd\n",
    "import scipy.stats as ss"
   ]
  },
  {
   "cell_type": "code",
   "execution_count": 4,
   "id": "492374a9-15bb-4aa1-8c6b-ef10e08c3c94",
   "metadata": {
    "scrolled": true
   },
   "outputs": [
    {
     "name": "stdout",
     "output_type": "stream",
     "text": [
      "0.6716706995935668\n",
      "Retain H0\n"
     ]
    }
   ],
   "source": [
    "result = ss.binomtest(44, 250, 1/6)\n",
    "p_val=result.pvalue\n",
    "print(_val)\n",
    "\n",
    "if p_val < 0.05:\n",
    "    print(\"Reject H0\")\n",
    "else:\n",
    "    print(\"Retain H0\")"
   ]
  },
  {
   "cell_type": "code",
   "execution_count": null,
   "id": "bec761cd-5009-49ff-8453-8349eba8a171",
   "metadata": {},
   "outputs": [],
   "source": [
    "#2."
   ]
  },
  {
   "cell_type": "code",
   "execution_count": 6,
   "id": "1e7f5d61-9fa3-41a7-9cd7-63ca9fd1f208",
   "metadata": {},
   "outputs": [
    {
     "data": {
      "text/html": [
       "<div>\n",
       "<style scoped>\n",
       "    .dataframe tbody tr th:only-of-type {\n",
       "        vertical-align: middle;\n",
       "    }\n",
       "\n",
       "    .dataframe tbody tr th {\n",
       "        vertical-align: top;\n",
       "    }\n",
       "\n",
       "    .dataframe thead th {\n",
       "        text-align: right;\n",
       "    }\n",
       "</style>\n",
       "<table border=\"1\" class=\"dataframe\">\n",
       "  <thead>\n",
       "    <tr style=\"text-align: right;\">\n",
       "      <th></th>\n",
       "      <th>shift</th>\n",
       "      <th>Perfect</th>\n",
       "      <th>Satisfactory</th>\n",
       "      <th>Defective</th>\n",
       "    </tr>\n",
       "  </thead>\n",
       "  <tbody>\n",
       "    <tr>\n",
       "      <th>0</th>\n",
       "      <td>shift1</td>\n",
       "      <td>106</td>\n",
       "      <td>124</td>\n",
       "      <td>6</td>\n",
       "    </tr>\n",
       "    <tr>\n",
       "      <th>1</th>\n",
       "      <td>shift2</td>\n",
       "      <td>67</td>\n",
       "      <td>85</td>\n",
       "      <td>7</td>\n",
       "    </tr>\n",
       "    <tr>\n",
       "      <th>2</th>\n",
       "      <td>shift3</td>\n",
       "      <td>37</td>\n",
       "      <td>72</td>\n",
       "      <td>5</td>\n",
       "    </tr>\n",
       "  </tbody>\n",
       "</table>\n",
       "</div>"
      ],
      "text/plain": [
       "    shift  Perfect  Satisfactory  Defective\n",
       "0  shift1      106           124          6\n",
       "1  shift2       67            85          7\n",
       "2  shift3       37            72          5"
      ]
     },
     "metadata": {},
     "output_type": "display_data"
    },
    {
     "data": {
      "text/html": [
       "<div>\n",
       "<style scoped>\n",
       "    .dataframe tbody tr th:only-of-type {\n",
       "        vertical-align: middle;\n",
       "    }\n",
       "\n",
       "    .dataframe tbody tr th {\n",
       "        vertical-align: top;\n",
       "    }\n",
       "\n",
       "    .dataframe thead th {\n",
       "        text-align: right;\n",
       "    }\n",
       "</style>\n",
       "<table border=\"1\" class=\"dataframe\">\n",
       "  <thead>\n",
       "    <tr style=\"text-align: right;\">\n",
       "      <th></th>\n",
       "      <th>Perfect</th>\n",
       "      <th>Satisfactory</th>\n",
       "      <th>Defective</th>\n",
       "    </tr>\n",
       "  </thead>\n",
       "  <tbody>\n",
       "    <tr>\n",
       "      <th>0</th>\n",
       "      <td>106</td>\n",
       "      <td>124</td>\n",
       "      <td>6</td>\n",
       "    </tr>\n",
       "    <tr>\n",
       "      <th>1</th>\n",
       "      <td>67</td>\n",
       "      <td>85</td>\n",
       "      <td>7</td>\n",
       "    </tr>\n",
       "    <tr>\n",
       "      <th>2</th>\n",
       "      <td>37</td>\n",
       "      <td>72</td>\n",
       "      <td>5</td>\n",
       "    </tr>\n",
       "  </tbody>\n",
       "</table>\n",
       "</div>"
      ],
      "text/plain": [
       "   Perfect  Satisfactory  Defective\n",
       "0      106           124          6\n",
       "1       67            85          7\n",
       "2       37            72          5"
      ]
     },
     "metadata": {},
     "output_type": "display_data"
    },
    {
     "name": "stdout",
     "output_type": "stream",
     "text": [
      "5.861947681249834 0.20969804816985732\n",
      "Retain H0\n"
     ]
    }
   ],
   "source": [
    "df = pd.read_csv(\"data/prob2.csv\", sep=\",\")\n",
    "display(df)\n",
    "df2 = df.drop(columns=\"shift\") #shift列を削除  Remove shift column\n",
    "#df2 = df.loc[:,'Perfect':] # Perfect列以降を抽出でも良い\n",
    "#df2 = pd.read_csv(\"data/prob2.csv\", sep=\",\",　index_col=0) # 0列目をインデックスに指定しても良い\n",
    "display(df2)\n",
    "chi2, p, dof, expected = ss.chi2_contingency(df2) # 独立性の検定 Test of independence\n",
    "print(chi2, p)\n",
    "\n",
    "if p < 0.05:\n",
    "    print(\"Reject H0\")\n",
    "else:\n",
    "    print(\"Retain H0\")"
   ]
  },
  {
   "cell_type": "code",
   "execution_count": null,
   "id": "121a8ff9-b5c4-4329-ac9a-0bdcccd8a49a",
   "metadata": {},
   "outputs": [],
   "source": [
    "#3."
   ]
  },
  {
   "cell_type": "code",
   "execution_count": 7,
   "id": "68eed703-7efc-42f4-975c-d0a4ffa31051",
   "metadata": {},
   "outputs": [
    {
     "name": "stdout",
     "output_type": "stream",
     "text": [
      "15.218250950570344 0.018625471379884167\n",
      "Reject H0\n"
     ]
    }
   ],
   "source": [
    "data = [183, 168, 171, 169, 190, 224, 210]\n",
    "\n",
    "chisq, p_val = ss.chisquare(data) # 全てのカテゴリが同じ度数である場合はf_expの引数は省略\n",
    "\n",
    "print(chisq, p_val)\n",
    "\n",
    "if p_val < 0.05:\n",
    "    print(\"Reject H0\")\n",
    "else:\n",
    "    print(\"Retain H0\")"
   ]
  },
  {
   "cell_type": "code",
   "execution_count": null,
   "id": "0eb5eb69-88cf-4777-857a-e358cee3d35d",
   "metadata": {},
   "outputs": [],
   "source": [
    "#4."
   ]
  },
  {
   "cell_type": "code",
   "execution_count": 8,
   "id": "55fb79eb-4f0a-4bdc-9b1a-9c0986869679",
   "metadata": {},
   "outputs": [
    {
     "name": "stdout",
     "output_type": "stream",
     "text": [
      "0.06666666666666667 0.012278137799742324\n",
      "Reject H0\n"
     ]
    }
   ],
   "source": [
    "data = [[2, 9],[10, 3]]\n",
    "\n",
    "oddsratio, p_val = ss.fisher_exact(data)\n",
    "print(oddsratio, p_val)\n",
    "\n",
    "if p_val < 0.05:\n",
    "    print(\"Reject H0\")\n",
    "else:\n",
    "    print(\"Retain H0\")"
   ]
  }
 ],
 "metadata": {
  "kernelspec": {
   "display_name": "Python 3 (ipykernel)",
   "language": "python",
   "name": "python3"
  },
  "language_info": {
   "codemirror_mode": {
    "name": "ipython",
    "version": 3
   },
   "file_extension": ".py",
   "mimetype": "text/x-python",
   "name": "python",
   "nbconvert_exporter": "python",
   "pygments_lexer": "ipython3",
   "version": "3.9.15"
  }
 },
 "nbformat": 4,
 "nbformat_minor": 5
}
