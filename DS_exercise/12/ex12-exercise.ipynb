{
 "cells": [
  {
   "cell_type": "code",
   "execution_count": 26,
   "id": "83008b2d-acf8-42fc-9ff5-b1dbc22e5149",
   "metadata": {},
   "outputs": [],
   "source": [
    "import numpy as np\n",
    "import pandas as pd\n",
    "import scipy.stats as ss"
   ]
  },
  {
   "cell_type": "code",
   "execution_count": 27,
   "id": "492374a9-15bb-4aa1-8c6b-ef10e08c3c94",
   "metadata": {
    "scrolled": true
   },
   "outputs": [
    {
     "name": "stdout",
     "output_type": "stream",
     "text": [
      "0.6716706995935672\n"
     ]
    }
   ],
   "source": [
    "result = ss.binomtest(44, 250, 1/6)\n",
    "p_val=result.pvalue\n",
    "print(p_val)"
   ]
  },
  {
   "cell_type": "code",
   "execution_count": 28,
   "id": "dafa462c",
   "metadata": {},
   "outputs": [],
   "source": [
    "data = \"prob2.csv\"\n",
    "df = pd.read_csv(data)\n",
    "df2 = df.drop(columns=\"shift\") "
   ]
  },
  {
   "cell_type": "code",
   "execution_count": 29,
   "id": "fb299992",
   "metadata": {},
   "outputs": [
    {
     "name": "stdout",
     "output_type": "stream",
     "text": [
      "(3, 4)\n",
      "<class 'pandas.core.frame.DataFrame'>\n",
      "RangeIndex: 3 entries, 0 to 2\n",
      "Data columns (total 4 columns):\n",
      " #   Column        Non-Null Count  Dtype \n",
      "---  ------        --------------  ----- \n",
      " 0   shift         3 non-null      object\n",
      " 1   Perfect       3 non-null      int64 \n",
      " 2   Satisfactory  3 non-null      int64 \n",
      " 3   Defective     3 non-null      int64 \n",
      "dtypes: int64(3), object(1)\n",
      "memory usage: 224.0+ bytes\n",
      "None\n"
     ]
    },
    {
     "data": {
      "text/html": [
       "<div>\n",
       "<style scoped>\n",
       "    .dataframe tbody tr th:only-of-type {\n",
       "        vertical-align: middle;\n",
       "    }\n",
       "\n",
       "    .dataframe tbody tr th {\n",
       "        vertical-align: top;\n",
       "    }\n",
       "\n",
       "    .dataframe thead th {\n",
       "        text-align: right;\n",
       "    }\n",
       "</style>\n",
       "<table border=\"1\" class=\"dataframe\">\n",
       "  <thead>\n",
       "    <tr style=\"text-align: right;\">\n",
       "      <th></th>\n",
       "      <th>shift</th>\n",
       "      <th>Perfect</th>\n",
       "      <th>Satisfactory</th>\n",
       "      <th>Defective</th>\n",
       "    </tr>\n",
       "  </thead>\n",
       "  <tbody>\n",
       "    <tr>\n",
       "      <th>0</th>\n",
       "      <td>shift1</td>\n",
       "      <td>106</td>\n",
       "      <td>124</td>\n",
       "      <td>6</td>\n",
       "    </tr>\n",
       "    <tr>\n",
       "      <th>1</th>\n",
       "      <td>shift2</td>\n",
       "      <td>67</td>\n",
       "      <td>85</td>\n",
       "      <td>7</td>\n",
       "    </tr>\n",
       "    <tr>\n",
       "      <th>2</th>\n",
       "      <td>shift3</td>\n",
       "      <td>37</td>\n",
       "      <td>72</td>\n",
       "      <td>5</td>\n",
       "    </tr>\n",
       "  </tbody>\n",
       "</table>\n",
       "</div>"
      ],
      "text/plain": [
       "    shift  Perfect  Satisfactory  Defective\n",
       "0  shift1      106           124          6\n",
       "1  shift2       67            85          7\n",
       "2  shift3       37            72          5"
      ]
     },
     "metadata": {},
     "output_type": "display_data"
    }
   ],
   "source": [
    "print(df.shape)\n",
    "print(df.info())\n",
    "display(df.head())"
   ]
  },
  {
   "cell_type": "code",
   "execution_count": 30,
   "id": "17690e1f",
   "metadata": {},
   "outputs": [
    {
     "name": "stdout",
     "output_type": "stream",
     "text": [
      "(3, 3)\n",
      "<class 'pandas.core.frame.DataFrame'>\n",
      "RangeIndex: 3 entries, 0 to 2\n",
      "Data columns (total 3 columns):\n",
      " #   Column        Non-Null Count  Dtype\n",
      "---  ------        --------------  -----\n",
      " 0   Perfect       3 non-null      int64\n",
      " 1   Satisfactory  3 non-null      int64\n",
      " 2   Defective     3 non-null      int64\n",
      "dtypes: int64(3)\n",
      "memory usage: 200.0 bytes\n",
      "None\n"
     ]
    },
    {
     "data": {
      "text/html": [
       "<div>\n",
       "<style scoped>\n",
       "    .dataframe tbody tr th:only-of-type {\n",
       "        vertical-align: middle;\n",
       "    }\n",
       "\n",
       "    .dataframe tbody tr th {\n",
       "        vertical-align: top;\n",
       "    }\n",
       "\n",
       "    .dataframe thead th {\n",
       "        text-align: right;\n",
       "    }\n",
       "</style>\n",
       "<table border=\"1\" class=\"dataframe\">\n",
       "  <thead>\n",
       "    <tr style=\"text-align: right;\">\n",
       "      <th></th>\n",
       "      <th>Perfect</th>\n",
       "      <th>Satisfactory</th>\n",
       "      <th>Defective</th>\n",
       "    </tr>\n",
       "  </thead>\n",
       "  <tbody>\n",
       "    <tr>\n",
       "      <th>0</th>\n",
       "      <td>106</td>\n",
       "      <td>124</td>\n",
       "      <td>6</td>\n",
       "    </tr>\n",
       "    <tr>\n",
       "      <th>1</th>\n",
       "      <td>67</td>\n",
       "      <td>85</td>\n",
       "      <td>7</td>\n",
       "    </tr>\n",
       "    <tr>\n",
       "      <th>2</th>\n",
       "      <td>37</td>\n",
       "      <td>72</td>\n",
       "      <td>5</td>\n",
       "    </tr>\n",
       "  </tbody>\n",
       "</table>\n",
       "</div>"
      ],
      "text/plain": [
       "   Perfect  Satisfactory  Defective\n",
       "0      106           124          6\n",
       "1       67            85          7\n",
       "2       37            72          5"
      ]
     },
     "metadata": {},
     "output_type": "display_data"
    }
   ],
   "source": [
    "print(df2.shape)\n",
    "print(df2.info())\n",
    "display(df2.head())"
   ]
  },
  {
   "cell_type": "code",
   "execution_count": 31,
   "id": "1e7f5d61-9fa3-41a7-9cd7-63ca9fd1f208",
   "metadata": {},
   "outputs": [
    {
     "name": "stdout",
     "output_type": "stream",
     "text": [
      "5.861947681249834\n",
      "0.20969804816985732\n"
     ]
    }
   ],
   "source": [
    "chi2, p, dof, expected = ss.chi2_contingency(df2) \n",
    "print(chi2)\n",
    "print(p)"
   ]
  },
  {
   "cell_type": "code",
   "execution_count": 32,
   "id": "68eed703-7efc-42f4-975c-d0a4ffa31051",
   "metadata": {},
   "outputs": [
    {
     "name": "stdout",
     "output_type": "stream",
     "text": [
      "15.218250950570344\n",
      "0.018625471379884167\n"
     ]
    }
   ],
   "source": [
    "data2 = [183, 168, 171, 169, 190, 224, 210]\n",
    "chisq, p_val = ss.chisquare(data2)\n",
    "\n",
    "print(chisq)\n",
    "print(p_val)"
   ]
  },
  {
   "cell_type": "code",
   "execution_count": 33,
   "id": "55fb79eb-4f0a-4bdc-9b1a-9c0986869679",
   "metadata": {},
   "outputs": [
    {
     "name": "stdout",
     "output_type": "stream",
     "text": [
      "0.06666666666666667 0.012278137799742324\n"
     ]
    }
   ],
   "source": [
    "data3 = [[2, 9],[10, 3]]\n",
    "\n",
    "oddsratio, p_val = ss.fisher_exact(data3)\n",
    "print(oddsratio, p_val)"
   ]
  }
 ],
 "metadata": {
  "kernelspec": {
   "display_name": "ds2025",
   "language": "python",
   "name": "python3"
  },
  "language_info": {
   "codemirror_mode": {
    "name": "ipython",
    "version": 3
   },
   "file_extension": ".py",
   "mimetype": "text/x-python",
   "name": "python",
   "nbconvert_exporter": "python",
   "pygments_lexer": "ipython3",
   "version": "3.9.15"
  }
 },
 "nbformat": 4,
 "nbformat_minor": 5
}
