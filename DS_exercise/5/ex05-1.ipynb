{
 "cells": [
  {
   "cell_type": "code",
   "execution_count": 1,
   "id": "f1beed97",
   "metadata": {},
   "outputs": [],
   "source": [
    "import scipy.stats as ss"
   ]
  },
  {
   "cell_type": "markdown",
   "id": "a51a8bdc",
   "metadata": {},
   "source": [
    "# １番"
   ]
  },
  {
   "cell_type": "code",
   "execution_count": 2,
   "id": "f673aa6f",
   "metadata": {},
   "outputs": [
    {
     "name": "stdout",
     "output_type": "stream",
     "text": [
      "0.8399948480369128\n"
     ]
    }
   ],
   "source": [
    "A = ss.norm.cdf(x=25,loc=10,scale=5)\n",
    "B = ss.norm.cdf(x=5,loc=10,scale=5)\n",
    "print(A-B)"
   ]
  },
  {
   "cell_type": "markdown",
   "id": "bea5422c",
   "metadata": {},
   "source": [
    "# ２番"
   ]
  },
  {
   "cell_type": "code",
   "execution_count": 3,
   "id": "c3e6b8d9",
   "metadata": {},
   "outputs": [
    {
     "name": "stdout",
     "output_type": "stream",
     "text": [
      "0.7745375447996848\n"
     ]
    }
   ],
   "source": [
    "C = ss.norm.cdf(x=70,loc=60,scale=10)\n",
    "D = ss.norm.cdf(x=45,loc=60,scale=10)\n",
    "print(C-D)"
   ]
  },
  {
   "cell_type": "markdown",
   "id": "0c87317c",
   "metadata": {},
   "source": [
    "# ３番"
   ]
  },
  {
   "cell_type": "code",
   "execution_count": 4,
   "id": "7497568a",
   "metadata": {},
   "outputs": [
    {
     "name": "stdout",
     "output_type": "stream",
     "text": [
      "79.22327348316901\n"
     ]
    }
   ],
   "source": [
    "print(ss.norm.ppf(q=0.9,loc=60,scale=15))"
   ]
  },
  {
   "cell_type": "markdown",
   "id": "c9dd9b3f",
   "metadata": {},
   "source": [
    "# ４番"
   ]
  },
  {
   "cell_type": "code",
   "execution_count": 6,
   "id": "905d1e5a",
   "metadata": {},
   "outputs": [
    {
     "name": "stdout",
     "output_type": "stream",
     "text": [
      "153.6724487509804\n"
     ]
    }
   ],
   "source": [
    "print(ss.norm.ppf(q=3/4, loc=150.3,scale=5))"
   ]
  },
  {
   "cell_type": "code",
   "execution_count": 7,
   "id": "c9d4146b",
   "metadata": {},
   "outputs": [
    {
     "name": "stdout",
     "output_type": "stream",
     "text": [
      "158.52426813475736\n"
     ]
    }
   ],
   "source": [
    "print(ss.norm.ppf(q=0.95, loc=150.3,scale=5))"
   ]
  },
  {
   "cell_type": "markdown",
   "id": "256b56e4",
   "metadata": {},
   "source": [
    "# ５番"
   ]
  },
  {
   "cell_type": "code",
   "execution_count": 8,
   "id": "7064d03a",
   "metadata": {},
   "outputs": [
    {
     "name": "stdout",
     "output_type": "stream",
     "text": [
      "0.18887560283756177\n"
     ]
    }
   ],
   "source": [
    "print(1-ss.expon.cdf(x=50,scale=30))"
   ]
  }
 ],
 "metadata": {
  "kernelspec": {
   "display_name": "ds2025",
   "language": "python",
   "name": "python3"
  },
  "language_info": {
   "codemirror_mode": {
    "name": "ipython",
    "version": 3
   },
   "file_extension": ".py",
   "mimetype": "text/x-python",
   "name": "python",
   "nbconvert_exporter": "python",
   "pygments_lexer": "ipython3",
   "version": "3.9.15"
  }
 },
 "nbformat": 4,
 "nbformat_minor": 5
}
