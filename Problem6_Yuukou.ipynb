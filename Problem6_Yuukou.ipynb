{
 "cells": [
  {
   "cell_type": "markdown",
   "metadata": {},
   "source": [
    "# 問6 プログラム"
   ]
  },
  {
   "cell_type": "markdown",
   "metadata": {},
   "source": [
    "#########のところを書き換える"
   ]
  },
  {
   "cell_type": "code",
   "execution_count": 1,
   "metadata": {},
   "outputs": [
    {
     "name": "stdout",
     "output_type": "stream",
     "text": [
      "\n",
      "見つかった負の閉路:\n",
      "  閉路 1つ目: 2 -> 4 -> 7 -> 8 -> 5 -> 6 -> 2, 重み: -1\n"
     ]
    }
   ],
   "source": [
    "import collections\n",
    "\n",
    "def find_negative_cycles(edges_str):\n",
    "    adj = collections.defaultdict(list)\n",
    "    nodes = set()\n",
    "    for line in edges_str.strip().split('\\n'):\n",
    "        if line.startswith('#') or not line.strip():\n",
    "            continue\n",
    "        try:\n",
    "            u, v, w = map(int, line.split())\n",
    "            adj[u].append((v, w))\n",
    "            nodes.add(u)\n",
    "            nodes.add(v)\n",
    "        except ValueError:\n",
    "            print(f\"警告: 無効な行をスキップしました: {line}\")\n",
    "            continue\n",
    "\n",
    "    if not nodes:\n",
    "        return []\n",
    "\n",
    "    negative_cycles_found_intermediate = [] \n",
    "\n",
    "    for start_node_for_dfs in nodes:\n",
    "        stack = [(start_node_for_dfs, [start_node_for_dfs], {start_node_for_dfs}, 0)]\n",
    "\n",
    "        while stack:\n",
    "            curr_node, path_list, visited_set, current_path_weight = stack.pop()\n",
    "\n",
    "            for neighbor_node, edge_w in adj[curr_node]:\n",
    "                path_weight_to_neighbor = current_path_weight + edge_w\n",
    "\n",
    "                if neighbor_node == start_node_for_dfs:\n",
    "                    if path_weight_to_neighbor < 0:\n",
    "                        negative_cycles_found_intermediate.append((tuple(path_list), path_weight_to_neighbor))\n",
    "                elif neighbor_node not in visited_set:\n",
    "                    if len(path_list) < len(nodes):\n",
    "                        new_path_list = path_list + [neighbor_node]\n",
    "                        new_visited_set = visited_set | {neighbor_node}\n",
    "                        stack.append((neighbor_node, new_path_list, new_visited_set, path_weight_to_neighbor))\n",
    "\n",
    "    unique_negative_cycles_final = []\n",
    "    seen_normalized_repr = set()\n",
    "\n",
    "    for path_tuple, weight in negative_cycles_found_intermediate:\n",
    "        if not path_tuple:\n",
    "            continue\n",
    "\n",
    "        p_list = list(path_tuple)\n",
    "\n",
    "        min_node_in_cycle = min(p_list)\n",
    "        current_best_normalized_tuple = None\n",
    "\n",
    "        for i in range(len(p_list)):\n",
    "            rotated_list = p_list[i:] + p_list[:i]\n",
    "            if rotated_list[0] == min_node_in_cycle: \n",
    "                candidate_tuple = tuple(rotated_list)\n",
    "                if current_best_normalized_tuple is None or candidate_tuple < current_best_normalized_tuple:\n",
    "                    current_best_normalized_tuple = candidate_tuple\n",
    "\n",
    "        if current_best_normalized_tuple is not None:\n",
    "            normalized_cycle_representation_for_set = (current_best_normalized_tuple, weight)\n",
    "\n",
    "            if normalized_cycle_representation_for_set not in seen_normalized_repr:\n",
    "                unique_negative_cycles_final.append((list(current_best_normalized_tuple), weight))\n",
    "                seen_normalized_repr.add(normalized_cycle_representation_for_set)\n",
    "\n",
    "    return unique_negative_cycles_final\n",
    "\n",
    "if __name__ == '__main__':\n",
    "    ############################# ここを書き換える\n",
    "    graph_input_str = \"\"\"\n",
    "# 始点ノード 終点ノード 重み\n",
    "1 2 3\n",
    "1 4 2\n",
    "2 4 -3\n",
    "2 3 1\n",
    "4 5 1\n",
    "4 7 1\n",
    "5 2 5\n",
    "5 6 3\n",
    "6 2 -1\n",
    "6 3 2\n",
    "6 8 -2\n",
    "6 9 -5\n",
    "7 8 -2\n",
    "8 4 2\n",
    "8 5 1\n",
    "9 8 5\n",
    "\"\"\"\n",
    "################################\n",
    "\n",
    "    negative_cycles = find_negative_cycles(graph_input_str)\n",
    "\n",
    "    if negative_cycles:\n",
    "        print(\"\\n見つかった負の閉路:\")\n",
    "        for i, (path_nodes_list, weight) in enumerate(negative_cycles):\n",
    "            cycle_str = \" -> \".join(map(str, path_nodes_list)) + f\" -> {path_nodes_list[0]}\"\n",
    "            print(f\"  閉路 {i+1}つ目: {cycle_str}, 重み: {weight}\")\n",
    "    else:\n",
    "        print(\"\\n負の閉路は見つかりませんでした。\")"
   ]
  }
 ],
 "metadata": {
  "kernelspec": {
   "display_name": "ds2024",
   "language": "python",
   "name": "python3"
  },
  "language_info": {
   "codemirror_mode": {
    "name": "ipython",
    "version": 3
   },
   "file_extension": ".py",
   "mimetype": "text/x-python",
   "name": "python",
   "nbconvert_exporter": "python",
   "pygments_lexer": "ipython3",
   "version": "3.9.15"
  }
 },
 "nbformat": 4,
 "nbformat_minor": 2
}
